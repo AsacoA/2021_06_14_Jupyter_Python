{
 "cells": [
  {
   "cell_type": "markdown",
   "id": "9c150877",
   "metadata": {
    "pycharm": {
     "name": "#%% md\n"
    }
   },
   "source": [
    "## 파이썬 본문\n",
    "---\n",
    "- ### 4. 변수와 변수 출력"
   ]
  },
  {
   "cell_type": "code",
   "execution_count": 1,
   "id": "b9dd118d",
   "metadata": {},
   "outputs": [
    {
     "name": "stdout",
     "output_type": "stream",
     "text": [
      "10\n",
      "50\n",
      "80\n",
      "30\n"
     ]
    }
   ],
   "source": [
    "# section_004.py\n",
    "\n",
    "apple = 10\n",
    "lemon, banana = 20, 50\n",
    "fruit = apple + lemon + banana\n",
    "\n",
    "print(apple)\n",
    "print(banana)\n",
    "print(fruit)\n",
    "\n",
    "apple = 30\n",
    "print(apple)"
   ]
  },
  {
   "cell_type": "markdown",
   "id": "e9fabc46",
   "metadata": {
    "pycharm": {
     "name": "#%% md\n"
    }
   },
   "source": [
    "- ### 5. 간단한 연산 맛보기"
   ]
  },
  {
   "cell_type": "code",
   "execution_count": 2,
   "id": "00b194af",
   "metadata": {},
   "outputs": [
    {
     "data": {
      "text/plain": "1.5"
     },
     "execution_count": 2,
     "metadata": {},
     "output_type": "execute_result"
    }
   ],
   "source": [
    "add = 3 + 25\n",
    "sub = 45 - 13\n",
    "mul = 9 * 9\n",
    "div = 3 / 2\n",
    "\n",
    "add\n",
    "sub\n",
    "mul\n",
    "div"
   ]
  },
  {
   "cell_type": "markdown",
   "id": "853ba2cb",
   "metadata": {
    "pycharm": {
     "name": "#%% md\n"
    }
   },
   "source": [
    "- ### 6. 문자열 맛보기"
   ]
  },
  {
   "cell_type": "code",
   "execution_count": 3,
   "id": "61a26690",
   "metadata": {
    "scrolled": true
   },
   "outputs": [
    {
     "name": "stdout",
     "output_type": "stream",
     "text": [
      "안녕하세요\n",
      "I love the Earth!\n",
      "내가 좋아하는 숫자는 1, 4, 7입니다\n"
     ]
    }
   ],
   "source": [
    "print('안녕하세요')\n",
    "print('I love the Earth!')\n",
    "print(\"내가 좋아하는 숫자는 1, 4, 7입니다\")"
   ]
  },
  {
   "cell_type": "code",
   "execution_count": 4,
   "id": "c2407ac5",
   "metadata": {},
   "outputs": [
    {
     "name": "stdout",
     "output_type": "stream",
     "text": [
      "'\n"
     ]
    }
   ],
   "source": [
    "print('\\'')"
   ]
  },
  {
   "cell_type": "markdown",
   "id": "20932dd1",
   "metadata": {
    "pycharm": {
     "name": "#%% md\n"
    }
   },
   "source": [
    "- ### 7. 파이썬 문장"
   ]
  },
  {
   "cell_type": "code",
   "execution_count": 83,
   "id": "e26c9e1f",
   "metadata": {},
   "outputs": [
    {
     "name": "stdout",
     "output_type": "stream",
     "text": [
      "1\n",
      "60\n",
      "45\n",
      "['red', 'blue', 'green']\n"
     ]
    }
   ],
   "source": [
    "number = 1\n",
    "print(number)\n",
    "\n",
    "num1 = 10\n",
    "num2 = 20\n",
    "num3 = 30\n",
    "print(num1 + num2 + num3)\n",
    "\n",
    "tup = (1+2+3+4+5+6+7+8+9)\n",
    "print(tup)\n",
    "\n",
    "color = ['red', 'blue', 'green']\n",
    "print(color)"
   ]
  },
  {
   "cell_type": "markdown",
   "id": "2bf6a3cd",
   "metadata": {
    "pycharm": {
     "name": "#%% md\n"
    }
   },
   "source": [
    "- ### 8. 함수 맛보기"
   ]
  },
  {
   "cell_type": "code",
   "execution_count": 6,
   "id": "80b39eca",
   "metadata": {},
   "outputs": [
    {
     "name": "stdout",
     "output_type": "stream",
     "text": [
      "안녕! 나도 함수야\n",
      "16\n",
      "63\n",
      "2\n",
      "TEST\n"
     ]
    }
   ],
   "source": [
    "print(\"안녕! 나도 함수야\")\n",
    "\n",
    "print(len(\"이 문자열의 길이는 얼마일까?\"))\n",
    "\n",
    "print(max(11,2,63,47,50))\n",
    "print(min(11,2,63,47,50))\n",
    "\n",
    "thisdict = {\n",
    "    \"brand\": {\"Ford\" : \"TEST\"},\n",
    "    \"model\": \"Mustang\",\n",
    "    \"year\": 1964\n",
    "}\n",
    "print(thisdict[\"brand\"][\"Ford\"])"
   ]
  },
  {
   "cell_type": "markdown",
   "id": "90ca9f05",
   "metadata": {
    "pycharm": {
     "name": "#%% md\n"
    }
   },
   "source": [
    "- ### 10. 모듈 맛보기"
   ]
  },
  {
   "cell_type": "code",
   "execution_count": 7,
   "id": "de6efeeb",
   "metadata": {},
   "outputs": [
    {
     "name": "stdout",
     "output_type": "stream",
     "text": [
      "3.141592653589793\n",
      "16.0\n",
      "반지름이 10인 원의 둘레는 62.83185307179586 이다\n"
     ]
    }
   ],
   "source": [
    "import math as ma\n",
    "\n",
    "print(ma.pi)\n",
    "print(ma.sqrt(256))\n",
    "\n",
    "r = 10\n",
    "cir = 2 * ma.pi * r\n",
    "print(f\"반지름이 {r}인 원의 둘레는 {cir} 이다\")"
   ]
  },
  {
   "cell_type": "markdown",
   "id": "d22dcabd",
   "metadata": {
    "pycharm": {
     "name": "#%% md\n"
    }
   },
   "source": [
    "- ### 12, 13. 복합 대입 연산자, 연산자 우선 순위"
   ]
  },
  {
   "cell_type": "code",
   "execution_count": 8,
   "id": "59c4d63d",
   "metadata": {},
   "outputs": [
    {
     "name": "stdout",
     "output_type": "stream",
     "text": [
      "6\n",
      "7\n",
      "70\n",
      "15\n",
      "32\n",
      "282\n"
     ]
    }
   ],
   "source": [
    "\n",
    "x = 5\n",
    "\n",
    "x = x + 1\n",
    "\n",
    "print(x)\n",
    "x += 1\n",
    "print(x)\n",
    "\n",
    "y = 10\n",
    "y *= x\n",
    "print(y)\n",
    "\n",
    "x = 5\n",
    "x = x + 1 * 10 # x = x + (1 * 10)\n",
    "print(x)\n",
    "\n",
    "y = 42 - 1 + 1 - 10\n",
    "print(y)\n",
    "\n",
    "z = (x + y) * 6\n",
    "print(z)"
   ]
  },
  {
   "cell_type": "markdown",
   "id": "076291a9",
   "metadata": {
    "pycharm": {
     "name": "#%% md\n"
    }
   },
   "source": [
    "- ### 14. 여러 개의 값 출력하기"
   ]
  },
  {
   "cell_type": "code",
   "execution_count": 9,
   "id": "e1aaea99",
   "metadata": {},
   "outputs": [
    {
     "name": "stdout",
     "output_type": "stream",
     "text": [
      "질량은 100\n",
      "높이는 1.7\n",
      "중력가속도는 9.8065\n"
     ]
    }
   ],
   "source": [
    "mass = 100\n",
    "height = 1.7\n",
    "g = 9.8065\n",
    "\n",
    "print(f'질량은 {mass}')\n",
    "print(f'높이는 {height}')\n",
    "print(f'중력가속도는 {g}')"
   ]
  },
  {
   "cell_type": "markdown",
   "id": "4447ed14",
   "metadata": {
    "pycharm": {
     "name": "#%% md\n"
    }
   },
   "source": [
    "- ### 21. 문자열 연산"
   ]
  },
  {
   "cell_type": "code",
   "execution_count": 10,
   "id": "544c3339",
   "metadata": {},
   "outputs": [
    {
     "name": "stdout",
     "output_type": "stream",
     "text": [
      "========================================\n",
      "Python 훌륭한 프로그래밍 언어이다\n",
      "Python은 훌륭한 프로그래밍 언어이다\n",
      "꿈과 도전\n",
      "========================================\n"
     ]
    }
   ],
   "source": [
    "print(\"=\" * 40)\n",
    "print(\"Python\" + \" 훌륭한 프로그래밍 언어이다\")\n",
    "\n",
    "head = \"Python은\"\n",
    "tail = \" 훌륭한 프로그래밍 언어이다\"\n",
    "string = head + tail\n",
    "print(string)\n",
    "\n",
    "str1 = \"꿈\"\n",
    "str2 = \"과\"\n",
    "str3 = \"도\"\n",
    "str4 = \"전\"\n",
    "\n",
    "print(str1 + str2 + \" \" + str3 + str4)\n",
    "print(\"=\" * 40)"
   ]
  },
  {
   "cell_type": "markdown",
   "id": "77cfd293",
   "metadata": {
    "pycharm": {
     "name": "#%% md\n"
    }
   },
   "source": [
    "- ### 22. 문자열 인덱싱"
   ]
  },
  {
   "cell_type": "code",
   "execution_count": 11,
   "id": "3f353d8e",
   "metadata": {},
   "outputs": [
    {
     "name": "stdout",
     "output_type": "stream",
     "text": [
      "N\n",
      "A\n",
      "E\n",
      "E\n",
      "R\n",
      "N\n"
     ]
    }
   ],
   "source": [
    "string = \"NATURE\"\n",
    "\n",
    "print(string[0])\n",
    "print(string[1])\n",
    "print(string[5])\n",
    "\n",
    "print(string[-1])\n",
    "print(string[-2])\n",
    "print(string[-6])"
   ]
  },
  {
   "cell_type": "markdown",
   "id": "358d0335",
   "metadata": {
    "pycharm": {
     "name": "#%% md\n"
    }
   },
   "source": [
    "- ### 23. 문자열 슬라이싱"
   ]
  },
  {
   "cell_type": "code",
   "execution_count": 12,
   "id": "a6ed1232",
   "metadata": {},
   "outputs": [
    {
     "name": "stdout",
     "output_type": "stream",
     "text": [
      "수비 수밥 비니 리떡\n"
     ]
    }
   ],
   "source": [
    "string = \"수제비, 옥수수밥, 너비아니, 수리취떡\"\n",
    "print(string[::2])"
   ]
  },
  {
   "cell_type": "markdown",
   "id": "c20a857c",
   "metadata": {
    "pycharm": {
     "name": "#%% md\n"
    }
   },
   "source": [
    "- ### 25. 문자열 관련 메서드"
   ]
  },
  {
   "cell_type": "code",
   "id": "b3f6e4d1",
   "metadata": {
    "pycharm": {
     "name": "#%%\n"
    }
   },
   "source": [
    "myStr = \"Hello, My little baby\"\n",
    "print(myStr.upper())\n",
    "print(myStr.lower())\n",
    "print(myStr.title())\n",
    "print()\n",
    "\n",
    "print(myStr.count('b'))\n",
    "print(myStr.endswith('y'))\n",
    "print(myStr.startswith('h'))\n",
    "print(myStr.lower().endswith('h'))\n",
    "print()\n",
    "\n",
    "print(myStr.split())\n",
    "print(myStr.split(','))\n",
    "print()\n",
    "\n",
    "myStrfill = myStr.zfill(30)\n",
    "print(myStrfill)"
   ],
   "execution_count": 13,
   "outputs": [
    {
     "name": "stdout",
     "output_type": "stream",
     "text": [
      "HELLO, MY LITTLE BABY\n",
      "hello, my little baby\n",
      "Hello, My Little Baby\n",
      "\n",
      "2\n",
      "True\n",
      "False\n",
      "False\n",
      "\n",
      "['Hello,', 'My', 'little', 'baby']\n",
      "['Hello', ' My little baby']\n",
      "\n",
      "000000000Hello, My little baby\n"
     ]
    }
   ]
  },
  {
   "cell_type": "code",
   "id": "8b0070b4",
   "metadata": {
    "scrolled": true,
    "pycharm": {
     "name": "#%%\n"
    }
   },
   "source": [
    "count = [1,2,3,4,5,'string']\n",
    "print(count[-1][::-1])\n",
    "print(count[::-1])"
   ],
   "execution_count": 14,
   "outputs": [
    {
     "name": "stdout",
     "output_type": "stream",
     "text": [
      "gnirts\n",
      "['string', 5, 4, 3, 2, 1]\n"
     ]
    }
   ]
  },
  {
   "cell_type": "code",
   "id": "a8e6d412",
   "metadata": {
    "pycharm": {
     "name": "#%%\n"
    }
   },
   "source": [
    "kor = \"가나다라마바사아자차카타파하\"\n",
    "print(kor[::3])\n",
    "print(kor[-2::-3])"
   ],
   "execution_count": 15,
   "outputs": [
    {
     "name": "stdout",
     "output_type": "stream",
     "text": [
      "가라사차파\n",
      "파차사라가\n"
     ]
    }
   ]
  },
  {
   "cell_type": "code",
   "id": "482dd951",
   "metadata": {
    "pycharm": {
     "name": "#%%\n"
    }
   },
   "source": [
    "cheeses = ['체다', '모짜렐라', '까망베르', '리코타']\n",
    "print(cheeses)\n",
    "\n",
    "cheeses[0] = '크림'\n",
    "print(cheeses)\n",
    "\n",
    "all = cheeses + ['블루']\n",
    "print(all)\n",
    "print(cheeses)"
   ],
   "execution_count": 16,
   "outputs": [
    {
     "name": "stdout",
     "output_type": "stream",
     "text": [
      "['체다', '모짜렐라', '까망베르', '리코타']\n",
      "['크림', '모짜렐라', '까망베르', '리코타']\n",
      "['크림', '모짜렐라', '까망베르', '리코타', '블루']\n",
      "['크림', '모짜렐라', '까망베르', '리코타']\n"
     ]
    }
   ]
  },
  {
   "cell_type": "code",
   "id": "77e10607",
   "metadata": {
    "pycharm": {
     "name": "#%%\n"
    }
   },
   "source": [
    "colors = ['red', 'orange', 'yellow', 'green', 'yellow']\n",
    "print(colors)\n",
    "\n",
    "colors.sort()\n",
    "print(colors)\n",
    "\n",
    "colors.reverse()\n",
    "print(colors)\n",
    "print()\n",
    "\n",
    "print(colors.pop())\n",
    "print(colors)\n",
    "print()\n",
    "\n",
    "colors.remove('red')\n",
    "print(colors)\n",
    "\n",
    "print(colors.count('yellow'))"
   ],
   "execution_count": 17,
   "outputs": [
    {
     "name": "stdout",
     "output_type": "stream",
     "text": [
      "['red', 'orange', 'yellow', 'green', 'yellow']\n",
      "['green', 'orange', 'red', 'yellow', 'yellow']\n",
      "['yellow', 'yellow', 'red', 'orange', 'green']\n",
      "\n",
      "green\n",
      "['yellow', 'yellow', 'red', 'orange']\n",
      "\n",
      "['yellow', 'yellow', 'orange']\n",
      "2\n"
     ]
    }
   ]
  },
  {
   "cell_type": "markdown",
   "id": "b4c9bcd6",
   "metadata": {},
   "source": [
    "## 제어문\n",
    "---\n",
    "- ## 조건문\n",
    "---\n",
    "- - ### 테스트"
   ]
  },
  {
   "cell_type": "code",
   "id": "113770e0",
   "metadata": {
    "pycharm": {
     "name": "#%%\n"
    }
   },
   "source": [
    "if True:\n",
    "    print('h1')\n",
    "    print('h2')\n",
    "    print('h3')\n",
    "    ...\n",
    "\n",
    "# if False:\n",
    "#     print('This is False')\n",
    "#     #출력안됨\n",
    "\n",
    "isTrue = 0\n",
    "print('isTrue : ', isTrue)\n",
    "\n",
    "if isTrue:\n",
    "    print('it is true')\n",
    "else:\n",
    "    print('it is false')\n",
    "\n",
    "var = ''\n",
    "\n",
    "if var:\n",
    "    print('it is not blank')\n",
    "else:\n",
    "    print('it is black')"
   ],
   "execution_count": 18,
   "outputs": [
    {
     "name": "stdout",
     "output_type": "stream",
     "text": [
      "h1\n",
      "h2\n",
      "h3\n",
      "isTrue :  0\n",
      "it is false\n",
      "it is black\n"
     ]
    }
   ]
  },
  {
   "cell_type": "markdown",
   "source": [
    "- - ### if in"
   ],
   "metadata": {
    "collapsed": false,
    "pycharm": {
     "name": "#%% md\n"
    }
   }
  },
  {
   "cell_type": "code",
   "source": [
    "br31 = ['사빠딸', '오버더레인보우', '쿠앤크', '슈팅스타', '민트초코',\n",
    "        '뉴욕치즈케이크','엄마는외계인','아빠는딸바보', '바람과함께사라지다',\n",
    "        '매쉬업스']\n",
    "\n",
    "want = '사빠딸'\n",
    "\n",
    "print(want in br31)\n",
    "\n",
    "if want in br31:\n",
    "    print(want ,'하나 주세요')\n",
    "else:\n",
    "    print(want, '품절')"
   ],
   "metadata": {
    "collapsed": false,
    "pycharm": {
     "name": "#%%\n"
    }
   },
   "execution_count": 19,
   "outputs": [
    {
     "name": "stdout",
     "output_type": "stream",
     "text": [
      "True\n",
      "사빠딸 하나 주세요\n"
     ]
    }
   ]
  },
  {
   "cell_type": "markdown",
   "source": [
    "- - ### if not in"
   ],
   "metadata": {
    "collapsed": false,
    "pycharm": {
     "name": "#%% md\n"
    }
   }
  },
  {
   "cell_type": "code",
   "source": [
    "print(want not in br31)\n",
    "\n",
    "if want not in br31:\n",
    "    print(want ,'하나 주세요')\n",
    "else:\n",
    "    print(want, '품절')"
   ],
   "metadata": {
    "collapsed": false,
    "pycharm": {
     "name": "#%%\n"
    }
   },
   "execution_count": 20,
   "outputs": [
    {
     "name": "stdout",
     "output_type": "stream",
     "text": [
      "False\n",
      "사빠딸 품절\n"
     ]
    }
   ]
  },
  {
   "cell_type": "markdown",
   "source": [
    "- - ### if elif (If else if)"
   ],
   "metadata": {
    "collapsed": false,
    "pycharm": {
     "name": "#%% md\n"
    }
   }
  },
  {
   "cell_type": "code",
   "source": [
    "howmany = 3\n",
    "if howmany == 1:\n",
    "    print(f'사람에 빠진 딸기 {howmany}개 있어요')\n",
    "elif howmany == 2:\n",
    "    print(f'사랑에 빠진 딸기 {howmany}개 있어요')\n",
    "else:\n",
    "    print(f'사랑에 빠진 딸기 {howmany}개 있어요')"
   ],
   "metadata": {
    "collapsed": false,
    "pycharm": {
     "name": "#%%\n"
    }
   },
   "execution_count": 21,
   "outputs": [
    {
     "name": "stdout",
     "output_type": "stream",
     "text": [
      "사랑에 빠진 딸기 3개 있어요\n"
     ]
    }
   ]
  },
  {
   "cell_type": "markdown",
   "source": [
    "- ## 반복문\n",
    "---\n",
    "- - ### while"
   ],
   "metadata": {
    "collapsed": false,
    "pycharm": {
     "name": "#%% md\n"
    }
   },
   "execution_count": 463
  },
  {
   "cell_type": "code",
   "source": [
    "while br31:\n",
    "    now = br31.pop()\n",
    "    print(now)"
   ],
   "metadata": {
    "collapsed": false,
    "pycharm": {
     "name": "#%%\n"
    }
   },
   "execution_count": 22,
   "outputs": [
    {
     "name": "stdout",
     "output_type": "stream",
     "text": [
      "매쉬업스\n",
      "바람과함께사라지다\n",
      "아빠는딸바보\n",
      "엄마는외계인\n",
      "뉴욕치즈케이크\n",
      "민트초코\n",
      "슈팅스타\n",
      "쿠앤크\n",
      "오버더레인보우\n",
      "사빠딸\n"
     ]
    }
   ]
  },
  {
   "cell_type": "markdown",
   "source": [
    "- - ### for"
   ],
   "metadata": {
    "collapsed": false,
    "pycharm": {
     "name": "#%% md\n"
    }
   }
  },
  {
   "cell_type": "code",
   "source": [
    "br31 = ['사빠딸', '오버더레인보우', '쿠앤크', '슈팅스타', '민트초코',\n",
    "        '뉴욕치즈케이크','엄마는외계인','아빠는딸바보', '바람과함께사라지다',\n",
    "        '매쉬업스']\n",
    "for i in br31:\n",
    "    print(i, end=', ')"
   ],
   "metadata": {
    "collapsed": false,
    "pycharm": {
     "name": "#%%\n"
    }
   },
   "execution_count": 23,
   "outputs": [
    {
     "name": "stdout",
     "output_type": "stream",
     "text": [
      "사빠딸, 오버더레인보우, 쿠앤크, 슈팅스타, 민트초코, 뉴욕치즈케이크, 엄마는외계인, 아빠는딸바보, 바람과함께사라지다, 매쉬업스, "
     ]
    }
   ]
  },
  {
   "cell_type": "markdown",
   "source": [
    "- ### break\n",
    "---"
   ],
   "metadata": {
    "collapsed": false
   }
  },
  {
   "cell_type": "code",
   "execution_count": null,
   "outputs": [],
   "source": [
    "for item in range(30):\n",
    "    if item%2: print(item)\n",
    "    else: pass\n",
    "\n",
    "    if item == 10: break"
   ],
   "metadata": {
    "collapsed": false,
    "pycharm": {
     "name": "#%%\n"
    }
   }
  },
  {
   "cell_type": "markdown",
   "source": [
    "# **continue**"
   ],
   "metadata": {
    "collapsed": false
   }
  },
  {
   "cell_type": "code",
   "execution_count": null,
   "outputs": [],
   "source": [
    "for item in range(30):\n",
    "    if item%2:\n",
    "        print(item)\n",
    "        continue\n",
    "    print(f'{item}, 프린트가 될까')"
   ],
   "metadata": {
    "collapsed": false,
    "pycharm": {
     "name": "#%%\n"
    }
   }
  },
  {
   "cell_type": "markdown",
   "source": [
    "## 내장함수\n",
    "---\n",
    "- ### range()"
   ],
   "metadata": {
    "collapsed": false,
    "pycharm": {
     "name": "#%% md\n"
    }
   }
  },
  {
   "cell_type": "code",
   "source": [
    "for i in range(10):\n",
    "    print(i, end=',')\n",
    "    ...\n",
    "\n",
    "print()\n",
    "print(\"=\"*20)\n",
    "for i in range(1,6):\n",
    "    print(i, end=',')\n",
    "    ...\n",
    "print()\n",
    "print(\"=\"*20)\n",
    "\n",
    "for i in range(10,21,2):\n",
    "    print(i, end=',')"
   ],
   "metadata": {
    "collapsed": false,
    "pycharm": {
     "name": "#%%\n"
    }
   },
   "execution_count": 24,
   "outputs": [
    {
     "name": "stdout",
     "output_type": "stream",
     "text": [
      "0,1,2,3,4,5,6,7,8,9,\n",
      "====================\n",
      "1,2,3,4,5,\n",
      "====================\n",
      "10,12,14,16,18,20,"
     ]
    }
   ]
  },
  {
   "cell_type": "markdown",
   "source": [
    "# **dict**"
   ],
   "metadata": {
    "collapsed": false,
    "pycharm": {
     "name": "#%% md\n"
    }
   }
  },
  {
   "cell_type": "code",
   "execution_count": 27,
   "outputs": [
    {
     "name": "stdout",
     "output_type": "stream",
     "text": [
      "{'name': 'mr. Kang', 14003: [3, 2, 0, 1]}\n",
      "mr. Kang\n",
      "{'name': 'mr. Kang', 14003: [3, 2, 0, 1], 'added1': '+', 'added2': '+'}\n",
      "{'name': 'mr. Kang', 14003: [3, 2, 0, 1]}\n",
      "============================================================\n",
      "dict_items([(7, '김준하'), (8, '문준상'), (13, '유성찬'), (14, '이수빈')])\n",
      "dict_keys([7, 8, 13, 14])\n",
      "dict_values(['김준하', '문준상', '유성찬', '이수빈'])\n",
      "============================================================\n",
      "7번째 학생은 김준하입니다\n",
      "8번째 학생은 문준상입니다\n",
      "13번째 학생은 유성찬입니다\n",
      "14번째 학생은 이수빈입니다\n",
      "============================================================\n",
      "7번째 학생은 김준하입니다\n",
      "8번째 학생은 문준상입니다\n",
      "13번째 학생은 유성찬입니다\n",
      "14번째 학생은 이수빈입니다\n"
     ]
    }
   ],
   "source": [
    "# my_dict = {'fishing' : '낚시질',\n",
    "#            'fishing banks' : '어초',\n",
    "#            'fishing boat' : '낚싯배'}\n",
    "# my_dict = {1 : \"수소\",\n",
    "#            2 : \"헬륨\",\n",
    "#            3 : \"리튬\",\n",
    "#            4 : \"베릴륨\"}\n",
    "\n",
    "my_dict = {'name' : 'mr. Kang',\n",
    "           14003 : [3,2,0,1]}\n",
    "\n",
    "# my_dict = dict([(1, '서울'), (2, '부산')])\n",
    "print(my_dict)\n",
    "\n",
    "my_exo = {'name' : '찬열',\n",
    "          'age' : 25,\n",
    "          'manager' : 'SM',\n",
    "          'jop' : 'singer'}\n",
    "\n",
    "#dict의 값 추출하기\n",
    "print(my_dict['name'])\n",
    "\n",
    "#dict의 값 추가하기\n",
    "my_dict['added1'] = '+'\n",
    "my_dict['added2'] = '+'\n",
    "print(my_dict)\n",
    "\n",
    "#dict의 값 제거하기 1\n",
    "my_dict.pop('added1')\n",
    "#dict의 값 제거하기 2\n",
    "del my_dict['added2']\n",
    "print(my_dict)\n",
    "\n",
    "print(\"=\"*60)\n",
    "student = {7 : '김준하',\n",
    "           8 : '문준상',\n",
    "           13 : '유성찬',\n",
    "           14 : '이수빈'}\n",
    "print(student.items())\n",
    "print(student.keys())\n",
    "print(student.values())\n",
    "\n",
    "print(\"=\"*60)\n",
    "\n",
    "for i in student.keys():\n",
    "    print(f'{i}번째 학생은 {student[i]}입니다')\n",
    "\n",
    "print(\"=\"*60)\n",
    "\n",
    "for k, v in student.items():\n",
    "    print(f'{k}번째 학생은 {v}입니다')\n",
    "# print(my_exo)\n",
    "# print(type(my_exo))"
   ],
   "metadata": {
    "collapsed": false,
    "pycharm": {
     "name": "#%%\n"
    }
   }
  },
  {
   "cell_type": "markdown",
   "source": [
    "# **enumerate**"
   ],
   "metadata": {
    "collapsed": false,
    "pycharm": {
     "name": "#%% md\n"
    }
   }
  },
  {
   "cell_type": "code",
   "execution_count": 28,
   "outputs": [
    {
     "name": "stdout",
     "output_type": "stream",
     "text": [
      "0위 가수는 남진\n",
      "1위 가수는 조용필\n",
      "2위 가수는 태진아\n",
      "3위 가수는 나훈아\n",
      "============================================================\n",
      "0위 가수는 남진\n",
      "1위 가수는 조용필\n",
      "2위 가수는 태진아\n",
      "3위 가수는 나훈아\n",
      "============================================================\n"
     ]
    }
   ],
   "source": [
    "artists = ['남진', '조용필', '태진아', '나훈아']\n",
    "\n",
    "for i in range(4):\n",
    "    print(f'{i}위 가수는 {artists[i]}')\n",
    "print('='*60)\n",
    "\n",
    "for i, artists in enumerate(artists):\n",
    "    print(f'{i}위 가수는 {artists}')\n",
    "print('='*60)"
   ],
   "metadata": {
    "collapsed": false,
    "pycharm": {
     "name": "#%%\n"
    }
   }
  },
  {
   "cell_type": "markdown",
   "source": [
    "# **zip**"
   ],
   "metadata": {
    "collapsed": false,
    "pycharm": {
     "name": "#%% md\n"
    }
   }
  },
  {
   "cell_type": "code",
   "execution_count": 29,
   "outputs": [
    {
     "name": "stdout",
     "output_type": "stream",
     "text": [
      "track1 : 남진\n",
      "track2 : 조용필\n",
      "track3 : 태진아\n",
      "track4 : 나훈아\n"
     ]
    }
   ],
   "source": [
    "playlist = ['track1', 'track2', 'track3', 'track4']\n",
    "artists = ['남진', '조용필', '태진아', '나훈아']\n",
    "\n",
    "for i, a in zip(playlist, artists) :\n",
    "    print(f'{i} : {a}')\n",
    "\n"
   ],
   "metadata": {
    "collapsed": false,
    "pycharm": {
     "name": "#%%\n"
    }
   }
  },
  {
   "cell_type": "markdown",
   "source": [
    "# **module - Counter**"
   ],
   "metadata": {
    "collapsed": false,
    "pycharm": {
     "name": "#%% md\n"
    }
   }
  },
  {
   "cell_type": "code",
   "execution_count": 30,
   "outputs": [
    {
     "name": "stdout",
     "output_type": "stream",
     "text": [
      "dict_items([('테스트1', 4), ('테스트2', 2), ('테스트3', 2), ('테스트4', 3), ('테스트5', 5)])\n",
      "Counter({'테스트5': 5, '테스트1': 4, '테스트4': 3, '테스트2': 2, '테스트3': 2})\n",
      "[('테스트5', 5), ('테스트1', 4)]\n",
      "테스트2 2\n",
      "테스트3 2\n",
      "============================================================\n",
      "테스트2 2\n",
      "테스트3 2\n"
     ]
    }
   ],
   "source": [
    "vote = ['테스트1', '테스트1', '테스트1', '테스트1', '테스트2', '테스트2', '테스트3', '테스트3',\n",
    "        '테스트4', '테스트4', '테스트4', '테스트5', '테스트5', '테스트5', '테스트5', '테스트5',]\n",
    "\n",
    "result = {'테스트1' : 0,\n",
    "          '테스트2' : 0,\n",
    "          '테스트3' : 0,\n",
    "          '테스트4' : 0,\n",
    "          '테스트5' : 0}\n",
    "\n",
    "for name in vote:\n",
    "    result[name] += 1\n",
    "\n",
    "print(result.items())\n",
    "\n",
    "\n",
    "from collections import Counter\n",
    "\n",
    "cnt = Counter(vote)\n",
    "print(cnt)\n",
    "\n",
    "# most_common() Counter 함수를 사용한 것만 사용가능\n",
    "print(cnt.most_common(2))\n",
    "\n",
    "least = cnt.most_common()[-1][1]\n",
    "\n",
    "for name, vote in cnt.items():\n",
    "    if vote==least:\n",
    "        print(name, vote)\n",
    "print('='*60)\n",
    "for info in cnt.items():\n",
    "    if info[1]==least:\n",
    "        print(info[0], info[1])"
   ],
   "metadata": {
    "collapsed": false,
    "pycharm": {
     "name": "#%%\n"
    }
   }
  },
  {
   "cell_type": "markdown",
   "source": [
    "# **module - deque**"
   ],
   "metadata": {
    "collapsed": false,
    "pycharm": {
     "name": "#%% md\n"
    }
   }
  },
  {
   "cell_type": "code",
   "execution_count": 31,
   "outputs": [
    {
     "name": "stdout",
     "output_type": "stream",
     "text": [
      "deque([1, 2, 3])\n",
      "deque([2, 3])\n"
     ]
    }
   ],
   "source": [
    "from collections import deque\n",
    "\n",
    "lists = deque([1])\n",
    "lists.append(2)\n",
    "lists.append(3)\n",
    "print(lists)\n",
    "lists.popleft()\n",
    "\n",
    "print(lists)"
   ],
   "metadata": {
    "collapsed": false,
    "pycharm": {
     "name": "#%%\n"
    }
   }
  },
  {
   "cell_type": "markdown",
   "source": [
    "# **function()**"
   ],
   "metadata": {
    "collapsed": false,
    "pycharm": {
     "name": "#%% md\n"
    }
   }
  },
  {
   "cell_type": "code",
   "execution_count": 32,
   "outputs": [
    {
     "name": "stdout",
     "output_type": "stream",
     "text": [
      "simple()실행\n",
      "-3의 절댓값 구하기 : 3\n",
      "계산결과 : 82.0\n",
      "안녕\n",
      "반가워. 이 프로그램은 파이썬 공부 프로그램이야\n",
      "기분 좋은 하루 보내~\n",
      "안녕\n",
      "반가워. 이 프로그램은 파이썬 공부 프로그램이야\n",
      "기분 좋은 하루 보내~\n"
     ]
    }
   ],
   "source": [
    "\n",
    "#기본적인 함수\n",
    "def simple():\n",
    "    print('simple()실행')\n",
    "    pass\n",
    "\n",
    "#simple()호출\n",
    "simple()\n",
    "\n",
    "def abs_test(number):\n",
    "    if number < 0:\n",
    "        number = -number\n",
    "    return number\n",
    "\n",
    "print(f'-3의 절댓값 구하기 : {abs_test(-3)}')\n",
    "temp = abs_test(-9)/3 * abs_test(20) + 3 +abs_test(-19)\n",
    "print(f'계산결과 : {temp}')\n",
    "\n",
    "def sayhello():\n",
    "    print('안녕')\n",
    "    print('반가워. 이 프로그램은 파이썬 공부 프로그램이야')\n",
    "    print('기분 좋은 하루 보내~')\n",
    "\n",
    "sayhello()\n",
    "sayhello()"
   ],
   "metadata": {
    "collapsed": false,
    "pycharm": {
     "name": "#%%\n"
    }
   }
  },
  {
   "cell_type": "markdown",
   "source": [
    "# **Fibonacci numbers**"
   ],
   "metadata": {
    "collapsed": false,
    "pycharm": {
     "name": "#%% md\n"
    }
   }
  },
  {
   "cell_type": "code",
   "execution_count": 33,
   "outputs": [
    {
     "data": {
      "text/plain": "55"
     },
     "execution_count": 33,
     "metadata": {},
     "output_type": "execute_result"
    }
   ],
   "source": [
    "def Fib(n):\n",
    "    if n==0:\n",
    "        return 0\n",
    "    elif n == 1 or n == 2:\n",
    "        return 1\n",
    "    else:\n",
    "        return Fib(n-1) + Fib(n-2)\n",
    "Fib(10)"
   ],
   "metadata": {
    "collapsed": false,
    "pycharm": {
     "name": "#%%\n"
    }
   }
  },
  {
   "cell_type": "markdown",
   "source": [
    "# **72. 변수의 범위 1(전역변수와 지역변수)**"
   ],
   "metadata": {
    "collapsed": false,
    "pycharm": {
     "name": "#%% md\n"
    }
   }
  },
  {
   "cell_type": "code",
   "execution_count": 34,
   "outputs": [
    {
     "name": "stdout",
     "output_type": "stream",
     "text": [
      "전역변수\n",
      "지역변수\n",
      "\n",
      "전역변수\n"
     ]
    }
   ],
   "source": [
    "global_var = '전역변수'\n",
    "\n",
    "def scope():\n",
    "    local_var = '지역변수'\n",
    "    print(global_var)\n",
    "    print(local_var)\n",
    "\n",
    "scope()\n",
    "\n",
    "print()\n",
    "print(global_var)\n",
    "# print(local_var)"
   ],
   "metadata": {
    "collapsed": false,
    "pycharm": {
     "name": "#%%\n"
    }
   }
  },
  {
   "cell_type": "markdown",
   "source": [
    "# **73. 변수의 범위 2(동일한 이름의 변수가 전역과 지역에 있을 때)**"
   ],
   "metadata": {
    "collapsed": false
   }
  },
  {
   "cell_type": "code",
   "execution_count": 35,
   "outputs": [
    {
     "name": "stdout",
     "output_type": "stream",
     "text": [
      "지역변수\n",
      "\n",
      "\n"
     ]
    }
   ],
   "source": [
    "global_var = '전역변수'\n",
    "\n",
    "def scope():\n",
    "    var = '지역변수'\n",
    "    print(var)\n",
    "\n",
    "scope()\n",
    "\n",
    "print()\n",
    "print(var)"
   ],
   "metadata": {
    "collapsed": false,
    "pycharm": {
     "name": "#%%\n"
    }
   }
  },
  {
   "cell_type": "markdown",
   "source": [
    "# **74. 변수의 범위 3(global)**"
   ],
   "metadata": {
    "collapsed": false
   }
  },
  {
   "cell_type": "code",
   "execution_count": 36,
   "outputs": [
    {
     "name": "stdout",
     "output_type": "stream",
     "text": [
      "함수안 var: global 명령어의 역할\n",
      "\n",
      "함수 밖 var : global 명령어의 역할\n"
     ]
    }
   ],
   "source": [
    "var = '전역변수'\n",
    "\n",
    "def scope():\n",
    "    global var\n",
    "    var = 'global 명령어의 역할'\n",
    "    print(f'함수안 var: {var}')\n",
    "\n",
    "scope()\n",
    "\n",
    "print()\n",
    "print(f'함수 밖 var : {var}')"
   ],
   "metadata": {
    "collapsed": false,
    "pycharm": {
     "name": "#%%\n"
    }
   }
  },
  {
   "cell_type": "markdown",
   "source": [
    "# **75. 변수의 범위 4**"
   ],
   "metadata": {
    "collapsed": false
   }
  },
  {
   "cell_type": "code",
   "source": [
    "var = '전역변수'\n",
    "\n",
    "def scope():\n",
    "    var = 'scope() 지역변수'\n",
    "    print(f'{var}\\t[ scope() 함수에서 출력')\n",
    "\n",
    "    if True:\n",
    "        var = 'if 블록에서 변경'\n",
    "    print(f'{var}\\t[ if문 에서 출력')\n",
    "\n",
    "    for i in range(3):\n",
    "        var = 'for 블록에서 변경'\n",
    "    print(f'{var}\\t[ for문 에서 출력')\n",
    "\n",
    "scope()\n",
    "\n",
    "print(f'{var}\\t\\t[ scope() 함수 밖에서 출력')\n"
   ],
   "metadata": {
    "collapsed": false,
    "pycharm": {
     "name": "#%%\n"
    }
   },
   "execution_count": 37,
   "outputs": [
    {
     "name": "stdout",
     "output_type": "stream",
     "text": [
      "scope() 지역변수\t[ scope() 함수에서 출력\n",
      "if 블록에서 변경\t[ if문 에서 출력\n",
      "for 블록에서 변경\t[ for문 에서 출력\n",
      "전역변수\t\t[ scope() 함수 밖에서 출력\n"
     ]
    }
   ]
  },
  {
   "cell_type": "markdown",
   "source": [
    "# **76. 내장 함수 - abs()함수**"
   ],
   "metadata": {
    "collapsed": false
   }
  },
  {
   "cell_type": "code",
   "execution_count": 38,
   "outputs": [
    {
     "name": "stdout",
     "output_type": "stream",
     "text": [
      "10\n",
      "10\n",
      "전진하다\n"
     ]
    }
   ],
   "source": [
    "pos = 10\n",
    "neg = -10\n",
    "\n",
    "print(abs(pos))\n",
    "print(abs(neg))\n",
    "\n",
    "if neg > 0:\n",
    "    print(\"뒷 걸음질 치다\")\n",
    "if abs(neg) > 0:\n",
    "    print('전진하다')"
   ],
   "metadata": {
    "collapsed": false,
    "pycharm": {
     "name": "#%%\n"
    }
   }
  },
  {
   "cell_type": "markdown",
   "source": [
    "# **77. 내장 함수 - bool() 함수**"
   ],
   "metadata": {
    "collapsed": false,
    "pycharm": {
     "name": "#%% md\n"
    }
   }
  },
  {
   "cell_type": "code",
   "execution_count": 39,
   "outputs": [
    {
     "name": "stdout",
     "output_type": "stream",
     "text": [
      "False\n",
      "False\n",
      "False\n",
      "True\n",
      "True\n",
      "True\n",
      "1 색을 좋아하는 군요.\n"
     ]
    }
   ],
   "source": [
    "num0 = 0\n",
    "num1 = 1\n",
    "empty_list = []\n",
    "full_list = [1,2,3]\n",
    "empty_str = \"\"\n",
    "full_str = \"파이썬\"\n",
    "\n",
    "print(bool(num0))\n",
    "print(bool(empty_list))\n",
    "print(bool(empty_str))\n",
    "print(bool(num1))\n",
    "print(bool(full_list))\n",
    "print(bool(full_str))\n",
    "\n",
    "color = input('좋아하는 색을 입력하세요: ')\n",
    "if not bool(color):\n",
    "    print('색을 반드시 입력해야 합니다.')\n",
    "else:\n",
    "    print(f'{color} 색을 좋아하는 군요.')"
   ],
   "metadata": {
    "collapsed": false,
    "pycharm": {
     "name": "#%%\n"
    }
   }
  },
  {
   "cell_type": "markdown",
   "source": [
    "# **78. 내장 함수 - dir() 함수와 help() 함수**"
   ],
   "metadata": {
    "collapsed": false
   }
  },
  {
   "cell_type": "code",
   "execution_count": 40,
   "outputs": [
    {
     "name": "stdout",
     "output_type": "stream",
     "text": [
      "['Counter', 'Fib', 'In', 'Out', '_', '_2', '_33', '__', '___', '__builtin__', '__builtins__', '__doc__', '__loader__', '__name__', '__package__', '__spec__', '_dh', '_i', '_i1', '_i10', '_i11', '_i12', '_i13', '_i14', '_i15', '_i16', '_i17', '_i18', '_i19', '_i2', '_i20', '_i21', '_i22', '_i23', '_i24', '_i25', '_i26', '_i27', '_i28', '_i29', '_i3', '_i30', '_i31', '_i32', '_i33', '_i34', '_i35', '_i36', '_i37', '_i38', '_i39', '_i4', '_i40', '_i5', '_i6', '_i7', '_i8', '_i9', '_ih', '_ii', '_iii', '_oh', 'a', 'abs_test', 'add', 'all', 'apple', 'artists', 'banana', 'br31', 'cheeses', 'cir', 'cnt', 'color', 'colors', 'count', 'deque', 'div', 'empty_list', 'empty_str', 'exit', 'fruit', 'full_list', 'full_str', 'g', 'get_ipython', 'global_var', 'head', 'height', 'howmany', 'i', 'info', 'isTrue', 'item', 'k', 'kor', 'least', 'lemon', 'lists', 'ma', 'mass', 'mul', 'myList', 'myStr', 'myStrfill', 'my_dict', 'my_exo', 'name', 'neg', 'now', 'num0', 'num1', 'num2', 'num3', 'number', 'playlist', 'pos', 'quit', 'r', 'result', 'sayhello', 'scope', 'simple', 'str1', 'str2', 'str3', 'str4', 'string', 'student', 'sub', 'sum_test', 'tail', 'temp', 'thisdict', 'tup', 'v', 'var', 'vote', 'want', 'x', 'y', 'z']\n",
      "--------------------------------------------------\n",
      "['__add__', '__class__', '__class_getitem__', '__contains__', '__delattr__', '__delitem__', '__dir__', '__doc__', '__eq__', '__format__', '__ge__', '__getattribute__', '__getitem__', '__gt__', '__hash__', '__iadd__', '__imul__', '__init__', '__init_subclass__', '__iter__', '__le__', '__len__', '__lt__', '__mul__', '__ne__', '__new__', '__reduce__', '__reduce_ex__', '__repr__', '__reversed__', '__rmul__', '__setattr__', '__setitem__', '__sizeof__', '__str__', '__subclasshook__', 'append', 'clear', 'copy', 'count', 'extend', 'index', 'insert', 'pop', 'remove', 'reverse', 'sort']\n",
      "--------------------------------------------------\n",
      "Help on built-in function append:\n",
      "\n",
      "append(object, /) method of builtins.list instance\n",
      "    Append object to the end of the list.\n",
      "\n",
      "None\n",
      "--------------------------------------------------\n",
      "Help on list object:\n",
      "\n",
      "class list(object)\n",
      " |  list(iterable=(), /)\n",
      " |  \n",
      " |  Built-in mutable sequence.\n",
      " |  \n",
      " |  If no argument is given, the constructor creates a new empty list.\n",
      " |  The argument must be an iterable if specified.\n",
      " |  \n",
      " |  Methods defined here:\n",
      " |  \n",
      " |  __add__(self, value, /)\n",
      " |      Return self+value.\n",
      " |  \n",
      " |  __contains__(self, key, /)\n",
      " |      Return key in self.\n",
      " |  \n",
      " |  __delitem__(self, key, /)\n",
      " |      Delete self[key].\n",
      " |  \n",
      " |  __eq__(self, value, /)\n",
      " |      Return self==value.\n",
      " |  \n",
      " |  __ge__(self, value, /)\n",
      " |      Return self>=value.\n",
      " |  \n",
      " |  __getattribute__(self, name, /)\n",
      " |      Return getattr(self, name).\n",
      " |  \n",
      " |  __getitem__(...)\n",
      " |      x.__getitem__(y) <==> x[y]\n",
      " |  \n",
      " |  __gt__(self, value, /)\n",
      " |      Return self>value.\n",
      " |  \n",
      " |  __iadd__(self, value, /)\n",
      " |      Implement self+=value.\n",
      " |  \n",
      " |  __imul__(self, value, /)\n",
      " |      Implement self*=value.\n",
      " |  \n",
      " |  __init__(self, /, *args, **kwargs)\n",
      " |      Initialize self.  See help(type(self)) for accurate signature.\n",
      " |  \n",
      " |  __iter__(self, /)\n",
      " |      Implement iter(self).\n",
      " |  \n",
      " |  __le__(self, value, /)\n",
      " |      Return self<=value.\n",
      " |  \n",
      " |  __len__(self, /)\n",
      " |      Return len(self).\n",
      " |  \n",
      " |  __lt__(self, value, /)\n",
      " |      Return self<value.\n",
      " |  \n",
      " |  __mul__(self, value, /)\n",
      " |      Return self*value.\n",
      " |  \n",
      " |  __ne__(self, value, /)\n",
      " |      Return self!=value.\n",
      " |  \n",
      " |  __repr__(self, /)\n",
      " |      Return repr(self).\n",
      " |  \n",
      " |  __reversed__(self, /)\n",
      " |      Return a reverse iterator over the list.\n",
      " |  \n",
      " |  __rmul__(self, value, /)\n",
      " |      Return value*self.\n",
      " |  \n",
      " |  __setitem__(self, key, value, /)\n",
      " |      Set self[key] to value.\n",
      " |  \n",
      " |  __sizeof__(self, /)\n",
      " |      Return the size of the list in memory, in bytes.\n",
      " |  \n",
      " |  append(self, object, /)\n",
      " |      Append object to the end of the list.\n",
      " |  \n",
      " |  clear(self, /)\n",
      " |      Remove all items from list.\n",
      " |  \n",
      " |  copy(self, /)\n",
      " |      Return a shallow copy of the list.\n",
      " |  \n",
      " |  count(self, value, /)\n",
      " |      Return number of occurrences of value.\n",
      " |  \n",
      " |  extend(self, iterable, /)\n",
      " |      Extend list by appending elements from the iterable.\n",
      " |  \n",
      " |  index(self, value, start=0, stop=9223372036854775807, /)\n",
      " |      Return first index of value.\n",
      " |      \n",
      " |      Raises ValueError if the value is not present.\n",
      " |  \n",
      " |  insert(self, index, object, /)\n",
      " |      Insert object before index.\n",
      " |  \n",
      " |  pop(self, index=-1, /)\n",
      " |      Remove and return item at index (default last).\n",
      " |      \n",
      " |      Raises IndexError if list is empty or index is out of range.\n",
      " |  \n",
      " |  remove(self, value, /)\n",
      " |      Remove first occurrence of value.\n",
      " |      \n",
      " |      Raises ValueError if the value is not present.\n",
      " |  \n",
      " |  reverse(self, /)\n",
      " |      Reverse *IN PLACE*.\n",
      " |  \n",
      " |  sort(self, /, *, key=None, reverse=False)\n",
      " |      Sort the list in ascending order and return None.\n",
      " |      \n",
      " |      The sort is in-place (i.e. the list itself is modified) and stable (i.e. the\n",
      " |      order of two equal elements is maintained).\n",
      " |      \n",
      " |      If a key function is given, apply it once to each list item and sort them,\n",
      " |      ascending or descending, according to their function values.\n",
      " |      \n",
      " |      The reverse flag can be set to sort in descending order.\n",
      " |  \n",
      " |  ----------------------------------------------------------------------\n",
      " |  Class methods defined here:\n",
      " |  \n",
      " |  __class_getitem__(...) from builtins.type\n",
      " |      See PEP 585\n",
      " |  \n",
      " |  ----------------------------------------------------------------------\n",
      " |  Static methods defined here:\n",
      " |  \n",
      " |  __new__(*args, **kwargs) from builtins.type\n",
      " |      Create and return a new object.  See help(type) for accurate signature.\n",
      " |  \n",
      " |  ----------------------------------------------------------------------\n",
      " |  Data and other attributes defined here:\n",
      " |  \n",
      " |  __hash__ = None\n",
      "\n",
      "None\n"
     ]
    }
   ],
   "source": [
    "myList = [1,2,3]\n",
    "\n",
    "print(dir())\n",
    "input()\n",
    "print('-'*50)\n",
    "\n",
    "print(dir(myList))\n",
    "input()\n",
    "print('-'*50)\n",
    "\n",
    "print(help(myList.append))\n",
    "input()\n",
    "print('-'*50)\n",
    "\n",
    "print(help(myList))"
   ],
   "metadata": {
    "collapsed": false,
    "pycharm": {
     "name": "#%%\n"
    }
   }
  },
  {
   "cell_type": "markdown",
   "source": [
    "# **79. 내장 함수 - eval() 함수**"
   ],
   "metadata": {
    "collapsed": false
   }
  },
  {
   "cell_type": "code",
   "execution_count": 41,
   "outputs": [
    {
     "name": "stdout",
     "output_type": "stream",
     "text": [
      "2000\n",
      "2\n"
     ]
    }
   ],
   "source": [
    "print(eval('1000*2'))\n",
    "\n",
    "number =1\n",
    "exp = 'print(number +1)'\n",
    "eval(exp)"
   ],
   "metadata": {
    "collapsed": false,
    "pycharm": {
     "name": "#%%\n"
    }
   }
  },
  {
   "cell_type": "markdown",
   "source": [
    "# **83. 내장 함수 - int() 함수**"
   ],
   "metadata": {
    "collapsed": false
   }
  },
  {
   "cell_type": "code",
   "execution_count": 42,
   "outputs": [
    {
     "name": "stdout",
     "output_type": "stream",
     "text": [
      "0\n",
      "10\n",
      "3\n",
      "1234\n"
     ]
    }
   ],
   "source": [
    "print(int())\n",
    "print(int(10))\n",
    "\n",
    "print(int(3.74))\n",
    "print(int(1234))"
   ],
   "metadata": {
    "collapsed": false,
    "pycharm": {
     "name": "#%%\n"
    }
   }
  },
  {
   "cell_type": "markdown",
   "source": [
    "# **84. 내장 함수 - len() 함수**"
   ],
   "metadata": {
    "collapsed": false
   }
  },
  {
   "cell_type": "code",
   "execution_count": 43,
   "outputs": [
    {
     "name": "stdout",
     "output_type": "stream",
     "text": [
      "문자열 6\n",
      "리스트 7\n",
      "사전 0 : 호날두\n",
      "사전 1 : 메시\n",
      "사전 2 : 손흥민\n"
     ]
    }
   ],
   "source": [
    "print('문자열', len('python'))\n",
    "\n",
    "myList = [1,2,3,4,5,6,7]\n",
    "print('리스트',len(myList))\n",
    "\n",
    "myDict = {0:'호날두', 1:'메시',2:'손흥민'}\n",
    "for item in range(len(myDict)):\n",
    "    print('사전',item,':',myDict[item])"
   ],
   "metadata": {
    "collapsed": false,
    "pycharm": {
     "name": "#%%\n"
    }
   }
  },
  {
   "cell_type": "markdown",
   "source": [
    "# **85. 내장 함수 - pow() 함수, round() 함수, sum() 함수**"
   ],
   "metadata": {
    "collapsed": false
   }
  },
  {
   "cell_type": "code",
   "execution_count": 44,
   "outputs": [
    {
     "name": "stdout",
     "output_type": "stream",
     "text": [
      "100\n",
      "2 4\n",
      "21\n"
     ]
    }
   ],
   "source": [
    "print(pow(10,2))\n",
    "\n",
    "print(round(2,3), round(4,6))\n",
    "myList = [1, 2, 3, 4, 5, 6]\n",
    "result = sum(myList)\n",
    "print(result)"
   ],
   "metadata": {
    "collapsed": false,
    "pycharm": {
     "name": "#%%\n"
    }
   }
  },
  {
   "cell_type": "markdown",
   "source": [
    "# **86. 내장함수 - max() 함수, min() 함수**"
   ],
   "metadata": {
    "collapsed": false,
    "pycharm": {
     "name": "#%% md\n"
    }
   }
  },
  {
   "cell_type": "code",
   "execution_count": 45,
   "outputs": [
    {
     "name": "stdout",
     "output_type": "stream",
     "text": [
      "99 1\n",
      "영문자 중 가장 큰 문자: e\n",
      "서로 다른 문자들 중 큰 문자: a\n",
      "문장 속 최대값 문자: z\n",
      "문장 속 최솟값 문자:  \n"
     ]
    }
   ],
   "source": [
    "myTup = (56,79,82,1,22,99)\n",
    "print(max(myTup), min(myTup))\n",
    "\n",
    "print('영문자 중 가장 큰 문자:', max('abcde '))\n",
    "print('서로 다른 문자들 중 큰 문자:', max('0Aa'))\n",
    "\n",
    "print('문장 속 최대값 문자:',max('I went to the zpp uesterdat, 27 March.'))\n",
    "print('문장 속 최솟값 문자:', min('I went to the zpp uesterdat, 27 March.'))"
   ],
   "metadata": {
    "collapsed": false,
    "pycharm": {
     "name": "#%%\n"
    }
   }
  },
  {
   "cell_type": "markdown",
   "source": [
    "# **Tower of Hanoi**"
   ],
   "metadata": {
    "collapsed": false,
    "pycharm": {
     "name": "#%% md\n"
    }
   }
  },
  {
   "cell_type": "code",
   "execution_count": 46,
   "outputs": [
    {
     "data": {
      "text/plain": "[[1, 3], [1, 2], [3, 2], [1, 3], [2, 1], [2, 3], [1, 3]]"
     },
     "execution_count": 46,
     "metadata": {},
     "output_type": "execute_result"
    }
   ],
   "source": [
    "answer = []\n",
    "def Hanoi(n, From, Toward, Using):\n",
    "    if n == 1:\n",
    "        answer.append([From, Toward])\n",
    "        return\n",
    "    Hanoi(n-1, From, Using, Toward)\n",
    "    answer.append([From, Toward])\n",
    "    Hanoi(n-1, Using, Toward, From)\n",
    "\n",
    "Hanoi(3, 1, 3, 2)\n",
    "answer"
   ],
   "metadata": {
    "collapsed": false,
    "pycharm": {
     "name": "#%%\n"
    }
   }
  },
  {
   "cell_type": "markdown",
   "source": [
    "# **PSCheck**"
   ],
   "metadata": {
    "collapsed": false,
    "pycharm": {
     "name": "#%% md\n"
    }
   }
  },
  {
   "cell_type": "code",
   "source": [
    "def PSCheck(ps):\n",
    "\n",
    "    ps = list(ps)\n",
    "    ps_list = []\n",
    "\n",
    "    while ps:\n",
    "        now = ps.pop()\n",
    "        # print(f'now : {now} stack : {ps_list}')\n",
    "\n",
    "        if not ps_list: ps_list.append(now)\n",
    "        elif now == '(' and ps_list[-1] == ')':\n",
    "            ps_list.pop()\n",
    "        else: ps_list.append(now)\n",
    "\n",
    "    if ps_list:\n",
    "        print('wrong')\n",
    "        print(ps_list)\n",
    "    else: print('correct')\n",
    "\n",
    "\n",
    "PSCheck('()()')"
   ],
   "metadata": {
    "collapsed": false,
    "pycharm": {
     "name": "#%%\n"
    }
   },
   "execution_count": 47,
   "outputs": [
    {
     "name": "stdout",
     "output_type": "stream",
     "text": [
      "correct\n"
     ]
    }
   ]
  },
  {
   "cell_type": "markdown",
   "source": [
    "# **Queue**"
   ],
   "metadata": {
    "collapsed": false,
    "pycharm": {
     "name": "#%% md\n"
    }
   }
  },
  {
   "cell_type": "code",
   "execution_count": 48,
   "outputs": [
    {
     "name": "stdout",
     "output_type": "stream",
     "text": [
      "values : [['push', '1'], ['push', '2'], ['push', '3'], ['push', '4'], ['pop'], ['pop'], ['pop'], ['pop'], ['pop'], ['front'], ['back'], ['size'], ['empty']]\n",
      "[push] Return: 1, Queue : ['1']\n",
      "[push] Return: 2, Queue : ['1', '2']\n",
      "[push] Return: 3, Queue : ['1', '2', '3']\n",
      "[push] Return: 4, Queue : ['1', '2', '3', '4']\n",
      "[pop] Return: 1, Queue : ['2', '3', '4']\n",
      "[pop] Return: 2, Queue : ['3', '4']\n",
      "[pop] Return: 3, Queue : ['4']\n",
      "[pop] Return: 4, Queue : []\n",
      "[pop] Return: None, Queue : []\n",
      "[front] Return: Queue is Empty, Queue : []\n",
      "[back] Return: Queue is Empty, Queue : []\n",
      "[size] Return: 0, Queue : []\n",
      "[empty] Return: True, Queue : []\n"
     ]
    }
   ],
   "source": [
    "from collections import deque\n",
    "\n",
    "operations = ['push 1', 'push 2', 'push 3', 'push 4',\n",
    "              'pop', 'pop', 'pop', 'pop', 'pop', 'front', 'back', 'size', 'empty']\n",
    "newOperations = []\n",
    "\n",
    "for op in operations:\n",
    "    newOperations.append(op.split(' '))\n",
    "\n",
    "print(f'values : {newOperations}')\n",
    "\n",
    "queue = deque()\n",
    "\n",
    "for op in newOperations:\n",
    "    msg = ''\n",
    "    if op[0] == 'push':\n",
    "        queue.append(op[1])\n",
    "        msg = op[1]\n",
    "    elif op[0] == 'pop':\n",
    "        if queue: msg = queue.popleft()\n",
    "        else: msg = None\n",
    "    elif op[0] == 'front':\n",
    "        if queue: msg = queue[0]\n",
    "        else: msg = 'Queue is Empty'\n",
    "    elif op[0] == 'back':\n",
    "        if queue: msg = queue[-1]\n",
    "        else: msg = 'Queue is Empty'\n",
    "    elif op[0] == 'size': msg = len(queue)\n",
    "    elif op[0] == 'empty':\n",
    "        if queue: msg = 'False'\n",
    "        else: msg = 'True'\n",
    "    else: pass\n",
    "    print(f'[{op[0]}] Return: {msg}, Queue : {list(queue)}')"
   ],
   "metadata": {
    "collapsed": false,
    "pycharm": {
     "name": "#%%\n"
    }
   }
  },
  {
   "cell_type": "markdown",
   "source": [
    "# **32. 튜플(tuple) 사용하기**"
   ],
   "metadata": {
    "collapsed": false,
    "pycharm": {
     "name": "#%% md\n"
    }
   }
  },
  {
   "cell_type": "code",
   "execution_count": 49,
   "outputs": [
    {
     "name": "stdout",
     "output_type": "stream",
     "text": [
      "(1, 2, 'number')\n",
      "1 2 number\n",
      "\n",
      "<class 'str'>\n",
      "<class 'tuple'>\n"
     ]
    }
   ],
   "source": [
    "myTuple = ()\n",
    "myTuple = (1,2,3)\n",
    "myTuple = (1, 'python', 3.14)\n",
    "myTuple = ('문자열도 넣고', (1,2,3), [4,5,6])\n",
    "\n",
    "myTuple = 1,2,'number'\n",
    "print(myTuple)\n",
    "a, b, c = myTuple\n",
    "print(a, b, c+'\\n')\n",
    "\n",
    "# 튜플 선언시 한 가지 유의점\n",
    "myTuple = (\"hello\")\n",
    "print(type(myTuple))    #문자열 변수\n",
    "myTuple = ('hello', )\n",
    "print(type(myTuple))    #튜플 변수\n",
    "\n",
    "myTuple = (1,2,3)\n",
    "# myTuple[0] = 10   # 오류 발생"
   ],
   "metadata": {
    "collapsed": false,
    "pycharm": {
     "name": "#%%\n"
    }
   }
  },
  {
   "cell_type": "markdown",
   "source": [
    "# **33. 튜플의 인덱싱과 슬라이싱**"
   ],
   "metadata": {
    "collapsed": false
   }
  },
  {
   "cell_type": "code",
   "execution_count": 50,
   "outputs": [
    {
     "name": "stdout",
     "output_type": "stream",
     "text": [
      "a\n",
      "\n",
      "tuple\n",
      "u\n",
      "4\n",
      "[4, 5, 6]\n",
      "tuple\n",
      "\n"
     ]
    }
   ],
   "source": [
    "myTuple = ('a', 'b','c')\n",
    "print(myTuple[0])\n",
    "#print(myTuple[3])\n",
    "#print(myTuple[2.0])\n",
    "print()\n",
    "\n",
    "myTuple = ('tuple', (1, 2, 3), [4, 5, 6])\n",
    "print(myTuple[0])\n",
    "print(myTuple[0][1])\n",
    "print(myTuple[2][0])\n",
    "print(myTuple[-1])\n",
    "print(myTuple[0])\n",
    "print()"
   ],
   "metadata": {
    "collapsed": false,
    "pycharm": {
     "name": "#%%\n"
    }
   }
  },
  {
   "cell_type": "markdown",
   "source": [
    "# **34. 불변 객체 튜블이 가변 객체를 가지면**"
   ],
   "metadata": {
    "collapsed": false
   }
  },
  {
   "cell_type": "code",
   "execution_count": 51,
   "outputs": [
    {
     "name": "stdout",
     "output_type": "stream",
     "text": [
      "(1, 2, [10, 20, 30])\n",
      "(1, 2, [10, 5, 30])\n",
      "('p', 'y', 't', 'h', 'o', 'n')\n"
     ]
    }
   ],
   "source": [
    "myTuple = (1, 2, [10, 20, 30])\n",
    "print(myTuple)\n",
    "# myTuple[0] = 5  #오류 발생\n",
    "# myTuple[2] = 9  #오류 발생\n",
    "\n",
    "myTuple[2][1] = 5\n",
    "print(myTuple)\n",
    "\n",
    "myTuple = ('p', 'y', 't', 'h', 'o', 'n')\n",
    "print(myTuple)\n"
   ],
   "metadata": {
    "collapsed": false,
    "pycharm": {
     "name": "#%%\n"
    }
   }
  },
  {
   "cell_type": "markdown",
   "source": [
    "# **35. 튜블의 연산과 관련 메소드**"
   ],
   "metadata": {
    "collapsed": false
   }
  },
  {
   "cell_type": "code",
   "execution_count": 52,
   "outputs": [
    {
     "name": "stdout",
     "output_type": "stream",
     "text": [
      "(1, 2, 3, 4, 5, 6)\n",
      "(1, 2, 3, 1, 2, 3, 1, 2, 3)\n",
      "True\n",
      "False\n",
      "False\n",
      "3\n",
      "1\n"
     ]
    }
   ],
   "source": [
    "myTuple = (1, 2, 3)\n",
    "yourTuple = (4, 5, 6)\n",
    "\n",
    "#튜블 연산\n",
    "ourTuple = myTuple + yourTuple\n",
    "print(ourTuple)\n",
    "\n",
    "mulTuple = myTuple * 3\n",
    "print(mulTuple)\n",
    "\n",
    "#del ourTuple\n",
    "#print(ourTuple\n",
    "\n",
    "#튜플 멤버십 테스트\n",
    "print(1 in myTuple)\n",
    "print(4 in myTuple)\n",
    "print(3 not in myTuple)\n",
    "\n",
    "#튜플 관련 메소드\n",
    "print(mulTuple.count(1))\n",
    "print(mulTuple.index(2))"
   ],
   "metadata": {
    "collapsed": false,
    "pycharm": {
     "name": "#%%\n"
    }
   }
  },
  {
   "cell_type": "markdown",
   "source": [
    "# **36. 튜블 관련 내장 함수**"
   ],
   "metadata": {
    "collapsed": false,
    "pycharm": {
     "name": "#%% md\n"
    }
   }
  },
  {
   "cell_type": "code",
   "execution_count": 53,
   "outputs": [
    {
     "name": "stdout",
     "output_type": "stream",
     "text": [
      "3\n",
      "120.09\n",
      "2.8\n",
      "132.0\n",
      "[2.8, 9.11, 120.09]\n",
      "(120.09, 9.11, 2.8)\n",
      "(1, 2, 3)\n"
     ]
    }
   ],
   "source": [
    "tupleFloat = (120.09, 9.11, 2.8)\n",
    "listInt = [1, 2, 3]\n",
    "\n",
    "print(len(tupleFloat))\n",
    "print(max(tupleFloat))\n",
    "print(min(tupleFloat))\n",
    "print(sum(tupleFloat))\n",
    "print(sorted(tupleFloat))\n",
    "print(tupleFloat)\n",
    "\n",
    "print(tuple(listInt))"
   ],
   "metadata": {
    "collapsed": false,
    "pycharm": {
     "name": "#%%\n"
    }
   }
  },
  {
   "cell_type": "markdown",
   "source": [
    "# **n까지 5와 6의 공배수 출력**\\"
   ],
   "metadata": {
    "collapsed": false,
    "pycharm": {
     "name": "#%% md\n"
    }
   }
  },
  {
   "cell_type": "code",
   "execution_count": 54,
   "outputs": [
    {
     "name": "stdout",
     "output_type": "stream",
     "text": [
      "30\n",
      "60\n"
     ]
    }
   ],
   "source": [
    "def CommonMultiple(n):          #n까지 5와6의 공배수 출력\n",
    "    for i in range(1, n+1):\n",
    "        if not i%6 and not i%5: print(i)\n",
    "CommonMultiple(60)"
   ],
   "metadata": {
    "collapsed": false,
    "pycharm": {
     "name": "#%%\n"
    }
   }
  },
  {
   "cell_type": "markdown",
   "source": [
    "# **n까지 a와 b의 공배수 출력**"
   ],
   "metadata": {
    "collapsed": false,
    "pycharm": {
     "name": "#%% md\n"
    }
   }
  },
  {
   "cell_type": "code",
   "execution_count": 55,
   "outputs": [
    {
     "name": "stdout",
     "output_type": "stream",
     "text": [
      "12\n",
      "24\n",
      "36\n",
      "48\n",
      "60\n",
      "72\n",
      "84\n",
      "96\n",
      "108\n",
      "120\n",
      "132\n",
      "144\n",
      "156\n",
      "168\n",
      "180\n",
      "192\n",
      "204\n",
      "216\n",
      "228\n",
      "240\n",
      "252\n",
      "264\n",
      "276\n",
      "288\n",
      "300\n",
      "count_a : 300\n",
      "count_b : 0\n"
     ]
    }
   ],
   "source": [
    "def CommonMultiple(n, a, b):    #n까지 a와 b의 공백수 출력\n",
    "    count_a, count_b = 0, 0\n",
    "    for i in range(1, n+1):     #for문이 300번돌음\n",
    "        count_a += 1\n",
    "        if not i%a and not i%b: print(i)  # i % 5 == 0 and i % 6 == 0\n",
    "\n",
    "    # for i in range(a, n+1, a):      #for문이 100번 돌음\n",
    "    #     count_b += 1\n",
    "    #     if not i%b: print(i)  #5의배수 % b == 0\n",
    "\n",
    "    print(f'count_a : {count_a}')\n",
    "    print(f'count_b : {count_b}')\n",
    "\n",
    "CommonMultiple(300, 3, 4)"
   ],
   "metadata": {
    "collapsed": false,
    "pycharm": {
     "name": "#%%\n"
    }
   }
  },
  {
   "cell_type": "markdown",
   "source": [
    "# **ListCommonMultiple**"
   ],
   "metadata": {
    "collapsed": false,
    "pycharm": {
     "name": "#%% md\n"
    }
   }
  },
  {
   "cell_type": "code",
   "execution_count": 56,
   "outputs": [
    {
     "name": "stdout",
     "output_type": "stream",
     "text": [
      "30\n",
      "60\n",
      "90\n"
     ]
    }
   ],
   "source": [
    "def ListCommonMultiple(n):\n",
    "    mul_5, mul_6 = [], []\n",
    "\n",
    "    # for i in range(int(n/5) + 1):\n",
    "    #     mul_5.append(i * 5)\n",
    "    # for i in range(int(n/6) + 1):\n",
    "    #     mul_6.append(i * 6)\n",
    "\n",
    "    ret_5 = [i for i in range(5, 101, 5)]\n",
    "    ret_6 = [i for i in range(6, 101, 6)]\n",
    "    for element in ret_5:\n",
    "        if element in ret_6: print(element)\n",
    "\n",
    "\n",
    "ListCommonMultiple(60)"
   ],
   "metadata": {
    "collapsed": false,
    "pycharm": {
     "name": "#%%\n"
    }
   }
  },
  {
   "cell_type": "markdown",
   "source": [
    "# **list Comprehension**"
   ],
   "metadata": {
    "collapsed": false
   }
  },
  {
   "cell_type": "code",
   "execution_count": 57,
   "outputs": [
    {
     "name": "stdout",
     "output_type": "stream",
     "text": [
      "[10, 20, 30, 40, 50, 60, 70, 80, 90, 100]\n",
      "[10, 20, 30, 40, 50, 60, 70, 80, 90, 100]\n"
     ]
    }
   ],
   "source": [
    "#list comprehension\n",
    "ret = []\n",
    "for i in range(10, 101, 10): ret.append(i)\n",
    "\n",
    "print(ret)\n",
    "\n",
    "ret = [i for i in range(10, 101, 10)]\n",
    "print(ret)"
   ],
   "metadata": {
    "collapsed": false,
    "pycharm": {
     "name": "#%%\n"
    }
   }
  },
  {
   "cell_type": "markdown",
   "source": [
    "# **37. 집합(set) 사용하기**"
   ],
   "metadata": {
    "collapsed": false,
    "pycharm": {
     "name": "#%% md\n"
    }
   }
  },
  {
   "cell_type": "code",
   "execution_count": 58,
   "outputs": [
    {
     "name": "stdout",
     "output_type": "stream",
     "text": [
      "{1, 2, 3}\n",
      "<class 'set'>\n",
      "{'hello', (1, 2, 3), 1.0}\n",
      "{1, 2, 3, 4}\n",
      "<class 'dict'>\n",
      "<class 'set'>\n"
     ]
    }
   ],
   "source": [
    "my_set = {1, 2, 3}\n",
    "print(my_set)\n",
    "print(type(my_set))\n",
    "\n",
    "my_set = {'hello', 1.0, (1,2,3)}\n",
    "print(my_set)\n",
    "# my_set = {1, 2, [4, 5]}\n",
    "\n",
    "my_set = {1, 2, 3, 3, 4, 2}\n",
    "print(my_set)\n",
    "\n",
    "#print(my_set[0])\n",
    "\n",
    "my_set = { }\n",
    "print(type(my_set))\n",
    "my_set = set()\n",
    "print(type(my_set))"
   ],
   "metadata": {
    "collapsed": false,
    "pycharm": {
     "name": "#%%\n"
    }
   }
  },
  {
   "cell_type": "markdown",
   "source": [
    "# **38. 집합(set) 관련 메소드 1 - 항목 추가하고 가져오기**"
   ],
   "metadata": {
    "collapsed": false
   }
  },
  {
   "cell_type": "code",
   "execution_count": 59,
   "outputs": [
    {
     "name": "stdout",
     "output_type": "stream",
     "text": [
      "{'sea', 'sky'}\n",
      "\n",
      "{'sea', 'earth', 'sky'}\n",
      "{'sea', 'earth', 1, 2, 3, 'sky'}\n",
      "\n",
      "sea\n",
      "{'earth', 1, 2, 3, 'sky'}\n",
      "earth\n"
     ]
    }
   ],
   "source": [
    "s_nature = {'sky', 'sea'}\n",
    "print(s_nature)\n",
    "print()\n",
    "\n",
    "#항목 추가하기\n",
    "s_nature.add('earth')\n",
    "print(s_nature)\n",
    "s_nature.update({1, 2}, {2, 3})\n",
    "print(s_nature)\n",
    "print()\n",
    "\n",
    "#항목 추가하기\n",
    "print(s_nature.pop())\n",
    "print(s_nature)\n",
    "print(s_nature.pop())\n"
   ],
   "metadata": {
    "collapsed": false,
    "pycharm": {
     "name": "#%%\n"
    }
   }
  },
  {
   "cell_type": "markdown",
   "source": [
    "# **39. 집합(set) 관련 메소드 2 - 항목 삭제하기**"
   ],
   "metadata": {
    "collapsed": false,
    "pycharm": {
     "name": "#%% md\n"
    }
   }
  },
  {
   "cell_type": "code",
   "execution_count": 60,
   "outputs": [
    {
     "name": "stdout",
     "output_type": "stream",
     "text": [
      "{'목성', '천왕성', '명왕성', '수성', '지구', '해왕성', '토성', '화성', '금섬'}\n",
      "\n",
      "{'목성', '천왕성', '명왕성', '수성', '지구', '해왕성', '토성', '화성', '금섬'}\n",
      "{'목성', '명왕성', '수성', '지구', '해왕성', '토성', '화성', '금섬'}\n",
      "\n",
      "set()\n"
     ]
    }
   ],
   "source": [
    "s_planet = {'수성', '금섬', '지구', '화성',\n",
    "            '목성', '토성', '천왕성', '해왕성', '명왕성'}\n",
    "print(s_planet)\n",
    "print()\n",
    "\n",
    "#항목 추가하기\n",
    "s_planet.discard('금성')\n",
    "print(s_planet)\n",
    "s_planet.remove('천왕성')\n",
    "print(s_planet)\n",
    "s_planet.remove('명왕성')\n",
    "print()\n",
    "\n",
    "#항목 비우기\n",
    "s_planet.clear()\n",
    "print(s_planet)\n"
   ],
   "metadata": {
    "collapsed": false,
    "pycharm": {
     "name": "#%%\n"
    }
   }
  },
  {
   "cell_type": "markdown",
   "source": [
    "# **40. 집합(set) 관련 메소드 3 - 집합 연산하기**"
   ],
   "metadata": {
    "collapsed": false
   }
  },
  {
   "cell_type": "code",
   "execution_count": 61,
   "outputs": [
    {
     "name": "stdout",
     "output_type": "stream",
     "text": [
      "{1, 2, 3, 4, 5, 6, 7, 8, 9} -> A | B\n",
      "{1, 2, 3, 4, 5, 6, 7, 8, 9} -> A.union(B)\n",
      "{1, 2, 3, 4, 5, 6} -> A.union(A)\n",
      "{1, 2, 3, 4, 5, 6} -> A\n",
      "\n",
      "{4, 5, 6} -> A & B\n",
      "{4, 5, 6} -> A.intersection(B)\n",
      "\n",
      "{1, 2, 3} -> A - B\n",
      "{1, 2, 3} -> A.difference(B)\n",
      "\n",
      "{1, 2, 3, 7, 8, 9} -> A ^ B\n",
      "{1, 2, 3, 7, 8, 9} -> A.symmetric_difference(B)\n",
      "\n",
      "True\n",
      "True\n",
      "True\n",
      "True\n"
     ]
    }
   ],
   "source": [
    "A = {1, 2, 3, 4, 5, 6}\n",
    "B = {4, 5, 6, 7, 8, 9}\n",
    "\n",
    "#합집합\n",
    "print(f'{A | B} -> A | B')\n",
    "print(f'{A.union(B)} -> A.union(B)')\n",
    "print(f'{A.union(A)} -> A.union(A)')\n",
    "print(f'{A} -> A')\n",
    "print()\n",
    "\n",
    "#교집합\n",
    "print(f'{A & B} -> A & B')\n",
    "print(f'{A.intersection(B)} -> A.intersection(B)')\n",
    "print()\n",
    "\n",
    "#차집합\n",
    "print(f'{A - B} -> A - B')\n",
    "print(f'{A.difference(B)} -> A.difference(B)')\n",
    "print()\n",
    "\n",
    "#대칭차집합\n",
    "print(f'{A ^ B} -> A ^ B')\n",
    "print(f'{A.symmetric_difference(B)} -> A.symmetric_difference(B)')\n",
    "print()\n",
    "\n",
    "#부분집합\n",
    "print({4, 5, 6} <= A)\n",
    "print({4, 5, 6}.issubset(A))\n",
    "print({1, 2, 3, 4, 5, 6} >= A)\n",
    "print({1, 2, 3, 4, 5, 6}.issuperset(A))"
   ],
   "metadata": {
    "collapsed": false,
    "pycharm": {
     "name": "#%%\n"
    }
   }
  },
  {
   "cell_type": "markdown",
   "source": [
    "# **집합 6의 배수와 집합 5의 배수의 계산**"
   ],
   "metadata": {
    "collapsed": false,
    "pycharm": {
     "name": "#%% md\n"
    }
   }
  },
  {
   "cell_type": "code",
   "execution_count": 62,
   "outputs": [
    {
     "name": "stdout",
     "output_type": "stream",
     "text": [
      "{90, 60, 30}\n",
      "{65, 66, 5, 70, 6, 72, 10, 75, 12, 78, 15, 80, 18, 20, 85, 84, 24, 25, 90, 30, 95, 96, 35, 100, 36, 40, 42, 45, 48, 50, 54, 55, 60}\n"
     ]
    }
   ],
   "source": [
    "mul_5 = {i for i in range(5, 101, 5)}\n",
    "mul_6 = {i for i in range(6, 101, 6)}\n",
    "\n",
    "#교집합\n",
    "print(mul_5.intersection(mul_6))\n",
    "\n",
    "#합집합\n",
    "print(mul_5.union(mul_6))"
   ],
   "metadata": {
    "collapsed": false,
    "pycharm": {
     "name": "#%%\n"
    }
   }
  },
  {
   "cell_type": "markdown",
   "source": [
    "# **46. 형 변환**"
   ],
   "metadata": {
    "collapsed": false,
    "pycharm": {
     "name": "#%% md\n"
    }
   }
  },
  {
   "cell_type": "code",
   "execution_count": 63,
   "outputs": [
    {
     "name": "stdout",
     "output_type": "stream",
     "text": [
      "7, <class 'int'>\n",
      "7.0, <class 'float'>\n",
      "7, <class 'str'>\n",
      "----------------------------------------\n",
      "[1, 2, 3], <class 'list'>\n",
      "(1, 2, 3), <class 'tuple'>\n"
     ]
    }
   ],
   "source": [
    "# 숫자와 문자열 사이의 형 변환\n",
    "iNumber = int('7')\n",
    "print(f'{iNumber}, {type(iNumber)}')\n",
    "\n",
    "fNumber = float(iNumber)\n",
    "print(f'{fNumber}, {type(fNumber)}')\n",
    "\n",
    "sNumber = str(iNumber)\n",
    "print(f'{sNumber}, {type(sNumber)}')\n",
    "#print(sNumber + 1)\n",
    "\n",
    "print('-' * 40)\n",
    "#리스트와 튜플 사이의 형변환\n",
    "myList = [1, 2, 3]\n",
    "print(f'{myList}, {type(myList)}')\n",
    "\n",
    "myTuple = tuple(myList)\n",
    "print(f'{myTuple}, {type(myTuple)}')"
   ],
   "metadata": {
    "collapsed": false,
    "pycharm": {
     "name": "#%%\n"
    }
   }
  },
  {
   "cell_type": "markdown",
   "source": [
    "# **47. 출력하기 [-, %]를 이용해 형식에 맞춰 출력하기**"
   ],
   "metadata": {
    "collapsed": false,
    "pycharm": {
     "name": "#%% md\n"
    }
   }
  },
  {
   "cell_type": "code",
   "execution_count": 64,
   "outputs": [
    {
     "name": "stdout",
     "output_type": "stream",
     "text": [
      "하나, 둘\n",
      "1, 2, 3\n",
      "\n",
      "작품번호:   165, 작품선호도:   9.23\n",
      "작품번호:   468, 작품선호도:   8.12\n",
      "\n",
      "체질량지수(BMI)를 계산해 보아요\n",
      "BMI는 70/(180.00 * 180.00) 이므로   0.00이다.\n"
     ]
    }
   ],
   "source": [
    "print('%s, %s' % ('하나', '둘'))\n",
    "print('%d, %d, %d\\n' % (1, 2, 3))\n",
    "\n",
    "print('작품번호: %5d, 작품선호도: %6.2f' % (165, 9.228))\n",
    "print('작품번호: %5d, 작품선호도: %6.2f\\n' % (468, 8.124))\n",
    "\n",
    "print('체질량지수(BMI)를 계산해 보아요')\n",
    "\n",
    "weight, height = 70, 180\n",
    "bmi = weight/(height*height)\n",
    "comment = 'BMI는 %d/(%.2f * %.2f) 이므로 %6.2f이다.'\n",
    "\n",
    "print(comment % (weight, height, height, bmi))"
   ],
   "metadata": {
    "collapsed": false,
    "pycharm": {
     "name": "#%%\n"
    }
   }
  },
  {
   "cell_type": "markdown",
   "source": [
    "# **48. 출력하기 - format()을 이용해 형식에 맞춰 출력하기**"
   ],
   "metadata": {
    "collapsed": false
   }
  },
  {
   "cell_type": "code",
   "execution_count": 65,
   "outputs": [
    {
     "name": "stdout",
     "output_type": "stream",
     "text": [
      "하나, 둘\n",
      "1, 2, [3, 4, 5]\n",
      "칸이 비어도 하나, 둘, 셋\n",
      "\n",
      "c, b, a\n",
      "오렌지를 먹은 지 얼마나오렌지\n",
      "\n",
      "체질량지수(BMI)를 계산해 보아요\n",
      "BMI는 70/(180*180) 이므로   0.00이다.\n"
     ]
    }
   ],
   "source": [
    "print('{0}, {1}'.format('하나','둘'))\n",
    "print('{0}, {1}, {2}'.format(1, 2, [3, 4, 5]))\n",
    "print('칸이 비어도 {}, {}, {}\\n'.format('하나', '둘', '셋'))\n",
    "\n",
    "print('{2}, {1}, {0}'.format('a', 'b', 'c'))\n",
    "print('{0}{1}{0}\\n'.format('오렌지', '를 먹은 지 얼마나'))\n",
    "\n",
    "print('체질량지수(BMI)를 계산해 보아요')\n",
    "\n",
    "weight, height, bmi = 70, 180, weight/(height*height)\n",
    "\n",
    "comment = 'BMI는 {0}/({1}*{1}) 이므로 {2:6.2f}이다.'\n",
    "\n",
    "print(comment.format(weight, height, bmi))"
   ],
   "metadata": {
    "collapsed": false,
    "pycharm": {
     "name": "#%%\n"
    }
   }
  },
  {
   "cell_type": "markdown",
   "source": [
    "# **49. 출력하기 - format() 더 알아보기**"
   ],
   "metadata": {
    "collapsed": false
   }
  },
  {
   "cell_type": "code",
   "execution_count": 66,
   "outputs": [
    {
     "name": "stdout",
     "output_type": "stream",
     "text": [
      "햄버거를 만들어보자.\n",
      "햄버거의 기본재료 ('빵', '토마토', '야채', '소스')이고,\n",
      "핵심재료에 따라 이름이 달라져.\n",
      "\n",
      "핵심재료가 새우면 새우버거\n",
      "핵심재료가 불고기면 불고기버거\n",
      "핵심재료가 한우면 한우버거\n",
      "핵심재료가 치즈면 치즈버거\n"
     ]
    }
   ],
   "source": [
    "print('햄버거를 만들어보자.')\n",
    "\n",
    "basemat = ('빵', '토마토', '야채', '소스')\n",
    "coremat = ('새우', '불고기', '한우', '치즈')\n",
    "\n",
    "print('''{food}의 기본재료 {base}이고,\n",
    "핵심재료에 따라 이름이 달라져.'''.format(food='햄버거', base=basemat))\n",
    "print()\n",
    "\n",
    "for item in coremat:\n",
    "    print('핵심재료가 {core}면 {core}버거'.format(core=item))"
   ],
   "metadata": {
    "collapsed": false,
    "pycharm": {
     "name": "#%%\n"
    }
   }
  },
  {
   "cell_type": "code",
   "execution_count": 67,
   "outputs": [
    {
     "name": "stdout",
     "output_type": "stream",
     "text": [
      "math 모듈 실행\n",
      "Module.MyMath\n",
      "내가 만든 모듈 사용 예제\n",
      "3.14\n",
      "3.141592653589793\n",
      "1부터 10까지의 합: 10\n",
      "1부터 10까지의 홉: 3628800\n"
     ]
    }
   ],
   "source": [
    "from Module.MyMath import pi, oneAddN, oneMulN\n",
    "import math\n",
    "\n",
    "print('내가 만든 모듈 사용 예제')\n",
    "\n",
    "print(pi)\n",
    "print(math.pi)\n",
    "\n",
    "print(f'1부터 10까지의 합: {oneAddN(10)}')\n",
    "print(f'1부터 10까지의 홉: {oneMulN(10)}')"
   ],
   "metadata": {
    "collapsed": false,
    "pycharm": {
     "name": "#%%\n"
    }
   }
  },
  {
   "cell_type": "markdown",
   "source": [
    "# **91. random 모듈 - 난수 만들기**"
   ],
   "metadata": {
    "collapsed": false
   }
  },
  {
   "cell_type": "code",
   "execution_count": 68,
   "outputs": [
    {
     "name": "stdout",
     "output_type": "stream",
     "text": [
      "38 26 40 32 22 34 "
     ]
    }
   ],
   "source": [
    "import random\n",
    "\n",
    "for i in range(6):\n",
    "    number = random.randint(1, 45)\n",
    "    print(number, end=' ')"
   ],
   "metadata": {
    "collapsed": false,
    "pycharm": {
     "name": "#%%\n"
    }
   }
  },
  {
   "cell_type": "markdown",
   "source": [
    "# **92. random 모듈 - 리스트를 섞고 무작위로 뽑기**"
   ],
   "metadata": {
    "collapsed": false
   }
  },
  {
   "cell_type": "code",
   "execution_count": 69,
   "outputs": [
    {
     "name": "stdout",
     "output_type": "stream",
     "text": [
      "['A', '2', '3', '3', '5', '6', '7', '8', '9', '10', 'J', 'Q', 'K']\n",
      "['6', '9', '2', '3', '10', '7', 'A', '5', 'J', '8', 'K', '3', 'Q']\n",
      "J\n"
     ]
    }
   ],
   "source": [
    "import random\n",
    "\n",
    "card =['A','2','3','3','5','6','7',\n",
    "       '8','9','10','J','Q','K']\n",
    "\n",
    "print(card)\n",
    "\n",
    "random.shuffle(card)\n",
    "print(card)\n",
    "\n",
    "print(random.choice(card))\n"
   ],
   "metadata": {
    "collapsed": false,
    "pycharm": {
     "name": "#%%\n"
    }
   }
  },
  {
   "cell_type": "markdown",
   "source": [
    "# **93. random 모듈 - 여러 항목을 한꺼번에 뽑기**"
   ],
   "metadata": {
    "collapsed": false
   }
  },
  {
   "cell_type": "code",
   "execution_count": 70,
   "outputs": [
    {
     "name": "stdout",
     "output_type": "stream",
     "text": [
      "['은', '화', '의']\n",
      "[4, 8, 10, 23, 32, 38]\n"
     ]
    }
   ],
   "source": [
    "import random\n",
    "\n",
    "myStr = '최고의 영화 - 죽은시인의사회'\n",
    "print(random.sample(myStr, 3))\n",
    "\n",
    "myList = random.sample(range(1, 46), 6)\n",
    "myList.sort()\n",
    "print(myList)"
   ],
   "metadata": {
    "collapsed": false,
    "pycharm": {
     "name": "#%%\n"
    }
   }
  },
  {
   "cell_type": "markdown",
   "source": [
    "# **94. random 모듈 - 실수로 구성된 난수 만들기**"
   ],
   "metadata": {
    "collapsed": false
   }
  },
  {
   "cell_type": "code",
   "execution_count": 71,
   "outputs": [
    {
     "name": "stdout",
     "output_type": "stream",
     "text": [
      "0.3508726879887235\n",
      "8.699407537042347\n"
     ]
    }
   ],
   "source": [
    "import random\n",
    "\n",
    "print(random.random())\n",
    "\n",
    "print(random.uniform(0, 10))"
   ],
   "metadata": {
    "collapsed": false,
    "pycharm": {
     "name": "#%%\n"
    }
   }
  },
  {
   "cell_type": "markdown",
   "source": [
    "# **98. datetime 모듈 - 다른 방법으로 년, 월, 일, 시, 분, 초 추출하기**"
   ],
   "metadata": {
    "collapsed": false
   }
  },
  {
   "cell_type": "code",
   "execution_count": 72,
   "outputs": [
    {
     "name": "stdout",
     "output_type": "stream",
     "text": [
      "2021-06-21 11:31:46.309372\n",
      "2021/6/21\n",
      "11:31:46:309372\n",
      "0\n"
     ]
    }
   ],
   "source": [
    "import datetime\n",
    "\n",
    "d = datetime.datetime.now()\n",
    "print(d)\n",
    "print(d.year, d.month, d.day, sep='/')\n",
    "print(d.hour, d.minute, d.second, d.microsecond, sep=':')\n",
    "print(d.weekday())"
   ],
   "metadata": {
    "collapsed": false,
    "pycharm": {
     "name": "#%%\n"
    }
   }
  },
  {
   "cell_type": "code",
   "execution_count": 73,
   "outputs": [
    {
     "name": "stdout",
     "output_type": "stream",
     "text": [
      "0:00:00.925378\n"
     ]
    }
   ],
   "source": [
    "import datetime\n",
    "\n",
    "\n",
    "startTime = datetime.datetime.now()\n",
    "written = input('오늘 점심 메뉴는 탕수율:')\n",
    "print(datetime.datetime.now() - startTime)"
   ],
   "metadata": {
    "collapsed": false,
    "pycharm": {
     "name": "#%%\n"
    }
   }
  },
  {
   "cell_type": "code",
   "execution_count": 74,
   "outputs": [
    {
     "name": "stdout",
     "output_type": "stream",
     "text": [
      "<class '__main__.Robot'>\n",
      "안녕하세요. 휴보입니다.\n"
     ]
    }
   ],
   "source": [
    "class Robot():\n",
    "    name, weight = '휴보' , 45\n",
    "\n",
    "    def speak(self):\n",
    "        print('안녕하세요. 휴보입니다.')\n",
    "\n",
    "    def move(self):\n",
    "        print('휴보가 이동한다.')\n",
    "\n",
    "robot1 = Robot()\n",
    "robot2 = Robot()\n",
    "robot3 = Robot()\n",
    "\n",
    "print(type(robot1))\n",
    "robot2.speak()"
   ],
   "metadata": {
    "collapsed": false,
    "pycharm": {
     "name": "#%%\n"
    }
   }
  },
  {
   "cell_type": "markdown",
   "source": [
    "# **110. 가장 간단한 클래스**"
   ],
   "metadata": {
    "collapsed": false,
    "pycharm": {
     "name": "#%% md\n"
    }
   }
  },
  {
   "cell_type": "code",
   "execution_count": 75,
   "outputs": [
    {
     "name": "stdout",
     "output_type": "stream",
     "text": [
      "Hubo 2-45 kg\n",
      "Hubo 2 plus-2011년\n"
     ]
    }
   ],
   "source": [
    "class Robot:\n",
    "    \"가장 심플한 클래스\"\n",
    "    pass\n",
    "robot1 = Robot()\n",
    "robot1.name = 'Hubo 2'\n",
    "robot1.weight = '45 kg'\n",
    "\n",
    "robot2 = Robot()\n",
    "robot2.name = 'Hubo 2 plus'\n",
    "robot2.build_year = '2011년'\n",
    "\n",
    "print(f'{robot1.name}-{robot1.weight}')\n",
    "print(f'{robot2.name}-{robot2.build_year}')"
   ],
   "metadata": {
    "collapsed": false,
    "pycharm": {
     "name": "#%%\n"
    }
   }
  },
  {
   "cell_type": "markdown",
   "source": [
    "# **111. \\_\\_init\\_\\_()**"
   ],
   "metadata": {
    "collapsed": false,
    "pycharm": {
     "name": "#%% md\n"
    }
   }
  },
  {
   "cell_type": "code",
   "execution_count": 76,
   "outputs": [
    {
     "name": "stdout",
     "output_type": "stream",
     "text": [
      "init 실행\n",
      "init 실행\n",
      "pybot-45Kg\n",
      "pybot-45Kg\n",
      "\n",
      "minibot-45Kg\n",
      "pybot-60kg\n"
     ]
    }
   ],
   "source": [
    "class Robot:\n",
    "    '''다양한 로봇을 만드는 클래스'''\n",
    "    def __init__(self):\n",
    "        self.name = 'pybot'\n",
    "        self.weight = '45Kg'\n",
    "        print('init 실행')\n",
    "    def move(self):\n",
    "        print('move 실행')\n",
    "\n",
    "hubo1 = Robot()\n",
    "hubo2 = Robot()\n",
    "print(f'{hubo1.name}-{hubo1.weight}')\n",
    "print(f'{hubo2.name}-{hubo2.weight}')\n",
    "\n",
    "print()\n",
    "hubo1.name = 'minibot'\n",
    "hubo2.weight = '60kg'\n",
    "print(f'{hubo1.name}-{hubo1.weight}')\n",
    "print(f'{hubo2.name}-{hubo2.weight}')"
   ],
   "metadata": {
    "collapsed": false,
    "pycharm": {
     "name": "#%%\n"
    }
   }
  },
  {
   "cell_type": "markdown",
   "source": [
    "# **112. \\_\\_init\\_\\_()에 매개 변수 추가하기**"
   ],
   "metadata": {
    "collapsed": false
   }
  },
  {
   "cell_type": "code",
   "execution_count": 77,
   "outputs": [
    {
     "name": "stdout",
     "output_type": "stream",
     "text": [
      "KAIST, True, shane, 2016\n",
      "KAIST, True, albert, 2018\n"
     ]
    }
   ],
   "source": [
    "class Robot:\n",
    "    '''다양한 로봇을 만드는 클래스'''\n",
    "    def __init__(self, name, build_year):\n",
    "        self.maker = 'KAIST'\n",
    "        self.isWalking = True\n",
    "        self.name = name\n",
    "        self.build_year = build_year\n",
    "\n",
    "hubo1 = Robot('shane', 2016)\n",
    "print(f'{hubo1.maker}, {hubo1.isWalking}, {hubo1.name}, {hubo1.build_year}')\n",
    "\n",
    "hubo2 = Robot('albert', 2018)\n",
    "print(f'{hubo2.maker}, {hubo2.isWalking}, {hubo2.name}, {hubo2.build_year}')"
   ],
   "metadata": {
    "collapsed": false,
    "pycharm": {
     "name": "#%%\n"
    }
   }
  },
  {
   "cell_type": "markdown",
   "source": [
    "# **113. 메소드**"
   ],
   "metadata": {
    "collapsed": false
   }
  },
  {
   "cell_type": "code",
   "execution_count": 78,
   "outputs": [
    {
     "name": "stdout",
     "output_type": "stream",
     "text": [
      "현재 좌표: (3, 3)\n"
     ]
    }
   ],
   "source": [
    "class Robot:\n",
    "    '''다양한 로봇을 만드는 클래스'''\n",
    "    def __init__(self, name, build_year):\n",
    "        self.maker = 'KAIST'\n",
    "        self.isWalking = True\n",
    "        self.name = name\n",
    "        self.build_year = build_year\n",
    "        self.xpos = 0\n",
    "        self.ypos = 0\n",
    "\n",
    "    def move(self):\n",
    "        if self.isWalking:\n",
    "            self.xpos += 1\n",
    "            self.ypos += 1\n",
    "\n",
    "    def curPosition(self):\n",
    "        print(f'현재 좌표: ({self.xpos}, {self.ypos})')\n",
    "\n",
    "hubo = Robot('shane', 2016)\n",
    "hubo.move()\n",
    "hubo.move()\n",
    "hubo.move()\n",
    "hubo.curPosition()"
   ],
   "metadata": {
    "collapsed": false,
    "pycharm": {
     "name": "#%%\n"
    }
   }
  },
  {
   "cell_type": "markdown",
   "source": [
    "# **115. 클래스 변수와 인스턴스 변수**"
   ],
   "metadata": {
    "collapsed": false,
    "pycharm": {
     "name": "#%% md\n"
    }
   }
  },
  {
   "cell_type": "code",
   "execution_count": 79,
   "outputs": [
    {
     "name": "stdout",
     "output_type": "stream",
     "text": [
      "KAIST 3 3\n",
      "Pass 3\n"
     ]
    }
   ],
   "source": [
    "class Robot:\n",
    "    '''다양한 로봇을 만드는 클래스'''\n",
    "\n",
    "    #클래스 변수\n",
    "    population = 0\n",
    "    maker = 'KAIST'\n",
    "\n",
    "    def __init__(self, name, build_year):\n",
    "        self.isWalking= True\n",
    "        self.name = name\n",
    "        self.build_year = build_year\n",
    "        self.xpos = 0\n",
    "        self.ypos = 0\n",
    "        Robot.population += 1\n",
    "\n",
    "\n",
    "hubo1 = Robot('shane', 2016)\n",
    "hubo2 = Robot('albert', 2018)\n",
    "hubo3 = Robot('sol', 2018)\n",
    "\n",
    "print(Robot.maker, Robot.population, hubo1.population)\n",
    "\n",
    "Robot.maker = 'Pass'\n",
    "print(hubo2.maker, hubo2.population)\n",
    "\n"
   ],
   "metadata": {
    "collapsed": false,
    "pycharm": {
     "name": "#%%\n"
    }
   }
  },
  {
   "cell_type": "markdown",
   "source": [
    "# **116. 데이터 숨기기**"
   ],
   "metadata": {
    "collapsed": false
   }
  },
  {
   "cell_type": "code",
   "execution_count": 80,
   "outputs": [
    {
     "name": "stdout",
     "output_type": "stream",
     "text": [
      "albert\n",
      "2016\n",
      "\n",
      "['_Robot__build_year', '__class__', '__delattr__', '__dict__', '__dir__', '__doc__', '__eq__', '__format__', '__ge__', '__getattribute__', '__gt__', '__hash__', '__init__', '__init_subclass__', '__le__', '__lt__', '__module__', '__ne__', '__new__', '__reduce__', '__reduce_ex__', '__repr__', '__setattr__', '__sizeof__', '__str__', '__subclasshook__', '__weakref__', 'getYear', 'name', 'xpos', 'ypos']\n"
     ]
    }
   ],
   "source": [
    "class Robot:\n",
    "    '''다양한 로봇을 만드는 클래스'''\n",
    "    def __init__(self, name, build_year):\n",
    "        self.name = name\n",
    "        self.__build_year = build_year\n",
    "        self.xpos = 0\n",
    "        self.ypos = 0\n",
    "\n",
    "    def getYear(self):\n",
    "        return self.__build_year\n",
    "hubo = Robot('shane', 2016)\n",
    "\n",
    "hubo.name = 'albert'\n",
    "print(hubo.name)\n",
    "#print(hubo.__build_year)\n",
    "print(hubo.getYear())\n",
    "\n",
    "print()\n",
    "print(dir(hubo))"
   ],
   "metadata": {
    "collapsed": false,
    "pycharm": {
     "name": "#%%\n"
    }
   }
  },
  {
   "cell_type": "markdown",
   "source": [
    "# **queue 클래스로 구현**"
   ],
   "metadata": {
    "collapsed": false,
    "pycharm": {
     "name": "#%% md\n"
    }
   }
  },
  {
   "cell_type": "code",
   "execution_count": 81,
   "outputs": [
    {
     "name": "stdout",
     "output_type": "stream",
     "text": [
      "[push] msg = 3, queue = ['3']\n",
      "[push] msg = 2, queue = ['3', '2']\n",
      "[front] msg = 3, queue = ['3', '2']\n",
      "[back] msg = 2, queue = ['3', '2']\n",
      "[size] msg = 2, queue = ['3', '2']\n",
      "[empty] msg = is not empty, queue = ['3', '2']\n",
      "[pop] msg = 3, queue = ['2']\n",
      "[pop] msg = 2, queue = []\n",
      "[pop] msg = None, queue = []\n",
      "[size] msg = 0, queue = []\n",
      "[empty] msg = is empty, queue = []\n",
      "[pop] msg = None, queue = []\n",
      "[empty] msg = is empty, queue = []\n",
      "[front] msg = None, queue = []\n"
     ]
    }
   ],
   "source": [
    "from collections import deque\n",
    "\n",
    "class Queue():\n",
    "    def __init__(self):\n",
    "        self.queue = deque()\n",
    "    def push(self, num):\n",
    "        self.queue.append(num)\n",
    "        return self.queue[-1]\n",
    "    def pop(self):\n",
    "        if self.queue : return self.queue.popleft()\n",
    "        else: return None\n",
    "    def front(self):\n",
    "        if self.queue : return self.queue[0]\n",
    "        else: return None\n",
    "    def back(self):\n",
    "        if self.queue : return self.queue[-1]\n",
    "        else: return None\n",
    "    def size(self):\n",
    "        return len(self.queue)\n",
    "    def empty(self):\n",
    "        if not self.queue: return 'is empty' #queue == 0\n",
    "        else: return 'is not empty'\n",
    "    def logger(self, op, ret):\n",
    "        print(f'[{op}] msg = {ret}, queue = {list(self.queue)}')\n",
    "\n",
    "operations = ['push 3', 'push 2', 'front', 'back', 'size', 'empty', 'pop', 'pop',\n",
    "              'pop', 'size', 'empty', 'pop', 'empty', 'front']\n",
    "\n",
    "new_operations = [op.split(' ') for op in operations]\n",
    "\n",
    "queue = Queue()\n",
    "\n",
    "for op in new_operations:\n",
    "    if op[0] == 'push': ret = queue.push(op[1])\n",
    "    elif op[0] == 'pop': ret = queue.pop()\n",
    "    elif op[0] == 'front': ret = queue.front()\n",
    "    elif op[0] == 'back': ret = queue.back()\n",
    "    elif op[0] == 'size': ret = queue.size()\n",
    "    elif op[0] == 'empty': ret = queue.empty()\n",
    "    else: print('해당 명령어는 없습니다')\n",
    "    queue.logger(op[0], ret)"
   ],
   "metadata": {
    "collapsed": false,
    "pycharm": {
     "name": "#%%\n"
    }
   }
  },
  {
   "cell_type": "markdown",
   "source": [
    "# **117. 상속**"
   ],
   "metadata": {
    "collapsed": false,
    "pycharm": {
     "name": "#%% md\n"
    }
   }
  },
  {
   "cell_type": "code",
   "execution_count": 82,
   "outputs": [
    {
     "name": "stdout",
     "output_type": "stream",
     "text": [
      "로봇이 이동한다\n",
      "청소로봇이 먼지를 쓸어 담는다.\n",
      "로봇이 이동한다\n"
     ]
    }
   ],
   "source": [
    "class Robot:\n",
    "    '''다양한 로복을 만드는 클래스'''\n",
    "    def speak(self):\n",
    "        print('로봇이 말한다.')\n",
    "    def move(self):\n",
    "        print('로봇이 이동한다')\n",
    "    def cahrge(self):\n",
    "        print('로봇이 충전하다')\n",
    "\n",
    "class CleanRobot(Robot):\n",
    "    def broom(self):\n",
    "        print('청소로봇이 먼지를 쓸어 담는다.')\n",
    "\n",
    "robot = Robot()\n",
    "robot.move()\n",
    "\n",
    "clean = CleanRobot()\n",
    "clean.broom()\n",
    "clean.move()"
   ],
   "metadata": {
    "collapsed": false,
    "pycharm": {
     "name": "#%%\n"
    }
   }
  },
  {
   "cell_type": "markdown",
   "source": [
    "# **118. 상속 - Super()**"
   ],
   "metadata": {
    "collapsed": false,
    "pycharm": {
     "name": "#%% md\n"
    }
   }
  },
  {
   "cell_type": "code",
   "execution_count": 83,
   "outputs": [
    {
     "name": "stdout",
     "output_type": "stream",
     "text": [
      "먼지필터을 장착한 깔끔이로봇, (20, 45)에서 시작\n",
      "로봇이 이동한다.\n",
      "청소 로봇이 먼지를 쓸어 담는다.\n"
     ]
    }
   ],
   "source": [
    "class Robot:\n",
    "    '''다양한 로복을 만드는 클래스'''\n",
    "\n",
    "    def __init__(self, name, pos):\n",
    "        self.name = name\n",
    "        self.pos = pos\n",
    "\n",
    "    def speak(self):\n",
    "        print('로봇이 말한다.')\n",
    "\n",
    "    def move(self):\n",
    "        print('로봇이 이동한다.')\n",
    "\n",
    "class CleanRobot(Robot):\n",
    "    def __init__(self, name, pos, filtertype):\n",
    "        super().__init__(name, pos)\n",
    "        self.filtertype = filtertype\n",
    "\n",
    "    def broom(self):\n",
    "        print('청소 로봇이 먼지를 쓸어 담는다.')\n",
    "\n",
    "    def __str__(self):\n",
    "        word = f'{self.filtertype}을 장착한 {self.name}, {self.pos}에서 시작'\n",
    "        return word\n",
    "\n",
    "clean = CleanRobot('깔끔이로봇', (20, 45), '먼지필터')\n",
    "print(clean)\n",
    "clean.move()\n",
    "clean.broom()"
   ],
   "metadata": {
    "collapsed": false,
    "pycharm": {
     "name": "#%%\n"
    }
   }
  },
  {
   "cell_type": "markdown",
   "source": [
    "# **119. 상속 - 오버라이딩**"
   ],
   "metadata": {
    "collapsed": false,
    "pycharm": {
     "name": "#%% md\n"
    }
   }
  },
  {
   "cell_type": "code",
   "execution_count": 84,
   "outputs": [
    {
     "name": "stdout",
     "output_type": "stream",
     "text": [
      "로봇이 이동한다.\n",
      "로봇이 충전하다.\n",
      "청소로봇이 이동한다.\n",
      "로봇이 충전하다.\n"
     ]
    }
   ],
   "source": [
    "class Robot:\n",
    "    '''다양한 로복을 만드는 클래스'''\n",
    "\n",
    "    def move(self):\n",
    "        print('로봇이 이동한다.')\n",
    "\n",
    "    def cahrge(self):\n",
    "        print('로봇이 충전하다.')\n",
    "\n",
    "class CleanRobot(Robot):\n",
    "    def move(self):\n",
    "        print('청소로봇이 이동한다.')\n",
    "    def cahrge(self):\n",
    "        print('로봇이 충전하다.')\n",
    "\n",
    "robot = Robot()\n",
    "robot.move()\n",
    "robot.cahrge()\n",
    "\n",
    "clean = CleanRobot()\n",
    "clean.move()\n",
    "clean.cahrge()"
   ],
   "metadata": {
    "collapsed": false,
    "pycharm": {
     "name": "#%%\n"
    }
   }
  },
  {
   "cell_type": "markdown",
   "source": [
    "# **121. 예외 처리의 기본**"
   ],
   "metadata": {
    "collapsed": false,
    "pycharm": {
     "name": "#%% md\n"
    }
   }
  },
  {
   "cell_type": "code",
   "execution_count": 85,
   "outputs": [
    {
     "ename": "ValueError",
     "evalue": "invalid literal for int() with base 10: ''",
     "output_type": "error",
     "traceback": [
      "\u001B[1;31m---------------------------------------------------------------------------\u001B[0m",
      "\u001B[1;31mValueError\u001B[0m                                Traceback (most recent call last)",
      "\u001B[1;32m<ipython-input-85-4c22501d14a2>\u001B[0m in \u001B[0;36m<module>\u001B[1;34m\u001B[0m\n\u001B[1;32m----> 1\u001B[1;33m \u001B[0mnumber\u001B[0m \u001B[1;33m=\u001B[0m \u001B[0mint\u001B[0m\u001B[1;33m(\u001B[0m\u001B[0minput\u001B[0m\u001B[1;33m(\u001B[0m\u001B[1;34m'나눌 숫자를 입력하세요 : '\u001B[0m\u001B[1;33m)\u001B[0m\u001B[1;33m)\u001B[0m\u001B[1;33m\u001B[0m\u001B[1;33m\u001B[0m\u001B[0m\n\u001B[0m\u001B[0;32m      2\u001B[0m \u001B[1;33m\u001B[0m\u001B[0m\n\u001B[0;32m      3\u001B[0m \u001B[1;32mtry\u001B[0m\u001B[1;33m:\u001B[0m\u001B[1;33m\u001B[0m\u001B[1;33m\u001B[0m\u001B[0m\n\u001B[0;32m      4\u001B[0m     \u001B[0mresult\u001B[0m \u001B[1;33m=\u001B[0m \u001B[1;36m10\u001B[0m\u001B[1;33m/\u001B[0m\u001B[0mnumber\u001B[0m\u001B[1;33m\u001B[0m\u001B[1;33m\u001B[0m\u001B[0m\n\u001B[0;32m      5\u001B[0m \u001B[1;32mexcept\u001B[0m \u001B[0mZeroDivisionError\u001B[0m\u001B[1;33m:\u001B[0m\u001B[1;33m\u001B[0m\u001B[1;33m\u001B[0m\u001B[0m\n",
      "\u001B[1;31mValueError\u001B[0m: invalid literal for int() with base 10: ''"
     ]
    }
   ],
   "source": [
    "number = int(input('나눌 숫자를 입력하세요 : '))\n",
    "\n",
    "try:\n",
    "    result = 10/number\n",
    "except ZeroDivisionError:\n",
    "    print('0으로 나누면 안돼요.')\n",
    "else:\n",
    "    print(result)"
   ],
   "metadata": {
    "collapsed": false,
    "pycharm": {
     "name": "#%%\n"
    }
   }
  },
  {
   "cell_type": "markdown",
   "source": [
    "# **122. 예상되는 오류가 여러 개일 때**"
   ],
   "metadata": {
    "collapsed": false,
    "pycharm": {
     "name": "#%% md\n"
    }
   }
  },
  {
   "cell_type": "code",
   "execution_count": null,
   "outputs": [],
   "source": [
    "try:\n",
    "    number = int(input('나눌 숫자를 입력하세요 : '))\n",
    "    result = 10/number\n",
    "\n",
    "except ValueError:\n",
    "    print('숫자만 입력하세요.')\n",
    "except ZeroDivisionError:\n",
    "    print('0으로 나누면 안돼요.')\n",
    "except:\n",
    "    print('2가지 외에 개발자가 전혀 예측하지 못한 에러ㅠㅠ')\n",
    "else:\n",
    "    print(result)"
   ],
   "metadata": {
    "collapsed": false,
    "pycharm": {
     "name": "#%%\n"
    }
   }
  },
  {
   "cell_type": "markdown",
   "source": [
    "# **123. as문**"
   ],
   "metadata": {
    "collapsed": false,
    "pycharm": {
     "name": "#%% md\n"
    }
   }
  },
  {
   "cell_type": "code",
   "execution_count": null,
   "outputs": [],
   "source": [
    "def openFile():\n",
    "    file = open('없는파일.txt')\n",
    "    line = file.readline()\n",
    "    number = int(line.strip())\n",
    "\n",
    "try:\n",
    "    openFile()\n",
    "except OSError as err:\n",
    "    print('시스템 에러:', err)\n",
    "except:\n",
    "    print(\"내가 예측할 수 없는 오류 ㅠㅠ\")\n",
    "else:\n",
    "    print(number)"
   ],
   "metadata": {
    "collapsed": false,
    "pycharm": {
     "name": "#%%\n"
    }
   }
  },
  {
   "cell_type": "markdown",
   "source": [
    "# **124.finally**"
   ],
   "metadata": {
    "collapsed": false,
    "pycharm": {
     "name": "#%% md\n"
    }
   }
  },
  {
   "cell_type": "code",
   "execution_count": null,
   "outputs": [],
   "source": [
    "def writeFile():\n",
    "    try:\n",
    "        f = open('myfile', 'w')\n",
    "        try:\n",
    "            f.write('Hello World!')\n",
    "        finally:\n",
    "            f.close()\n",
    "    except IOError:\n",
    "        print('oops!')\n",
    "\n",
    "def readFile():\n",
    "    try:\n",
    "        f = open('myfile', 'r')\n",
    "        line = f.readline()\n",
    "    except IOError:\n",
    "        print('oops!')\n",
    "    else:\n",
    "        print(line)\n",
    "    finally:\n",
    "        f.close()\n",
    "\n",
    "writeFile()\n",
    "readFile()"
   ],
   "metadata": {
    "collapsed": false,
    "pycharm": {
     "name": "#%%\n"
    }
   }
  },
  {
   "cell_type": "markdown",
   "source": [
    "# **125 raise문**"
   ],
   "metadata": {
    "collapsed": false
   }
  },
  {
   "cell_type": "code",
   "execution_count": null,
   "outputs": [],
   "source": [
    "try:\n",
    "    raise IndexError\n",
    "except IndexError:\n",
    "    print('인덱스 에러 발생')\n"
   ],
   "metadata": {
    "collapsed": false,
    "pycharm": {
     "name": "#%%\n"
    }
   }
  },
  {
   "cell_type": "markdown",
   "source": [
    "### 타자게임 (기능)\n",
    "\n",
    "- 키보드 입력\n",
    "- 틀리면 몇자 틀렸는지 알려주기\n",
    "- 통계\n",
    "- 샘플 택스트\n",
    "- 진행 시간\n",
    "- 문장단위로 진행"
   ],
   "metadata": {
    "collapsed": false,
    "pycharm": {
     "name": "#%% md\n"
    }
   }
  },
  {
   "cell_type": "code",
   "execution_count": 135,
   "outputs": [
    {
     "name": "stdout",
     "output_type": "stream",
     "text": [
      "난이도가 쉬움로 설정되었습니다.\n",
      "노래가 애국가로 설정되었습니다.\n",
      "ID: 0, Difficulty: 쉬움, SongTitle: 애국가\n",
      "3초 뒤에 시작합니다.\n",
      "2초 뒤에 시작합니다.\n",
      "1초 뒤에 시작합니다.\n",
      "동해물과 백두산이 마르고 닳도록\n",
      "걸린시간: 3.065초, 정확도: 24%, 타수: 78타\n",
      "하느님이 보우하사 우리나라 만세\n",
      "걸린시간: 1.141초, 정확도: 18%, 타수: 158타\n",
      "무궁화 삼천리 화려강산\n",
      "걸린시간: 1.302초, 정확도: 25%, 타수: 138타\n",
      "대한사람 대한으로 기리 보전하세\n",
      "걸린시간: 0.397초, 정확도: 0%, 타수: 0타\n",
      "총 걸린시간: 5.906초, 정확도: 16.75%, 타수: 93.5타\n"
     ]
    }
   ],
   "source": [
    "import time\n",
    "import datetime\n",
    "import random\n",
    "import numpy as np\n",
    "class TypingGame:\n",
    "    WAITTIME = 3\n",
    "    SAMPLETEXT = \\\n",
    "        {'쉬움' :\n",
    "             {'애국가' :\n",
    "                  '동해물과 백두산이 마르고 닳도록\\n'\n",
    "                  '하느님이 보우하사 우리나라 만세\\n'\n",
    "                  '무궁화 삼천리 화려강산\\n'\n",
    "                  '대한사람 대한으로 기리 보전하세',\n",
    "              '너의 번호를 누르고' :\n",
    "                  '우연히 너를 만나서\\n'\n",
    "                  '너의 옆자리에 앉아\\n'\n",
    "                  '그렇게 우린 친해졌어\\n'\n",
    "                  '짧은 시간에 그렇게\\n'\n",
    "                  '가까워질 수 있다는 게\\n'\n",
    "                  '그게 참 신기했어'\n",
    "              },\n",
    "         '보통' :\n",
    "             {'DINOSAUR' :\n",
    "                  '일부러 몇 발자국 물러나\\n'\n",
    "                  '내가 없이 혼자 걷는 널 바라본다\\n'\n",
    "                  '옆자리 허전한 너의 풍경\\n'\n",
    "                  '흑백 거리 가운데 넌 뒤돌아본다',\n",
    "              '사랑안해':\n",
    "                  '그럴려고 그랬어 돌아가려고\\n'\n",
    "                  '너의 차가움엔 그래 다 이유 있었던거야\\n'\n",
    "                  '나를 만지는 너의 손길 없어진\\n'\n",
    "                  '이제야 깨닫게 되었어 네 맘 떠나간 것을'},\n",
    "         '어려움' :\n",
    "             {'상상더하기':\n",
    "                  '1, 2 Come On, R U Ready\\n'\n",
    "                  '3, 4 Do It I\\'m Ready\\n'\n",
    "                  '5, 6 Baby Are You Ready',\n",
    "              '밤편지' :\n",
    "                  '이 밤 그날의 반딧불을\\n'\n",
    "                  '당신의 창 가까이 보낼게요\\n'\n",
    "                  '음 사랑한다는 말이에요'\n",
    "              }\n",
    "         }\n",
    "    typing_list = list()\n",
    "    def __init__(self):\n",
    "        self.typingSpeed = []\n",
    "        self.acc = []\n",
    "        self.id = input('닉네임을 적어주세요')\n",
    "        self.difficulty = self.Difficulty()\n",
    "        print(f'난이도가 {self.difficulty}로 설정되었습니다.')\n",
    "        self.Start()\n",
    "\n",
    "    def Difficulty(self):\n",
    "        while True:\n",
    "            dif = input('난이도를 선택해 주세요 [0 : 쉬움, 1 : 보통, 2 : 어려움]')\n",
    "\n",
    "            if dif in ['0', '1', '2']:\n",
    "                if dif == '0': return '쉬움'\n",
    "                elif dif == '1': return '보통'\n",
    "                elif dif == '2': return '어려움'\n",
    "\n",
    "\n",
    "\n",
    "    def SelectSong(self):\n",
    "        for typingSampleText in self.SAMPLETEXT.items():    # dic타입의 모든 값을 튜플 형태로 i로 가져옴\n",
    "            if typingSampleText[0] == self.difficulty:  # 설정한 난이도와 일치할경우 에만 실행\n",
    "                self.songTitle = random.choice(list(typingSampleText[1].keys()))    # 노래를 랜덤으로 선택함\n",
    "                print(f'노래가 {self.songTitle}로 설정되었습니다.')\n",
    "                self.lyrics = typingSampleText[1][self.songTitle].split('\\n')    #한 문장씩 뽑기 위해 \\n 기준으로 리스트로 나눔\n",
    "\n",
    "    def StartUp(self):\n",
    "        print(f'ID: {self.id}, Difficulty: {self.difficulty}, SongTitle: {self.songTitle}')\n",
    "        for i in range(self.WAITTIME, 0, -1):\n",
    "            print(f'{i}초 뒤에 시작합니다.')\n",
    "            time.sleep(1)\n",
    "\n",
    "    def Start(self):\n",
    "        # 노래선택함수\n",
    "        self.SelectSong()\n",
    "        # 카운트다운\n",
    "        self.StartUp()\n",
    "\n",
    "        startTime = datetime.datetime.now() # 시작시간체크\n",
    "        for lyStr in self.lyrics:          # 리스트 전체를 인데스 기준으로 나눔\n",
    "            sub_start = datetime.datetime.now()\n",
    "            tyStr = input(lyStr) # 입력한 값을 저장\n",
    "            elapsed = datetime.datetime.now()-sub_start\n",
    "            print(lyStr)\n",
    "            self.result(tyStr, lyStr, round(elapsed.total_seconds(), 3))\n",
    "        runningTime = datetime.datetime.now() - startTime\n",
    "        self.total_result(round(runningTime.total_seconds(), 3))    # 통계처리하기\n",
    "\n",
    "    def result(self, tyStr, lyStr, sec):\n",
    "        count = 0       # 맞은 것을 카운트 변수\n",
    "        ly_len = len(lyStr)      # 가사 전체 길이를 변수\n",
    "        ty_len = len(tyStr)      # 내가 타이핑한것의 전체 길이 변수\n",
    "        for ty, ly in zip(tyStr, lyStr):\n",
    "            if ty == ly:    # 가사 인덱스가 전체 인덱스 보다 작을때\n",
    "                count += 1  # 맞은것을 체크\n",
    "\n",
    "        typingSpeed = round(ty_len / sec * 60) # 타자속도 구하는 변수  [총입력한글자 / 걸린시간 * 60]\n",
    "        acc = round(count / ly_len * 100)   # 정확도 구하는 변수 [맞은개수 / 가사길이 * 100]\n",
    "        # 전체 통계를 구하기 위해 더해서 저장\n",
    "        self.typingSpeed.append(typingSpeed)\n",
    "        self.acc.append(acc)\n",
    "        print(f'걸린시간: {sec}초, 정확도: {acc}%, 타수: {typingSpeed}타')\n",
    "\n",
    "    def total_result(self, sec):\n",
    "        total_typing = np.array(self.typingSpeed).mean() # 전체 속도를 문장 개수로 나눔(전체속도/문장 개수)\n",
    "        total_acc =  np.array(self.acc).mean()# 전체 정확도를 문장 개수로 나눔(전체정확도/문장 개수)\n",
    "        print(f'총 걸린시간: {sec}초, 정확도: {total_acc}%, 타수: {total_typing}타')\n",
    "test = TypingGame()"
   ],
   "metadata": {
    "collapsed": false,
    "pycharm": {
     "name": "#%%\n"
    }
   }
  },
  {
   "cell_type": "code",
   "execution_count": null,
   "outputs": [],
   "source": [],
   "metadata": {
    "collapsed": false,
    "pycharm": {
     "name": "#%%\n"
    }
   }
  }
 ],
 "metadata": {
  "kernelspec": {
   "display_name": "Python 3",
   "language": "python",
   "name": "python3"
  },
  "language_info": {
   "codemirror_mode": {
    "name": "ipython",
    "version": 3
   },
   "file_extension": ".py",
   "mimetype": "text/x-python",
   "name": "python",
   "nbconvert_exporter": "python",
   "pygments_lexer": "ipython3",
   "version": "3.9.2"
  }
 },
 "nbformat": 4,
 "nbformat_minor": 5
}