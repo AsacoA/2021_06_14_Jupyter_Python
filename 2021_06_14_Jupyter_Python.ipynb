{
 "cells": [
  {
   "cell_type": "markdown",
   "id": "8d70b39a",
   "metadata": {
    "pycharm": {
     "name": "#%% md\n"
    }
   },
   "source": [
    "## *실행하기 전에 항상 esc를 누를 것*\n",
    "\n",
    "1. shift + enter : **셀** 실행하고 아래에 셀 추가\n",
    "2. a : **위**에 셀추가\n",
    "3. b : **아래**에 셀 추가\n",
    "4. dd : **셀** 삭제\n",
    "\n"
   ]
  },
  {
   "cell_type": "markdown",
   "id": "25ae2f31",
   "metadata": {
    "pycharm": {
     "name": "#%% md\n"
    }
   },
   "source": [
    "# **제목1**"
   ]
  },
  {
   "cell_type": "markdown",
   "id": "4427ee8b",
   "metadata": {
    "pycharm": {
     "name": "#%% md\n"
    }
   },
   "source": [
    "- 테스트1\n",
    "- 테스트2\n",
    "- 테스트3"
   ]
  },
  {
   "cell_type": "markdown",
   "id": "f113dd8d",
   "metadata": {
    "pycharm": {
     "name": "#%% md\n"
    }
   },
   "source": [
    "첫번째 줄\n",
    "두번 재 줄"
   ]
  },
  {
   "cell_type": "markdown",
   "id": "9c150877",
   "metadata": {
    "pycharm": {
     "name": "#%% md\n"
    }
   },
   "source": []
  },
  {
   "cell_type": "code",
   "execution_count": 380,
   "id": "b9dd118d",
   "metadata": {},
   "outputs": [
    {
     "name": "stdout",
     "output_type": "stream",
     "text": [
      "10\n",
      "50\n",
      "80\n",
      "30\n"
     ]
    }
   ],
   "source": [
    "# section_004.py\n",
    "\n",
    "apple = 10\n",
    "lemon, banana = 20, 50\n",
    "fruit = apple + lemon + banana\n",
    "\n",
    "print(apple)\n",
    "print(banana)\n",
    "print(fruit)\n",
    "\n",
    "apple = 30\n",
    "print(apple)"
   ]
  },
  {
   "cell_type": "markdown",
   "id": "e9fabc46",
   "metadata": {
    "pycharm": {
     "name": "#%% md\n"
    }
   },
   "source": [
    "# **5. 간단한 연산 맛보기**"
   ]
  },
  {
   "cell_type": "code",
   "execution_count": 381,
   "id": "00b194af",
   "metadata": {},
   "outputs": [
    {
     "data": {
      "text/plain": "1.5"
     },
     "execution_count": 381,
     "metadata": {},
     "output_type": "execute_result"
    }
   ],
   "source": [
    "add = 3 + 25\n",
    "sub = 45 - 13\n",
    "mul = 9 * 9\n",
    "div = 3 / 2\n",
    "\n",
    "add\n",
    "sub\n",
    "mul\n",
    "div"
   ]
  },
  {
   "cell_type": "markdown",
   "id": "853ba2cb",
   "metadata": {
    "pycharm": {
     "name": "#%% md\n"
    }
   },
   "source": [
    "# **6. 문자열 맛보기**"
   ]
  },
  {
   "cell_type": "code",
   "execution_count": 382,
   "id": "61a26690",
   "metadata": {
    "scrolled": true
   },
   "outputs": [
    {
     "name": "stdout",
     "output_type": "stream",
     "text": [
      "안녕하세요\n",
      "I love the Earth!\n",
      "내가 좋아하는 숫자는 1, 4, 7입니다\n"
     ]
    }
   ],
   "source": [
    "print('안녕하세요')\n",
    "print('I love the Earth!')\n",
    "print(\"내가 좋아하는 숫자는 1, 4, 7입니다\")"
   ]
  },
  {
   "cell_type": "code",
   "execution_count": 383,
   "id": "c2407ac5",
   "metadata": {},
   "outputs": [
    {
     "name": "stdout",
     "output_type": "stream",
     "text": [
      "'\n"
     ]
    }
   ],
   "source": [
    "print('\\'')"
   ]
  },
  {
   "cell_type": "markdown",
   "id": "20932dd1",
   "metadata": {
    "pycharm": {
     "name": "#%% md\n"
    }
   },
   "source": [
    "# **7. 파이썬 문장**"
   ]
  },
  {
   "cell_type": "code",
   "execution_count": 384,
   "id": "e26c9e1f",
   "metadata": {},
   "outputs": [
    {
     "name": "stdout",
     "output_type": "stream",
     "text": [
      "1\n",
      "60\n",
      "45\n",
      "45\n",
      "['red', 'blue', 'green']\n"
     ]
    }
   ],
   "source": [
    "number = 1\n",
    "print(number)\n",
    "\n",
    "num1 = 10\n",
    "num2 = 20\n",
    "num3 = 30\n",
    "print(num1 + num2 + num3)\n",
    "sum_test = 1 + 2 + 3 + \\\n",
    "      4 + 5 + 6 + \\\n",
    "      7 + 8 + 9\n",
    "print(sum_test)\n",
    "\n",
    "tup = (1+2+3+4+5+6+7+8+9)\n",
    "print(tup)\n",
    "\n",
    "color = ['red', 'blue', 'green']\n",
    "print(color)"
   ]
  },
  {
   "cell_type": "markdown",
   "id": "2bf6a3cd",
   "metadata": {
    "pycharm": {
     "name": "#%% md\n"
    }
   },
   "source": [
    "# 8. **함수 맛보기**"
   ]
  },
  {
   "cell_type": "code",
   "execution_count": 385,
   "id": "80b39eca",
   "metadata": {},
   "outputs": [
    {
     "name": "stdout",
     "output_type": "stream",
     "text": [
      "안녕! 나도 함수야\n",
      "16\n",
      "63\n",
      "2\n",
      "TEST\n"
     ]
    }
   ],
   "source": [
    "print(\"안녕! 나도 함수야\")\n",
    "\n",
    "print(len(\"이 문자열의 길이는 얼마일까?\"))\n",
    "\n",
    "print(max(11,2,63,47,50))\n",
    "print(min(11,2,63,47,50))\n",
    "\n",
    "thisdict = {\n",
    "  \"brand\": {\"Ford\" : \"TEST\"},\n",
    "  \"model\": \"Mustang\",\n",
    "  \"year\": 1964\n",
    "}\n",
    "print(thisdict[\"brand\"][\"Ford\"])"
   ]
  },
  {
   "cell_type": "markdown",
   "id": "90ca9f05",
   "metadata": {
    "pycharm": {
     "name": "#%% md\n"
    }
   },
   "source": [
    "# **10. 모듈 맛보기**"
   ]
  },
  {
   "cell_type": "code",
   "execution_count": 386,
   "id": "de6efeeb",
   "metadata": {},
   "outputs": [
    {
     "name": "stdout",
     "output_type": "stream",
     "text": [
      "3.141592653589793\n",
      "16.0\n",
      "반지름이 10인 원의 둘레는 62.83185307179586 이다\n"
     ]
    }
   ],
   "source": [
    "import math as ma\n",
    "\n",
    "print(ma.pi)\n",
    "print(ma.sqrt(256))\n",
    "\n",
    "r = 10\n",
    "cir = 2 * ma.pi * r\n",
    "print(f\"반지름이 {r}인 원의 둘레는 {cir} 이다\")"
   ]
  },
  {
   "cell_type": "markdown",
   "id": "d22dcabd",
   "metadata": {
    "pycharm": {
     "name": "#%% md\n"
    }
   },
   "source": [
    "# **12, 13. 복합 대입 연산자, 연산자 우선 순위**"
   ]
  },
  {
   "cell_type": "code",
   "execution_count": 387,
   "id": "59c4d63d",
   "metadata": {},
   "outputs": [
    {
     "name": "stdout",
     "output_type": "stream",
     "text": [
      "6\n",
      "7\n",
      "70\n",
      "15\n",
      "32\n",
      "282\n"
     ]
    }
   ],
   "source": [
    "\n",
    "x = 5\n",
    "\n",
    "x = x + 1\n",
    "\n",
    "print(x)\n",
    "x += 1\n",
    "print(x)\n",
    "\n",
    "y = 10\n",
    "y *= x\n",
    "print(y)\n",
    "\n",
    "x = 5\n",
    "x = x + 1 * 10 # x = x + (1 * 10)\n",
    "print(x)\n",
    "\n",
    "y = 42 - 1 + 1 - 10\n",
    "print(y)\n",
    "\n",
    "z = (x + y) * 6\n",
    "print(z)"
   ]
  },
  {
   "cell_type": "markdown",
   "id": "076291a9",
   "metadata": {
    "pycharm": {
     "name": "#%% md\n"
    }
   },
   "source": [
    "# **14. 여러 개의 값 출력하기**"
   ]
  },
  {
   "cell_type": "code",
   "execution_count": 388,
   "id": "e1aaea99",
   "metadata": {},
   "outputs": [
    {
     "name": "stdout",
     "output_type": "stream",
     "text": [
      "질량은 100\n",
      "높이는 1.7\n",
      "중력가속도는 9.8065\n"
     ]
    }
   ],
   "source": [
    "mass = 100\n",
    "height = 1.7\n",
    "g = 9.8065\n",
    "\n",
    "print(f'질량은 {mass}')\n",
    "print(f'높이는 {height}')\n",
    "print(f'중력가속도는 {g}')"
   ]
  },
  {
   "cell_type": "markdown",
   "id": "4447ed14",
   "metadata": {
    "pycharm": {
     "name": "#%% md\n"
    }
   },
   "source": [
    "# **21. 문자열 연산**"
   ]
  },
  {
   "cell_type": "code",
   "execution_count": 389,
   "id": "544c3339",
   "metadata": {},
   "outputs": [
    {
     "name": "stdout",
     "output_type": "stream",
     "text": [
      "========================================\n",
      "Python 훌륭한 프로그래밍 언어이다\n",
      "Python은 훌륭한 프로그래밍 언어이다\n",
      "꿈과 도전\n",
      "========================================\n"
     ]
    }
   ],
   "source": [
    "print(\"=\" * 40)\n",
    "print(\"Python\" + \" 훌륭한 프로그래밍 언어이다\")\n",
    "\n",
    "head = \"Python은\"\n",
    "tail = \" 훌륭한 프로그래밍 언어이다\"\n",
    "string = head + tail\n",
    "print(string)\n",
    "\n",
    "str1 = \"꿈\"\n",
    "str2 = \"과\"\n",
    "str3 = \"도\"\n",
    "str4 = \"전\"\n",
    "\n",
    "print(str1 + str2 + \" \" + str3 + str4)\n",
    "print(\"=\" * 40)"
   ]
  },
  {
   "cell_type": "markdown",
   "id": "77cfd293",
   "metadata": {
    "pycharm": {
     "name": "#%% md\n"
    }
   },
   "source": [
    "# **22. 문자열 인덱싱**"
   ]
  },
  {
   "cell_type": "code",
   "execution_count": 390,
   "id": "3f353d8e",
   "metadata": {},
   "outputs": [
    {
     "name": "stdout",
     "output_type": "stream",
     "text": [
      "N\n",
      "A\n",
      "E\n",
      "E\n",
      "R\n",
      "N\n"
     ]
    }
   ],
   "source": [
    "string = \"NATURE\"\n",
    "\n",
    "print(string[0])\n",
    "print(string[1])\n",
    "print(string[5])\n",
    "\n",
    "print(string[-1])\n",
    "print(string[-2])\n",
    "print(string[-6])"
   ]
  },
  {
   "cell_type": "markdown",
   "id": "358d0335",
   "metadata": {
    "pycharm": {
     "name": "#%% md\n"
    }
   },
   "source": [
    "# **23. 문자열 슬라이싱**"
   ]
  },
  {
   "cell_type": "code",
   "execution_count": 391,
   "id": "a6ed1232",
   "metadata": {},
   "outputs": [
    {
     "name": "stdout",
     "output_type": "stream",
     "text": [
      "수비 수밥 비니 리떡\n"
     ]
    }
   ],
   "source": [
    "string = \"수제비, 옥수수밥, 너비아니, 수리취떡\"\n",
    "print(string[::2])"
   ]
  },
  {
   "cell_type": "markdown",
   "id": "c20a857c",
   "metadata": {
    "pycharm": {
     "name": "#%% md\n"
    }
   },
   "source": [
    "# **25. 문자열 관련 메서드**"
   ]
  },
  {
   "cell_type": "code",
   "id": "b3f6e4d1",
   "metadata": {
    "pycharm": {
     "name": "#%%\n"
    }
   },
   "source": [
    "myStr = \"Hello, My little baby\"\n",
    "print(myStr.upper())\n",
    "print(myStr.lower())\n",
    "print(myStr.title())\n",
    "print()\n",
    "\n",
    "print(myStr.count('b'))\n",
    "print(myStr.endswith('y'))\n",
    "print(myStr.startswith('h'))\n",
    "print(myStr.lower().endswith('h'))\n",
    "print()\n",
    "\n",
    "print(myStr.split())\n",
    "print(myStr.split(','))\n",
    "print()\n",
    "\n",
    "myStrfill = myStr.zfill(30)\n",
    "print(myStrfill)"
   ],
   "execution_count": 392,
   "outputs": [
    {
     "name": "stdout",
     "output_type": "stream",
     "text": [
      "HELLO, MY LITTLE BABY\n",
      "hello, my little baby\n",
      "Hello, My Little Baby\n",
      "\n",
      "2\n",
      "True\n",
      "False\n",
      "False\n",
      "\n",
      "['Hello,', 'My', 'little', 'baby']\n",
      "['Hello', ' My little baby']\n",
      "\n",
      "000000000Hello, My little baby\n"
     ]
    }
   ]
  },
  {
   "cell_type": "code",
   "id": "8b0070b4",
   "metadata": {
    "scrolled": true,
    "pycharm": {
     "name": "#%%\n"
    }
   },
   "source": [
    "count = [1,2,3,4,5,'string']\n",
    "print(count[-1][::-1])\n",
    "print(count[::-1])"
   ],
   "execution_count": 393,
   "outputs": [
    {
     "name": "stdout",
     "output_type": "stream",
     "text": [
      "gnirts\n",
      "['string', 5, 4, 3, 2, 1]\n"
     ]
    }
   ]
  },
  {
   "cell_type": "code",
   "id": "a8e6d412",
   "metadata": {
    "pycharm": {
     "name": "#%%\n"
    }
   },
   "source": [
    "kor = \"가나다라마바사아자차카타파하\"\n",
    "print(kor[::3])\n",
    "print(kor[-2::-3])"
   ],
   "execution_count": 394,
   "outputs": [
    {
     "name": "stdout",
     "output_type": "stream",
     "text": [
      "가라사차파\n",
      "파차사라가\n"
     ]
    }
   ]
  },
  {
   "cell_type": "code",
   "id": "482dd951",
   "metadata": {
    "pycharm": {
     "name": "#%%\n"
    }
   },
   "source": [
    "cheeses = ['체다', '모짜렐라', '까망베르', '리코타']\n",
    "print(cheeses)\n",
    "\n",
    "cheeses[0] = '크림'\n",
    "print(cheeses)\n",
    "\n",
    "all = cheeses + ['블루']\n",
    "print(all)\n",
    "print(cheeses)"
   ],
   "execution_count": 395,
   "outputs": [
    {
     "name": "stdout",
     "output_type": "stream",
     "text": [
      "['체다', '모짜렐라', '까망베르', '리코타']\n",
      "['크림', '모짜렐라', '까망베르', '리코타']\n",
      "['크림', '모짜렐라', '까망베르', '리코타', '블루']\n",
      "['크림', '모짜렐라', '까망베르', '리코타']\n"
     ]
    }
   ]
  },
  {
   "cell_type": "code",
   "id": "77e10607",
   "metadata": {
    "pycharm": {
     "name": "#%%\n"
    }
   },
   "source": [
    "colors = ['red', 'orange', 'yellow', 'green', 'yellow']\n",
    "print(colors)\n",
    "\n",
    "colors.sort()\n",
    "print(colors)\n",
    "\n",
    "colors.reverse()\n",
    "print(colors)\n",
    "print()\n",
    "\n",
    "print(colors.pop())\n",
    "print(colors)\n",
    "print()\n",
    "\n",
    "colors.remove('red')\n",
    "print(colors)\n",
    "\n",
    "print(colors.count('yellow'))"
   ],
   "execution_count": 396,
   "outputs": [
    {
     "name": "stdout",
     "output_type": "stream",
     "text": [
      "['red', 'orange', 'yellow', 'green', 'yellow']\n",
      "['green', 'orange', 'red', 'yellow', 'yellow']\n",
      "['yellow', 'yellow', 'red', 'orange', 'green']\n",
      "\n",
      "green\n",
      "['yellow', 'yellow', 'red', 'orange']\n",
      "\n",
      "['yellow', 'yellow', 'orange']\n",
      "2\n"
     ]
    }
   ]
  },
  {
   "cell_type": "markdown",
   "id": "b4c9bcd6",
   "metadata": {},
   "source": [
    "# **if 문**"
   ]
  },
  {
   "cell_type": "code",
   "id": "113770e0",
   "metadata": {
    "pycharm": {
     "name": "#%%\n"
    }
   },
   "source": [
    "if True:\n",
    "    print('h1')\n",
    "    print('h2')\n",
    "    print('h3')\n",
    "    ...\n",
    "\n",
    "if False:\n",
    "    print('This is False')\n",
    "    #출력안됨"
   ],
   "execution_count": 397,
   "outputs": [
    {
     "name": "stdout",
     "output_type": "stream",
     "text": [
      "h1\n",
      "h2\n",
      "h3\n"
     ]
    }
   ]
  },
  {
   "cell_type": "code",
   "id": "f2ba0507",
   "metadata": {
    "pycharm": {
     "name": "#%%\n"
    }
   },
   "source": [
    "isTrue = 0\n",
    "print('isTrue : ', isTrue)\n",
    "\n",
    "if isTrue:\n",
    "    print('it is true')\n",
    "else:\n",
    "    print('it is false')"
   ],
   "execution_count": 398,
   "outputs": [
    {
     "name": "stdout",
     "output_type": "stream",
     "text": [
      "isTrue :  0\n",
      "it is false\n"
     ]
    }
   ]
  },
  {
   "cell_type": "code",
   "source": [
    "var = ''\n",
    "\n",
    "if var:\n",
    "    print('it is not blank')\n",
    "else:\n",
    "    print('it is black')"
   ],
   "metadata": {
    "collapsed": false,
    "pycharm": {
     "name": "#%%\n"
    }
   },
   "execution_count": 399,
   "outputs": [
    {
     "name": "stdout",
     "output_type": "stream",
     "text": [
      "it is black\n"
     ]
    }
   ]
  },
  {
   "cell_type": "markdown",
   "source": [
    "# **if in**"
   ],
   "metadata": {
    "collapsed": false,
    "pycharm": {
     "name": "#%% md\n"
    }
   }
  },
  {
   "cell_type": "code",
   "source": [
    "br31 = ['사빠딸', '오버더레인보우', '쿠앤크', '슈팅스타', '민트초코',\n",
    "         '뉴욕치즈케이크','엄마는외계인','아빠는딸바보', '바람과함께사라지다',\n",
    "         '매쉬업스']\n",
    "\n",
    "want = '사빠딸'\n",
    "\n",
    "print(want in br31)\n",
    "\n",
    "if want in br31:\n",
    "    print(want ,'하나 주세요')\n",
    "else:\n",
    "    print(want, '품절')"
   ],
   "metadata": {
    "collapsed": false,
    "pycharm": {
     "name": "#%%\n"
    }
   },
   "execution_count": 400,
   "outputs": [
    {
     "name": "stdout",
     "output_type": "stream",
     "text": [
      "True\n",
      "사빠딸 하나 주세요\n"
     ]
    }
   ]
  },
  {
   "cell_type": "markdown",
   "source": [
    "# **if not in**"
   ],
   "metadata": {
    "collapsed": false,
    "pycharm": {
     "name": "#%% md\n"
    }
   }
  },
  {
   "cell_type": "code",
   "source": [
    "print(want not in br31)\n",
    "\n",
    "if want not in br31:\n",
    "    print(want ,'하나 주세요')\n",
    "else:\n",
    "    print(want, '품절')"
   ],
   "metadata": {
    "collapsed": false,
    "pycharm": {
     "name": "#%%\n"
    }
   },
   "execution_count": 401,
   "outputs": [
    {
     "name": "stdout",
     "output_type": "stream",
     "text": [
      "False\n",
      "사빠딸 품절\n"
     ]
    }
   ]
  },
  {
   "cell_type": "markdown",
   "source": [
    "# **if in and in || in or in**"
   ],
   "metadata": {
    "collapsed": false,
    "pycharm": {
     "name": "#%% md\n"
    }
   }
  },
  {
   "cell_type": "code",
   "source": [],
   "metadata": {
    "collapsed": false,
    "pycharm": {
     "name": "#%%\n"
    }
   },
   "execution_count": 401,
   "outputs": []
  },
  {
   "cell_type": "markdown",
   "source": [
    "# **if elif (If else if)**"
   ],
   "metadata": {
    "collapsed": false,
    "pycharm": {
     "name": "#%% md\n"
    }
   }
  },
  {
   "cell_type": "code",
   "source": [
    "howmany = 3\n",
    "if howmany == 1:\n",
    "    print(f'사람에 빠진 딸기 {howmany}개 있어요')\n",
    "elif howmany == 2:\n",
    "    print(f'사랑에 빠진 딸기 {howmany}개 있어요')\n",
    "else:\n",
    "    print(f'사랑에 빠진 딸기 {howmany}개 있어요')"
   ],
   "metadata": {
    "collapsed": false,
    "pycharm": {
     "name": "#%%\n"
    }
   },
   "execution_count": 402,
   "outputs": [
    {
     "name": "stdout",
     "output_type": "stream",
     "text": [
      "사랑에 빠진 딸기 3개 있어요\n"
     ]
    }
   ]
  },
  {
   "cell_type": "markdown",
   "source": [
    "# **while**"
   ],
   "metadata": {
    "collapsed": false,
    "pycharm": {
     "name": "#%% md\n"
    }
   },
   "execution_count": 463
  },
  {
   "cell_type": "code",
   "source": [
    "while br31:\n",
    "    now = br31.pop()\n",
    "    print(now)"
   ],
   "metadata": {
    "collapsed": false,
    "pycharm": {
     "name": "#%%\n"
    }
   },
   "execution_count": 403,
   "outputs": [
    {
     "name": "stdout",
     "output_type": "stream",
     "text": [
      "매쉬업스\n",
      "바람과함께사라지다\n",
      "아빠는딸바보\n",
      "엄마는외계인\n",
      "뉴욕치즈케이크\n",
      "민트초코\n",
      "슈팅스타\n",
      "쿠앤크\n",
      "오버더레인보우\n",
      "사빠딸\n"
     ]
    }
   ]
  },
  {
   "cell_type": "markdown",
   "source": [
    "# **for**"
   ],
   "metadata": {
    "collapsed": false,
    "pycharm": {
     "name": "#%% md\n"
    }
   }
  },
  {
   "cell_type": "code",
   "source": [
    "br31 = ['사빠딸', '오버더레인보우', '쿠앤크', '슈팅스타', '민트초코',\n",
    "         '뉴욕치즈케이크','엄마는외계인','아빠는딸바보', '바람과함께사라지다',\n",
    "         '매쉬업스']\n",
    "for i in br31:\n",
    "    print(i, end=', ')"
   ],
   "metadata": {
    "collapsed": false,
    "pycharm": {
     "name": "#%%\n"
    }
   },
   "execution_count": 404,
   "outputs": [
    {
     "name": "stdout",
     "output_type": "stream",
     "text": [
      "사빠딸, 오버더레인보우, 쿠앤크, 슈팅스타, 민트초코, 뉴욕치즈케이크, 엄마는외계인, 아빠는딸바보, 바람과함께사라지다, 매쉬업스, "
     ]
    }
   ]
  },
  {
   "cell_type": "markdown",
   "source": [
    "# **range()**"
   ],
   "metadata": {
    "collapsed": false,
    "pycharm": {
     "name": "#%% md\n"
    }
   }
  },
  {
   "cell_type": "code",
   "source": [
    "for i in range(10):\n",
    "    print(i, end=',')\n",
    "    ...\n",
    "\n",
    "print()\n",
    "print(\"=\"*20)\n",
    "for i in range(1,6):\n",
    "    print(i, end=',')\n",
    "    ...\n",
    "print()\n",
    "print(\"=\"*20)\n",
    "\n",
    "for i in range(10,21,2):\n",
    "    print(i, end=',')"
   ],
   "metadata": {
    "collapsed": false,
    "pycharm": {
     "name": "#%%\n"
    }
   },
   "execution_count": 405,
   "outputs": [
    {
     "name": "stdout",
     "output_type": "stream",
     "text": [
      "0,1,2,3,4,5,6,7,8,9,\n",
      "====================\n",
      "1,2,3,4,5,\n",
      "====================\n",
      "10,12,14,16,18,20,"
     ]
    }
   ]
  },
  {
   "cell_type": "markdown",
   "source": [
    "# **break**"
   ],
   "metadata": {
    "collapsed": false,
    "pycharm": {
     "name": "#%% md\n"
    }
   }
  },
  {
   "cell_type": "code",
   "source": [
    "for item in range(30):\n",
    "    if item%2: print(item)\n",
    "    else: pass\n",
    "\n",
    "    if item == 10: break"
   ],
   "metadata": {
    "collapsed": false,
    "pycharm": {
     "name": "#%%\n"
    }
   },
   "execution_count": 406,
   "outputs": [
    {
     "name": "stdout",
     "output_type": "stream",
     "text": [
      "1\n",
      "3\n",
      "5\n",
      "7\n",
      "9\n"
     ]
    }
   ]
  },
  {
   "cell_type": "markdown",
   "source": [
    "# **continue**"
   ],
   "metadata": {
    "collapsed": false,
    "pycharm": {
     "name": "#%% md\n"
    }
   }
  },
  {
   "cell_type": "code",
   "execution_count": 407,
   "outputs": [
    {
     "name": "stdout",
     "output_type": "stream",
     "text": [
      "0, 프린트가 될까\n",
      "1\n",
      "2, 프린트가 될까\n",
      "3\n",
      "4, 프린트가 될까\n",
      "5\n",
      "6, 프린트가 될까\n",
      "7\n",
      "8, 프린트가 될까\n",
      "9\n",
      "10, 프린트가 될까\n",
      "11\n",
      "12, 프린트가 될까\n",
      "13\n",
      "14, 프린트가 될까\n",
      "15\n",
      "16, 프린트가 될까\n",
      "17\n",
      "18, 프린트가 될까\n",
      "19\n",
      "20, 프린트가 될까\n",
      "21\n",
      "22, 프린트가 될까\n",
      "23\n",
      "24, 프린트가 될까\n",
      "25\n",
      "26, 프린트가 될까\n",
      "27\n",
      "28, 프린트가 될까\n",
      "29\n"
     ]
    }
   ],
   "source": [
    "for item in range(30):\n",
    "    if item%2:\n",
    "        print(item)\n",
    "        continue\n",
    "    print(f'{item}, 프린트가 될까')"
   ],
   "metadata": {
    "collapsed": false,
    "pycharm": {
     "name": "#%%\n"
    }
   }
  },
  {
   "cell_type": "markdown",
   "source": [
    "# **dict**"
   ],
   "metadata": {
    "collapsed": false,
    "pycharm": {
     "name": "#%% md\n"
    }
   }
  },
  {
   "cell_type": "code",
   "execution_count": 408,
   "outputs": [
    {
     "name": "stdout",
     "output_type": "stream",
     "text": [
      "{'name': 'mr. Kang', 14003: [3, 2, 0, 1]}\n",
      "mr. Kang\n",
      "{'name': 'mr. Kang', 14003: [3, 2, 0, 1], 'added1': '+', 'added2': '+'}\n",
      "{'name': 'mr. Kang', 14003: [3, 2, 0, 1]}\n",
      "============================================================\n",
      "dict_items([(7, '김준하'), (8, '문준상'), (13, '유성찬'), (14, '이수빈')])\n",
      "dict_keys([7, 8, 13, 14])\n",
      "dict_values(['김준하', '문준상', '유성찬', '이수빈'])\n",
      "============================================================\n",
      "7번째 학생은 김준하입니다\n",
      "8번째 학생은 문준상입니다\n",
      "13번째 학생은 유성찬입니다\n",
      "14번째 학생은 이수빈입니다\n",
      "============================================================\n",
      "7번째 학생은 김준하입니다\n",
      "8번째 학생은 문준상입니다\n",
      "13번째 학생은 유성찬입니다\n",
      "14번째 학생은 이수빈입니다\n"
     ]
    }
   ],
   "source": [
    "# my_dict = {'fishing' : '낚시질',\n",
    "#            'fishing banks' : '어초',\n",
    "#            'fishing boat' : '낚싯배'}\n",
    "# my_dict = {1 : \"수소\",\n",
    "#            2 : \"헬륨\",\n",
    "#            3 : \"리튬\",\n",
    "#            4 : \"베릴륨\"}\n",
    "\n",
    "my_dict = {'name' : 'mr. Kang',\n",
    "           14003 : [3,2,0,1]}\n",
    "\n",
    "# my_dict = dict([(1, '서울'), (2, '부산')])\n",
    "print(my_dict)\n",
    "\n",
    "my_exo = {'name' : '찬열',\n",
    "          'age' : 25,\n",
    "          'manager' : 'SM',\n",
    "          'jop' : 'singer'}\n",
    "\n",
    "#dict의 값 추출하기\n",
    "print(my_dict['name'])\n",
    "\n",
    "#dict의 값 추가하기\n",
    "my_dict['added1'] = '+'\n",
    "my_dict['added2'] = '+'\n",
    "print(my_dict)\n",
    "\n",
    "#dict의 값 제거하기 1\n",
    "my_dict.pop('added1')\n",
    "#dict의 값 제거하기 2\n",
    "del my_dict['added2']\n",
    "print(my_dict)\n",
    "\n",
    "print(\"=\"*60)\n",
    "student = {7 : '김준하',\n",
    "           8 : '문준상',\n",
    "           13 : '유성찬',\n",
    "           14 : '이수빈'}\n",
    "print(student.items())\n",
    "print(student.keys())\n",
    "print(student.values())\n",
    "\n",
    "print(\"=\"*60)\n",
    "\n",
    "for i in student.keys():\n",
    "    print(f'{i}번째 학생은 {student[i]}입니다')\n",
    "\n",
    "print(\"=\"*60)\n",
    "\n",
    "for k, v in student.items():\n",
    "    print(f'{k}번째 학생은 {v}입니다')\n",
    "# print(my_exo)\n",
    "# print(type(my_exo))"
   ],
   "metadata": {
    "collapsed": false,
    "pycharm": {
     "name": "#%%\n"
    }
   }
  },
  {
   "cell_type": "markdown",
   "source": [
    "# **enumerate**"
   ],
   "metadata": {
    "collapsed": false,
    "pycharm": {
     "name": "#%% md\n"
    }
   }
  },
  {
   "cell_type": "code",
   "execution_count": 409,
   "outputs": [
    {
     "name": "stdout",
     "output_type": "stream",
     "text": [
      "0위 가수는 남진\n",
      "1위 가수는 조용필\n",
      "2위 가수는 태진아\n",
      "3위 가수는 나훈아\n",
      "============================================================\n",
      "0위 가수는 남진\n",
      "1위 가수는 조용필\n",
      "2위 가수는 태진아\n",
      "3위 가수는 나훈아\n",
      "============================================================\n"
     ]
    }
   ],
   "source": [
    "artists = ['남진', '조용필', '태진아', '나훈아']\n",
    "\n",
    "for i in range(4):\n",
    "    print(f'{i}위 가수는 {artists[i]}')\n",
    "print('='*60)\n",
    "\n",
    "for i, artists in enumerate(artists):\n",
    "    print(f'{i}위 가수는 {artists}')\n",
    "print('='*60)"
   ],
   "metadata": {
    "collapsed": false,
    "pycharm": {
     "name": "#%%\n"
    }
   }
  },
  {
   "cell_type": "markdown",
   "source": [
    "# **zip**"
   ],
   "metadata": {
    "collapsed": false,
    "pycharm": {
     "name": "#%% md\n"
    }
   }
  },
  {
   "cell_type": "code",
   "execution_count": 410,
   "outputs": [
    {
     "name": "stdout",
     "output_type": "stream",
     "text": [
      "track1 : 남진\n",
      "track2 : 조용필\n",
      "track3 : 태진아\n",
      "track4 : 나훈아\n"
     ]
    }
   ],
   "source": [
    "playlist = ['track1', 'track2', 'track3', 'track4']\n",
    "artists = ['남진', '조용필', '태진아', '나훈아']\n",
    "\n",
    "for i, a in zip(playlist, artists) :\n",
    "    print(f'{i} : {a}')\n",
    "\n"
   ],
   "metadata": {
    "collapsed": false,
    "pycharm": {
     "name": "#%%\n"
    }
   }
  },
  {
   "cell_type": "markdown",
   "source": [
    "# **module - Counter**"
   ],
   "metadata": {
    "collapsed": false,
    "pycharm": {
     "name": "#%% md\n"
    }
   }
  },
  {
   "cell_type": "code",
   "execution_count": 411,
   "outputs": [
    {
     "name": "stdout",
     "output_type": "stream",
     "text": [
      "dict_items([('테스트1', 4), ('테스트2', 2), ('테스트3', 2), ('테스트4', 3), ('테스트5', 5)])\n",
      "Counter({'테스트5': 5, '테스트1': 4, '테스트4': 3, '테스트2': 2, '테스트3': 2})\n",
      "[('테스트5', 5), ('테스트1', 4)]\n",
      "테스트2 2\n",
      "테스트3 2\n",
      "============================================================\n",
      "테스트2 2\n",
      "테스트3 2\n"
     ]
    }
   ],
   "source": [
    "vote = ['테스트1', '테스트1', '테스트1', '테스트1', '테스트2', '테스트2', '테스트3', '테스트3',\n",
    "        '테스트4', '테스트4', '테스트4', '테스트5', '테스트5', '테스트5', '테스트5', '테스트5',]\n",
    "\n",
    "result = {'테스트1' : 0,\n",
    "          '테스트2' : 0,\n",
    "          '테스트3' : 0,\n",
    "          '테스트4' : 0,\n",
    "          '테스트5' : 0}\n",
    "\n",
    "for name in vote:\n",
    "    result[name] += 1\n",
    "\n",
    "print(result.items())\n",
    "\n",
    "\n",
    "from collections import Counter\n",
    "\n",
    "cnt = Counter(vote)\n",
    "print(cnt)\n",
    "\n",
    "# most_common() Counter 함수를 사용한 것만 사용가능\n",
    "print(cnt.most_common(2))\n",
    "\n",
    "least = cnt.most_common()[-1][1]\n",
    "\n",
    "for name, vote in cnt.items():\n",
    "    if vote==least:\n",
    "        print(name, vote)\n",
    "print('='*60)\n",
    "for info in cnt.items():\n",
    "    if info[1]==least:\n",
    "        print(info[0], info[1])"
   ],
   "metadata": {
    "collapsed": false,
    "pycharm": {
     "name": "#%%\n"
    }
   }
  },
  {
   "cell_type": "markdown",
   "source": [
    "# **module - deque**"
   ],
   "metadata": {
    "collapsed": false,
    "pycharm": {
     "name": "#%% md\n"
    }
   }
  },
  {
   "cell_type": "code",
   "execution_count": 412,
   "outputs": [
    {
     "name": "stdout",
     "output_type": "stream",
     "text": [
      "deque([1, 2, 3])\n",
      "deque([2, 3])\n"
     ]
    }
   ],
   "source": [
    "from collections import deque\n",
    "\n",
    "lists = deque([1])\n",
    "lists.append(2)\n",
    "lists.append(3)\n",
    "print(lists)\n",
    "lists.popleft()\n",
    "\n",
    "print(lists)"
   ],
   "metadata": {
    "collapsed": false,
    "pycharm": {
     "name": "#%%\n"
    }
   }
  },
  {
   "cell_type": "markdown",
   "source": [
    "# **function()**"
   ],
   "metadata": {
    "collapsed": false,
    "pycharm": {
     "name": "#%% md\n"
    }
   }
  },
  {
   "cell_type": "code",
   "execution_count": 413,
   "outputs": [
    {
     "name": "stdout",
     "output_type": "stream",
     "text": [
      "simple()실행\n",
      "-3의 절댓값 구하기 : 3\n",
      "계산결과 : 82.0\n",
      "안녕\n",
      "반가워. 이 프로그램은 파이썬 공부 프로그램이야\n",
      "기분 좋은 하루 보내~\n",
      "안녕\n",
      "반가워. 이 프로그램은 파이썬 공부 프로그램이야\n",
      "기분 좋은 하루 보내~\n"
     ]
    }
   ],
   "source": [
    "\n",
    "#기본적인 함수\n",
    "def simple():\n",
    "    print('simple()실행')\n",
    "    pass\n",
    "\n",
    "#simple()호출\n",
    "simple()\n",
    "\n",
    "def abs_test(number):\n",
    "    if number < 0:\n",
    "        number = -number\n",
    "    return number\n",
    "\n",
    "print(f'-3의 절댓값 구하기 : {abs_test(-3)}')\n",
    "temp = abs_test(-9)/3 * abs_test(20) + 3 +abs_test(-19)\n",
    "print(f'계산결과 : {temp}')\n",
    "\n",
    "def sayhello():\n",
    "    print('안녕')\n",
    "    print('반가워. 이 프로그램은 파이썬 공부 프로그램이야')\n",
    "    print('기분 좋은 하루 보내~')\n",
    "\n",
    "sayhello()\n",
    "sayhello()"
   ],
   "metadata": {
    "collapsed": false,
    "pycharm": {
     "name": "#%%\n"
    }
   }
  },
  {
   "cell_type": "markdown",
   "source": [
    "# **Fibonacci numbers**"
   ],
   "metadata": {
    "collapsed": false,
    "pycharm": {
     "name": "#%% md\n"
    }
   }
  },
  {
   "cell_type": "code",
   "execution_count": 414,
   "outputs": [
    {
     "data": {
      "text/plain": "55"
     },
     "execution_count": 414,
     "metadata": {},
     "output_type": "execute_result"
    }
   ],
   "source": [
    "def Fib(n):\n",
    "    if n==0:\n",
    "        return 0\n",
    "    elif n == 1 or n == 2:\n",
    "        return 1\n",
    "    else:\n",
    "        return Fib(n-1) + Fib(n-2)\n",
    "Fib(10)"
   ],
   "metadata": {
    "collapsed": false,
    "pycharm": {
     "name": "#%%\n"
    }
   }
  },
  {
   "cell_type": "markdown",
   "source": [
    "# **72. 변수의 범위 1(전역변수와 지역변수)**"
   ],
   "metadata": {
    "collapsed": false,
    "pycharm": {
     "name": "#%% md\n"
    }
   }
  },
  {
   "cell_type": "code",
   "execution_count": 415,
   "outputs": [
    {
     "name": "stdout",
     "output_type": "stream",
     "text": [
      "전역변수\n",
      "지역변수\n",
      "\n",
      "전역변수\n"
     ]
    }
   ],
   "source": [
    "global_var = '전역변수'\n",
    "\n",
    "def scope():\n",
    "    local_var = '지역변수'\n",
    "    print(global_var)\n",
    "    print(local_var)\n",
    "\n",
    "scope()\n",
    "\n",
    "print()\n",
    "print(global_var)\n",
    "# print(local_var)"
   ],
   "metadata": {
    "collapsed": false,
    "pycharm": {
     "name": "#%%\n"
    }
   }
  },
  {
   "cell_type": "markdown",
   "source": [
    "# **73. 변수의 범위 2(동일한 이름의 변수가 전역과 지역에 있을 때)**"
   ],
   "metadata": {
    "collapsed": false
   }
  },
  {
   "cell_type": "code",
   "execution_count": 416,
   "outputs": [
    {
     "name": "stdout",
     "output_type": "stream",
     "text": [
      "지역변수\n",
      "\n",
      "\n"
     ]
    }
   ],
   "source": [
    "global_var = '전역변수'\n",
    "\n",
    "def scope():\n",
    "    var = '지역변수'\n",
    "    print(var)\n",
    "\n",
    "scope()\n",
    "\n",
    "print()\n",
    "print(var)"
   ],
   "metadata": {
    "collapsed": false,
    "pycharm": {
     "name": "#%%\n"
    }
   }
  },
  {
   "cell_type": "markdown",
   "source": [
    "# **74. 변수의 범위 3(global)**"
   ],
   "metadata": {
    "collapsed": false
   }
  },
  {
   "cell_type": "code",
   "execution_count": 417,
   "outputs": [
    {
     "name": "stdout",
     "output_type": "stream",
     "text": [
      "함수안 var: global 명령어의 역할\n",
      "\n",
      "함수 밖 var : global 명령어의 역할\n"
     ]
    }
   ],
   "source": [
    "var = '전역변수'\n",
    "\n",
    "def scope():\n",
    "    global var\n",
    "    var = 'global 명령어의 역할'\n",
    "    print(f'함수안 var: {var}')\n",
    "\n",
    "scope()\n",
    "\n",
    "print()\n",
    "print(f'함수 밖 var : {var}')"
   ],
   "metadata": {
    "collapsed": false,
    "pycharm": {
     "name": "#%%\n"
    }
   }
  },
  {
   "cell_type": "markdown",
   "source": [
    "# **75. 변수의 범위 4**"
   ],
   "metadata": {
    "collapsed": false
   }
  },
  {
   "cell_type": "code",
   "source": [
    "var = '전역변수'\n",
    "\n",
    "def scope():\n",
    "    var = 'scope() 지역변수'\n",
    "    print(f'{var}\\t[ scope() 함수에서 출력')\n",
    "\n",
    "    if True:\n",
    "        var = 'if 블록에서 변경'\n",
    "    print(f'{var}\\t[ if문 에서 출력')\n",
    "\n",
    "    for i in range(3):\n",
    "        var = 'for 블록에서 변경'\n",
    "    print(f'{var}\\t[ for문 에서 출력')\n",
    "\n",
    "scope()\n",
    "\n",
    "print(f'{var}\\t\\t[ scope() 함수 밖에서 출력')\n"
   ],
   "metadata": {
    "collapsed": false,
    "pycharm": {
     "name": "#%%\n"
    }
   },
   "execution_count": 418,
   "outputs": [
    {
     "name": "stdout",
     "output_type": "stream",
     "text": [
      "scope() 지역변수\t[ scope() 함수에서 출력\n",
      "if 블록에서 변경\t[ if문 에서 출력\n",
      "for 블록에서 변경\t[ for문 에서 출력\n",
      "전역변수\t\t[ scope() 함수 밖에서 출력\n"
     ]
    }
   ]
  },
  {
   "cell_type": "markdown",
   "source": [
    "# **76. 내장 함수 - abs()함수**"
   ],
   "metadata": {
    "collapsed": false
   }
  },
  {
   "cell_type": "code",
   "execution_count": 419,
   "outputs": [
    {
     "name": "stdout",
     "output_type": "stream",
     "text": [
      "10\n",
      "10\n",
      "전진하다\n"
     ]
    }
   ],
   "source": [
    "pos = 10\n",
    "neg = -10\n",
    "\n",
    "print(abs(pos))\n",
    "print(abs(neg))\n",
    "\n",
    "if neg > 0:\n",
    "    print(\"뒷 걸음질 치다\")\n",
    "if abs(neg) > 0:\n",
    "    print('전진하다')"
   ],
   "metadata": {
    "collapsed": false,
    "pycharm": {
     "name": "#%%\n"
    }
   }
  },
  {
   "cell_type": "markdown",
   "source": [
    "# **77. 내장 함수 - bool() 함수**"
   ],
   "metadata": {
    "collapsed": false,
    "pycharm": {
     "name": "#%% md\n"
    }
   }
  },
  {
   "cell_type": "code",
   "execution_count": 420,
   "outputs": [
    {
     "name": "stdout",
     "output_type": "stream",
     "text": [
      "False\n",
      "False\n",
      "False\n",
      "True\n",
      "True\n",
      "True\n",
      "1 색을 좋아하는 군요.\n"
     ]
    }
   ],
   "source": [
    "num0 = 0\n",
    "num1 = 1\n",
    "empty_list = []\n",
    "full_list = [1,2,3]\n",
    "empty_str = \"\"\n",
    "full_str = \"파이썬\"\n",
    "\n",
    "print(bool(num0))\n",
    "print(bool(empty_list))\n",
    "print(bool(empty_str))\n",
    "print(bool(num1))\n",
    "print(bool(full_list))\n",
    "print(bool(full_str))\n",
    "\n",
    "color = input('좋아하는 색을 입력하세요: ')\n",
    "if not bool(color):\n",
    "    print('색을 반드시 입력해야 합니다.')\n",
    "else:\n",
    "    print(f'{color} 색을 좋아하는 군요.')"
   ],
   "metadata": {
    "collapsed": false,
    "pycharm": {
     "name": "#%%\n"
    }
   }
  },
  {
   "cell_type": "markdown",
   "source": [
    "# **78. 내장 함수 - dir() 함수와 help() 함수**"
   ],
   "metadata": {
    "collapsed": false
   }
  },
  {
   "cell_type": "code",
   "execution_count": 421,
   "outputs": [
    {
     "name": "stdout",
     "output_type": "stream",
     "text": [
      "['Counter', 'Fib', 'In', 'Out', '_', '_129', '_142', '_175', '_190', '_2', '_223', '_236', '_269', '_282', '_315', '_329', '_35', '_362', '_381', '_414', '_48', '_81', '_96', '__', '___', '__builtin__', '__builtins__', '__doc__', '__loader__', '__name__', '__package__', '__spec__', '_dh', '_i', '_i1', '_i10', '_i100', '_i101', '_i102', '_i103', '_i104', '_i105', '_i106', '_i107', '_i108', '_i109', '_i11', '_i110', '_i111', '_i112', '_i113', '_i114', '_i115', '_i116', '_i117', '_i118', '_i119', '_i12', '_i120', '_i121', '_i122', '_i123', '_i124', '_i125', '_i126', '_i127', '_i128', '_i129', '_i13', '_i130', '_i131', '_i132', '_i133', '_i134', '_i135', '_i136', '_i137', '_i138', '_i139', '_i14', '_i140', '_i141', '_i142', '_i143', '_i144', '_i145', '_i146', '_i147', '_i148', '_i149', '_i15', '_i150', '_i151', '_i152', '_i153', '_i154', '_i155', '_i156', '_i157', '_i158', '_i159', '_i16', '_i160', '_i161', '_i162', '_i163', '_i164', '_i165', '_i166', '_i167', '_i168', '_i169', '_i17', '_i170', '_i171', '_i172', '_i173', '_i174', '_i175', '_i176', '_i177', '_i178', '_i179', '_i18', '_i180', '_i181', '_i182', '_i183', '_i184', '_i185', '_i186', '_i187', '_i188', '_i189', '_i19', '_i190', '_i191', '_i192', '_i193', '_i194', '_i195', '_i196', '_i197', '_i198', '_i199', '_i2', '_i20', '_i200', '_i201', '_i202', '_i203', '_i204', '_i205', '_i206', '_i207', '_i208', '_i209', '_i21', '_i210', '_i211', '_i212', '_i213', '_i214', '_i215', '_i216', '_i217', '_i218', '_i219', '_i22', '_i220', '_i221', '_i222', '_i223', '_i224', '_i225', '_i226', '_i227', '_i228', '_i229', '_i23', '_i230', '_i231', '_i232', '_i233', '_i234', '_i235', '_i236', '_i237', '_i238', '_i239', '_i24', '_i240', '_i241', '_i242', '_i243', '_i244', '_i245', '_i246', '_i247', '_i248', '_i249', '_i25', '_i250', '_i251', '_i252', '_i253', '_i254', '_i255', '_i256', '_i257', '_i258', '_i259', '_i26', '_i260', '_i261', '_i262', '_i263', '_i264', '_i265', '_i266', '_i267', '_i268', '_i269', '_i27', '_i270', '_i271', '_i272', '_i273', '_i274', '_i275', '_i276', '_i277', '_i278', '_i279', '_i28', '_i280', '_i281', '_i282', '_i283', '_i284', '_i285', '_i286', '_i287', '_i288', '_i289', '_i29', '_i290', '_i291', '_i292', '_i293', '_i294', '_i295', '_i296', '_i297', '_i298', '_i299', '_i3', '_i30', '_i300', '_i301', '_i302', '_i303', '_i304', '_i305', '_i306', '_i307', '_i308', '_i309', '_i31', '_i310', '_i311', '_i312', '_i313', '_i314', '_i315', '_i316', '_i317', '_i318', '_i319', '_i32', '_i320', '_i321', '_i322', '_i323', '_i324', '_i325', '_i326', '_i327', '_i328', '_i329', '_i33', '_i330', '_i331', '_i332', '_i333', '_i334', '_i335', '_i336', '_i337', '_i338', '_i339', '_i34', '_i340', '_i341', '_i342', '_i343', '_i344', '_i345', '_i346', '_i347', '_i348', '_i349', '_i35', '_i350', '_i351', '_i352', '_i353', '_i354', '_i355', '_i356', '_i357', '_i358', '_i359', '_i36', '_i360', '_i361', '_i362', '_i363', '_i364', '_i365', '_i366', '_i367', '_i368', '_i369', '_i37', '_i370', '_i371', '_i372', '_i373', '_i374', '_i375', '_i376', '_i377', '_i378', '_i379', '_i38', '_i380', '_i381', '_i382', '_i383', '_i384', '_i385', '_i386', '_i387', '_i388', '_i389', '_i39', '_i390', '_i391', '_i392', '_i393', '_i394', '_i395', '_i396', '_i397', '_i398', '_i399', '_i4', '_i40', '_i400', '_i401', '_i402', '_i403', '_i404', '_i405', '_i406', '_i407', '_i408', '_i409', '_i41', '_i410', '_i411', '_i412', '_i413', '_i414', '_i415', '_i416', '_i417', '_i418', '_i419', '_i42', '_i420', '_i421', '_i43', '_i44', '_i45', '_i46', '_i47', '_i48', '_i49', '_i5', '_i50', '_i51', '_i52', '_i53', '_i54', '_i55', '_i56', '_i57', '_i58', '_i59', '_i6', '_i60', '_i61', '_i62', '_i63', '_i64', '_i65', '_i66', '_i67', '_i68', '_i69', '_i7', '_i70', '_i71', '_i72', '_i73', '_i74', '_i75', '_i76', '_i77', '_i78', '_i79', '_i8', '_i80', '_i81', '_i82', '_i83', '_i84', '_i85', '_i86', '_i87', '_i88', '_i89', '_i9', '_i90', '_i91', '_i92', '_i93', '_i94', '_i95', '_i96', '_i97', '_i98', '_i99', '_ih', '_ii', '_iii', '_oh', '_pydevd_bundle', 'a', 'abs_test', 'add', 'all', 'apple', 'artists', 'banana', 'br31', 'cheeses', 'cir', 'cnt', 'color', 'colors', 'count', 'deque', 'div', 'empty_list', 'empty_str', 'exit', 'exp', 'fruit', 'full_list', 'full_str', 'g', 'get_ipython', 'global_var', 'head', 'height', 'howmany', 'i', 'info', 'isTrue', 'item', 'k', 'kor', 'least', 'lemon', 'list', 'lists', 'ma', 'mass', 'mul', 'myDict', 'myList', 'myStr', 'myStrfill', 'myTup', 'my_dict', 'my_exo', 'name', 'neg', 'now', 'num0', 'num1', 'num2', 'num3', 'number', 'playlist', 'pos', 'pydev_jupyter_vars', 'quit', 'r', 'result', 'sayhello', 'scope', 'simple', 'str1', 'str2', 'str3', 'str4', 'string', 'student', 'sub', 'sum', 'sum_test', 'sys', 'tail', 'temp', 'thisdict', 'tup', 'v', 'var', 'vote', 'want', 'x', 'y', 'z']\n",
      "--------------------------------------------------\n",
      "['__add__', '__class__', '__class_getitem__', '__contains__', '__delattr__', '__delitem__', '__dir__', '__doc__', '__eq__', '__format__', '__ge__', '__getattribute__', '__getitem__', '__gt__', '__hash__', '__iadd__', '__imul__', '__init__', '__init_subclass__', '__iter__', '__le__', '__len__', '__lt__', '__mul__', '__ne__', '__new__', '__reduce__', '__reduce_ex__', '__repr__', '__reversed__', '__rmul__', '__setattr__', '__setitem__', '__sizeof__', '__str__', '__subclasshook__', 'append', 'clear', 'copy', 'count', 'extend', 'index', 'insert', 'pop', 'remove', 'reverse', 'sort']\n",
      "--------------------------------------------------\n",
      "Help on built-in function append:\n",
      "\n",
      "append(object, /) method of builtins.list instance\n",
      "    Append object to the end of the list.\n",
      "\n",
      "None\n",
      "--------------------------------------------------\n",
      "Help on list object:\n",
      "\n",
      "class list(object)\n",
      " |  list(iterable=(), /)\n",
      " |  \n",
      " |  Built-in mutable sequence.\n",
      " |  \n",
      " |  If no argument is given, the constructor creates a new empty list.\n",
      " |  The argument must be an iterable if specified.\n",
      " |  \n",
      " |  Methods defined here:\n",
      " |  \n",
      " |  __add__(self, value, /)\n",
      " |      Return self+value.\n",
      " |  \n",
      " |  __contains__(self, key, /)\n",
      " |      Return key in self.\n",
      " |  \n",
      " |  __delitem__(self, key, /)\n",
      " |      Delete self[key].\n",
      " |  \n",
      " |  __eq__(self, value, /)\n",
      " |      Return self==value.\n",
      " |  \n",
      " |  __ge__(self, value, /)\n",
      " |      Return self>=value.\n",
      " |  \n",
      " |  __getattribute__(self, name, /)\n",
      " |      Return getattr(self, name).\n",
      " |  \n",
      " |  __getitem__(...)\n",
      " |      x.__getitem__(y) <==> x[y]\n",
      " |  \n",
      " |  __gt__(self, value, /)\n",
      " |      Return self>value.\n",
      " |  \n",
      " |  __iadd__(self, value, /)\n",
      " |      Implement self+=value.\n",
      " |  \n",
      " |  __imul__(self, value, /)\n",
      " |      Implement self*=value.\n",
      " |  \n",
      " |  __init__(self, /, *args, **kwargs)\n",
      " |      Initialize self.  See help(type(self)) for accurate signature.\n",
      " |  \n",
      " |  __iter__(self, /)\n",
      " |      Implement iter(self).\n",
      " |  \n",
      " |  __le__(self, value, /)\n",
      " |      Return self<=value.\n",
      " |  \n",
      " |  __len__(self, /)\n",
      " |      Return len(self).\n",
      " |  \n",
      " |  __lt__(self, value, /)\n",
      " |      Return self<value.\n",
      " |  \n",
      " |  __mul__(self, value, /)\n",
      " |      Return self*value.\n",
      " |  \n",
      " |  __ne__(self, value, /)\n",
      " |      Return self!=value.\n",
      " |  \n",
      " |  __repr__(self, /)\n",
      " |      Return repr(self).\n",
      " |  \n",
      " |  __reversed__(self, /)\n",
      " |      Return a reverse iterator over the list.\n",
      " |  \n",
      " |  __rmul__(self, value, /)\n",
      " |      Return value*self.\n",
      " |  \n",
      " |  __setitem__(self, key, value, /)\n",
      " |      Set self[key] to value.\n",
      " |  \n",
      " |  __sizeof__(self, /)\n",
      " |      Return the size of the list in memory, in bytes.\n",
      " |  \n",
      " |  append(self, object, /)\n",
      " |      Append object to the end of the list.\n",
      " |  \n",
      " |  clear(self, /)\n",
      " |      Remove all items from list.\n",
      " |  \n",
      " |  copy(self, /)\n",
      " |      Return a shallow copy of the list.\n",
      " |  \n",
      " |  count(self, value, /)\n",
      " |      Return number of occurrences of value.\n",
      " |  \n",
      " |  extend(self, iterable, /)\n",
      " |      Extend list by appending elements from the iterable.\n",
      " |  \n",
      " |  index(self, value, start=0, stop=9223372036854775807, /)\n",
      " |      Return first index of value.\n",
      " |      \n",
      " |      Raises ValueError if the value is not present.\n",
      " |  \n",
      " |  insert(self, index, object, /)\n",
      " |      Insert object before index.\n",
      " |  \n",
      " |  pop(self, index=-1, /)\n",
      " |      Remove and return item at index (default last).\n",
      " |      \n",
      " |      Raises IndexError if list is empty or index is out of range.\n",
      " |  \n",
      " |  remove(self, value, /)\n",
      " |      Remove first occurrence of value.\n",
      " |      \n",
      " |      Raises ValueError if the value is not present.\n",
      " |  \n",
      " |  reverse(self, /)\n",
      " |      Reverse *IN PLACE*.\n",
      " |  \n",
      " |  sort(self, /, *, key=None, reverse=False)\n",
      " |      Sort the list in ascending order and return None.\n",
      " |      \n",
      " |      The sort is in-place (i.e. the list itself is modified) and stable (i.e. the\n",
      " |      order of two equal elements is maintained).\n",
      " |      \n",
      " |      If a key function is given, apply it once to each list item and sort them,\n",
      " |      ascending or descending, according to their function values.\n",
      " |      \n",
      " |      The reverse flag can be set to sort in descending order.\n",
      " |  \n",
      " |  ----------------------------------------------------------------------\n",
      " |  Class methods defined here:\n",
      " |  \n",
      " |  __class_getitem__(...) from builtins.type\n",
      " |      See PEP 585\n",
      " |  \n",
      " |  ----------------------------------------------------------------------\n",
      " |  Static methods defined here:\n",
      " |  \n",
      " |  __new__(*args, **kwargs) from builtins.type\n",
      " |      Create and return a new object.  See help(type) for accurate signature.\n",
      " |  \n",
      " |  ----------------------------------------------------------------------\n",
      " |  Data and other attributes defined here:\n",
      " |  \n",
      " |  __hash__ = None\n",
      "\n",
      "None\n"
     ]
    }
   ],
   "source": [
    "myList = [1,2,3]\n",
    "\n",
    "print(dir())\n",
    "input()\n",
    "print('-'*50)\n",
    "\n",
    "print(dir(myList))\n",
    "input()\n",
    "print('-'*50)\n",
    "\n",
    "print(help(myList.append))\n",
    "input()\n",
    "print('-'*50)\n",
    "\n",
    "print(help(myList))"
   ],
   "metadata": {
    "collapsed": false,
    "pycharm": {
     "name": "#%%\n"
    }
   }
  },
  {
   "cell_type": "markdown",
   "source": [
    "# **79. 내장 함수 - eval() 함수**"
   ],
   "metadata": {
    "collapsed": false
   }
  },
  {
   "cell_type": "code",
   "execution_count": 422,
   "outputs": [
    {
     "name": "stdout",
     "output_type": "stream",
     "text": [
      "2000\n",
      "2\n"
     ]
    }
   ],
   "source": [
    "print(eval('1000*2'))\n",
    "\n",
    "number =1\n",
    "exp = 'print(number +1)'\n",
    "eval(exp)"
   ],
   "metadata": {
    "collapsed": false,
    "pycharm": {
     "name": "#%%\n"
    }
   }
  },
  {
   "cell_type": "markdown",
   "source": [
    "# **83. 내장 함수 - int() 함수**"
   ],
   "metadata": {
    "collapsed": false
   }
  },
  {
   "cell_type": "code",
   "execution_count": 423,
   "outputs": [
    {
     "name": "stdout",
     "output_type": "stream",
     "text": [
      "0\n",
      "10\n",
      "3\n",
      "1234\n"
     ]
    }
   ],
   "source": [
    "print(int())\n",
    "print(int(10))\n",
    "\n",
    "print(int(3.74))\n",
    "print(int(1234))"
   ],
   "metadata": {
    "collapsed": false,
    "pycharm": {
     "name": "#%%\n"
    }
   }
  },
  {
   "cell_type": "markdown",
   "source": [
    "# **84. 내장 함수 - len() 함수**"
   ],
   "metadata": {
    "collapsed": false
   }
  },
  {
   "cell_type": "code",
   "execution_count": 424,
   "outputs": [
    {
     "name": "stdout",
     "output_type": "stream",
     "text": [
      "문자열 6\n",
      "리스트 7\n",
      "사전 0 : 호날두\n",
      "사전 1 : 메시\n",
      "사전 2 : 손흥민\n"
     ]
    }
   ],
   "source": [
    "print('문자열', len('python'))\n",
    "\n",
    "myList = [1,2,3,4,5,6,7]\n",
    "print('리스트',len(myList))\n",
    "\n",
    "myDict = {0:'호날두', 1:'메시',2:'손흥민'}\n",
    "for item in range(len(myDict)):\n",
    "    print('사전',item,':',myDict[item])"
   ],
   "metadata": {
    "collapsed": false,
    "pycharm": {
     "name": "#%%\n"
    }
   }
  },
  {
   "cell_type": "markdown",
   "source": [
    "# **85. 내장 함수 - pow() 함수, round() 함수, sum() 함수**"
   ],
   "metadata": {
    "collapsed": false
   }
  },
  {
   "cell_type": "code",
   "execution_count": 425,
   "outputs": [
    {
     "name": "stdout",
     "output_type": "stream",
     "text": [
      "100\n",
      "2 4\n"
     ]
    },
    {
     "ename": "TypeError",
     "evalue": "'int' object is not callable",
     "output_type": "error",
     "traceback": [
      "\u001B[1;31m---------------------------------------------------------------------------\u001B[0m",
      "\u001B[1;31mTypeError\u001B[0m                                 Traceback (most recent call last)",
      "\u001B[1;32m<ipython-input-425-5f455a75f1a4>\u001B[0m in \u001B[0;36m<module>\u001B[1;34m\u001B[0m\n\u001B[0;32m      3\u001B[0m \u001B[0mprint\u001B[0m\u001B[1;33m(\u001B[0m\u001B[0mround\u001B[0m\u001B[1;33m(\u001B[0m\u001B[1;36m2\u001B[0m\u001B[1;33m,\u001B[0m\u001B[1;36m3\u001B[0m\u001B[1;33m)\u001B[0m\u001B[1;33m,\u001B[0m \u001B[0mround\u001B[0m\u001B[1;33m(\u001B[0m\u001B[1;36m4\u001B[0m\u001B[1;33m,\u001B[0m\u001B[1;36m6\u001B[0m\u001B[1;33m)\u001B[0m\u001B[1;33m)\u001B[0m\u001B[1;33m\u001B[0m\u001B[1;33m\u001B[0m\u001B[0m\n\u001B[0;32m      4\u001B[0m \u001B[0mmyList\u001B[0m \u001B[1;33m=\u001B[0m \u001B[1;33m[\u001B[0m\u001B[1;36m1\u001B[0m\u001B[1;33m,\u001B[0m \u001B[1;36m2\u001B[0m\u001B[1;33m,\u001B[0m \u001B[1;36m3\u001B[0m\u001B[1;33m,\u001B[0m \u001B[1;36m4\u001B[0m\u001B[1;33m,\u001B[0m \u001B[1;36m5\u001B[0m\u001B[1;33m,\u001B[0m \u001B[1;36m6\u001B[0m\u001B[1;33m]\u001B[0m\u001B[1;33m\u001B[0m\u001B[1;33m\u001B[0m\u001B[0m\n\u001B[1;32m----> 5\u001B[1;33m \u001B[0mresult\u001B[0m \u001B[1;33m=\u001B[0m \u001B[0msum\u001B[0m\u001B[1;33m(\u001B[0m\u001B[0mmyList\u001B[0m\u001B[1;33m)\u001B[0m\u001B[1;33m\u001B[0m\u001B[1;33m\u001B[0m\u001B[0m\n\u001B[0m\u001B[0;32m      6\u001B[0m \u001B[0mprint\u001B[0m\u001B[1;33m(\u001B[0m\u001B[0mresult\u001B[0m\u001B[1;33m)\u001B[0m\u001B[1;33m\u001B[0m\u001B[1;33m\u001B[0m\u001B[0m\n",
      "\u001B[1;31mTypeError\u001B[0m: 'int' object is not callable"
     ]
    }
   ],
   "source": [
    "print(pow(10,2))\n",
    "\n",
    "print(round(2,3), round(4,6))\n",
    "myList = [1, 2, 3, 4, 5, 6]\n",
    "result = sum(myList)\n",
    "print(result)"
   ],
   "metadata": {
    "collapsed": false,
    "pycharm": {
     "name": "#%%\n"
    }
   }
  },
  {
   "cell_type": "markdown",
   "source": [
    "# **86. 내장함수 - max() 함수, min() 함수**"
   ],
   "metadata": {
    "collapsed": false,
    "pycharm": {
     "name": "#%% md\n"
    }
   }
  },
  {
   "cell_type": "code",
   "execution_count": null,
   "outputs": [],
   "source": [
    "myTup = (56,79,82,1,22,99)\n",
    "print(max(myTup), min(myTup))\n",
    "\n",
    "print('영문자 중 가장 큰 문자:', max('abcde '))\n",
    "print('서로 다른 문자들 중 큰 문자:', max('0Aa'))\n",
    "\n",
    "print('문장 속 최대값 문자:',max('I went to the zpp uesterdat, 27 March.'))\n",
    "print('문장 속 최솟값 문자:', min('I went to the zpp uesterdat, 27 March.'))"
   ],
   "metadata": {
    "collapsed": false,
    "pycharm": {
     "name": "#%%\n"
    }
   }
  },
  {
   "cell_type": "markdown",
   "source": [
    "# **Tower of Hanoi**"
   ],
   "metadata": {
    "collapsed": false,
    "pycharm": {
     "name": "#%% md\n"
    }
   }
  },
  {
   "cell_type": "code",
   "execution_count": 10,
   "outputs": [
    {
     "data": {
      "text/plain": "[[1, 3], [1, 2], [3, 2], [1, 3], [2, 1], [2, 3], [1, 3]]"
     },
     "execution_count": 10,
     "metadata": {},
     "output_type": "execute_result"
    }
   ],
   "source": [
    "answer = []\n",
    "def Hanoi(n, From, Toward, Using):\n",
    "    if n == 1:\n",
    "        answer.append([From, Toward])\n",
    "        return\n",
    "    Hanoi(n-1, From, Using, Toward)\n",
    "    answer.append([From, Toward])\n",
    "    Hanoi(n-1, Using, Toward, From)\n",
    "\n",
    "Hanoi(3, 1, 3, 2)\n",
    "answer"
   ],
   "metadata": {
    "collapsed": false,
    "pycharm": {
     "name": "#%%\n"
    }
   }
  },
  {
   "cell_type": "code",
   "source": [
    "ps_list = []\n",
    "def PSCheck(ps):\n",
    "    \n",
    "    while ps_list != 1:\n",
    "        for i in ps:\n",
    "            ps_list.append(i)\n",
    "        if ps_list.pop == ')'\n",
    "    return 'wrong'\n",
    "PSCheck('(())')\n",
    "ps_list"
   ],
   "metadata": {
    "collapsed": false,
    "pycharm": {
     "name": "#%%\n"
    }
   },
   "execution_count": 40,
   "outputs": [
    {
     "name": "stdout",
     "output_type": "stream",
     "text": [
      "wrong\n"
     ]
    },
    {
     "data": {
      "text/plain": "[]"
     },
     "execution_count": 40,
     "metadata": {},
     "output_type": "execute_result"
    }
   ]
  }
 ],
 "metadata": {
  "kernelspec": {
   "display_name": "Python 3",
   "language": "python",
   "name": "python3"
  },
  "language_info": {
   "codemirror_mode": {
    "name": "ipython",
    "version": 3
   },
   "file_extension": ".py",
   "mimetype": "text/x-python",
   "name": "python",
   "nbconvert_exporter": "python",
   "pygments_lexer": "ipython3",
   "version": "3.9.2"
  }
 },
 "nbformat": 4,
 "nbformat_minor": 5
}