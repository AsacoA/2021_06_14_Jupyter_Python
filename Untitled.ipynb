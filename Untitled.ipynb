{
 "cells": [
  {
   "cell_type": "markdown",
   "id": "8d70b39a",
   "metadata": {
    "pycharm": {
     "name": "#%% md\n"
    }
   },
   "source": [
    "## *실행하기 전에 항상 esc를 누를 것*\n",
    "\n",
    "1. shift + enter : **셀** 실행하고 아래에 셀 추가\n",
    "2. a : **위**에 셀추가\n",
    "3. b : **아래**에 셀 추가\n",
    "4. dd : **셀** 삭제\n",
    "\n"
   ]
  },
  {
   "cell_type": "markdown",
   "id": "25ae2f31",
   "metadata": {
    "pycharm": {
     "name": "#%% md\n"
    }
   },
   "source": [
    "# **제목1**"
   ]
  },
  {
   "cell_type": "markdown",
   "id": "4427ee8b",
   "metadata": {
    "pycharm": {
     "name": "#%% md\n"
    }
   },
   "source": [
    "- 테스트1\n",
    "- 테스트2\n",
    "- 테스트3"
   ]
  },
  {
   "cell_type": "markdown",
   "id": "f113dd8d",
   "metadata": {
    "pycharm": {
     "name": "#%% md\n"
    }
   },
   "source": [
    "첫번째 줄\n",
    "두번 재 줄"
   ]
  },
  {
   "cell_type": "markdown",
   "id": "9c150877",
   "metadata": {
    "pycharm": {
     "name": "#%% md\n"
    }
   },
   "source": []
  },
  {
   "cell_type": "code",
   "execution_count": 1406,
   "id": "b9dd118d",
   "metadata": {},
   "outputs": [
    {
     "name": "stdout",
     "output_type": "stream",
     "text": [
      "10\n",
      "50\n",
      "80\n",
      "30\n"
     ]
    }
   ],
   "source": [
    "# section_004.py\n",
    "\n",
    "apple = 10\n",
    "lemon, banana = 20, 50\n",
    "fruit = apple + lemon + banana\n",
    "\n",
    "print(apple)\n",
    "print(banana)\n",
    "print(fruit)\n",
    "\n",
    "apple = 30\n",
    "print(apple)"
   ]
  },
  {
   "cell_type": "markdown",
   "id": "e9fabc46",
   "metadata": {
    "pycharm": {
     "name": "#%% md\n"
    }
   },
   "source": [
    "# **5. 간단한 연산 맛보기**"
   ]
  },
  {
   "cell_type": "code",
   "execution_count": 1407,
   "id": "00b194af",
   "metadata": {},
   "outputs": [
    {
     "data": {
      "text/plain": "1.5"
     },
     "execution_count": 1407,
     "metadata": {},
     "output_type": "execute_result"
    }
   ],
   "source": [
    "add = 3 + 25\n",
    "sub = 45 - 13\n",
    "mul = 9 * 9\n",
    "div = 3 / 2\n",
    "\n",
    "add\n",
    "sub\n",
    "mul\n",
    "div"
   ]
  },
  {
   "cell_type": "markdown",
   "id": "853ba2cb",
   "metadata": {
    "pycharm": {
     "name": "#%% md\n"
    }
   },
   "source": [
    "# **6. 문자열 맛보기**"
   ]
  },
  {
   "cell_type": "code",
   "execution_count": 1408,
   "id": "61a26690",
   "metadata": {
    "scrolled": true
   },
   "outputs": [
    {
     "name": "stdout",
     "output_type": "stream",
     "text": [
      "안녕하세요\n",
      "I love the Earth!\n",
      "내가 좋아하는 숫자는 1, 4, 7입니다\n"
     ]
    }
   ],
   "source": [
    "print('안녕하세요')\n",
    "print('I love the Earth!')\n",
    "print(\"내가 좋아하는 숫자는 1, 4, 7입니다\")"
   ]
  },
  {
   "cell_type": "code",
   "execution_count": 1409,
   "id": "c2407ac5",
   "metadata": {},
   "outputs": [
    {
     "name": "stdout",
     "output_type": "stream",
     "text": [
      "'\n"
     ]
    }
   ],
   "source": [
    "print('\\'')"
   ]
  },
  {
   "cell_type": "markdown",
   "id": "20932dd1",
   "metadata": {
    "pycharm": {
     "name": "#%% md\n"
    }
   },
   "source": [
    "# **7. 파이썬 문장**"
   ]
  },
  {
   "cell_type": "code",
   "execution_count": 1410,
   "id": "e26c9e1f",
   "metadata": {},
   "outputs": [
    {
     "name": "stdout",
     "output_type": "stream",
     "text": [
      "1\n",
      "60\n",
      "45\n",
      "45\n",
      "['red', 'blue', 'green']\n"
     ]
    }
   ],
   "source": [
    "number = 1\n",
    "print(number)\n",
    "\n",
    "num1 = 10\n",
    "num2 = 20\n",
    "num3 = 30\n",
    "print(num1 + num2 + num3)\n",
    "sum = 1 + 2 + 3 + \\\n",
    "      4 + 5 + 6 + \\\n",
    "      7 + 8 + 9\n",
    "print(sum)\n",
    "\n",
    "tup = (1+2+3+4+5+6+7+8+9)\n",
    "print(tup)\n",
    "\n",
    "color = ['red', 'blue', 'green']\n",
    "print(color)"
   ]
  },
  {
   "cell_type": "markdown",
   "id": "2bf6a3cd",
   "metadata": {
    "pycharm": {
     "name": "#%% md\n"
    }
   },
   "source": [
    "# 8. **함수 맛보기**"
   ]
  },
  {
   "cell_type": "code",
   "execution_count": 1411,
   "id": "80b39eca",
   "metadata": {},
   "outputs": [
    {
     "name": "stdout",
     "output_type": "stream",
     "text": [
      "안녕! 나도 함수야\n",
      "16\n",
      "63\n",
      "2\n",
      "TEST\n"
     ]
    }
   ],
   "source": [
    "print(\"안녕! 나도 함수야\")\n",
    "\n",
    "print(len(\"이 문자열의 길이는 얼마일까?\"))\n",
    "\n",
    "print(max(11,2,63,47,50))\n",
    "print(min(11,2,63,47,50))\n",
    "\n",
    "thisdict = {\n",
    "  \"brand\": {\"Ford\" : \"TEST\"},\n",
    "  \"model\": \"Mustang\",\n",
    "  \"year\": 1964\n",
    "}\n",
    "print(thisdict[\"brand\"][\"Ford\"])"
   ]
  },
  {
   "cell_type": "markdown",
   "id": "90ca9f05",
   "metadata": {
    "pycharm": {
     "name": "#%% md\n"
    }
   },
   "source": [
    "# **10. 모듈 맛보기**"
   ]
  },
  {
   "cell_type": "code",
   "execution_count": 1412,
   "id": "de6efeeb",
   "metadata": {},
   "outputs": [
    {
     "name": "stdout",
     "output_type": "stream",
     "text": [
      "3.141592653589793\n",
      "16.0\n",
      "반지름이 10인 원의 둘레는 62.83185307179586 이다\n"
     ]
    }
   ],
   "source": [
    "import math as ma\n",
    "\n",
    "print(ma.pi)\n",
    "print(ma.sqrt(256))\n",
    "\n",
    "r = 10\n",
    "cir = 2 * ma.pi * r\n",
    "print(f\"반지름이 {r}인 원의 둘레는 {cir} 이다\")"
   ]
  },
  {
   "cell_type": "markdown",
   "id": "d22dcabd",
   "metadata": {
    "pycharm": {
     "name": "#%% md\n"
    }
   },
   "source": [
    "# **12, 13. 복합 대입 연산자, 연산자 우선 순위**"
   ]
  },
  {
   "cell_type": "code",
   "execution_count": 1413,
   "id": "59c4d63d",
   "metadata": {},
   "outputs": [
    {
     "name": "stdout",
     "output_type": "stream",
     "text": [
      "6\n",
      "7\n",
      "70\n",
      "15\n",
      "32\n",
      "282\n"
     ]
    }
   ],
   "source": [
    "\n",
    "x = 5\n",
    "\n",
    "x = x + 1\n",
    "\n",
    "print(x)\n",
    "x += 1\n",
    "print(x)\n",
    "\n",
    "y = 10\n",
    "y *= x\n",
    "print(y)\n",
    "\n",
    "x = 5\n",
    "x = x + 1 * 10 # x = x + (1 * 10)\n",
    "print(x)\n",
    "\n",
    "y = 42 - 1 + 1 - 10\n",
    "print(y)\n",
    "\n",
    "z = (x + y) * 6\n",
    "print(z)"
   ]
  },
  {
   "cell_type": "markdown",
   "id": "076291a9",
   "metadata": {
    "pycharm": {
     "name": "#%% md\n"
    }
   },
   "source": [
    "# **14. 여러 개의 값 출력하기**"
   ]
  },
  {
   "cell_type": "code",
   "execution_count": 1414,
   "id": "e1aaea99",
   "metadata": {},
   "outputs": [
    {
     "name": "stdout",
     "output_type": "stream",
     "text": [
      "질량은 100\n",
      "높이는 1.7\n",
      "중력가속도는 9.8065\n"
     ]
    }
   ],
   "source": [
    "mass = 100\n",
    "height = 1.7\n",
    "g = 9.8065\n",
    "\n",
    "print(f'질량은 {mass}')\n",
    "print(f'높이는 {height}')\n",
    "print(f'중력가속도는 {g}')"
   ]
  },
  {
   "cell_type": "markdown",
   "id": "4447ed14",
   "metadata": {
    "pycharm": {
     "name": "#%% md\n"
    }
   },
   "source": [
    "# **21. 문자열 연산**"
   ]
  },
  {
   "cell_type": "code",
   "execution_count": 1415,
   "id": "544c3339",
   "metadata": {},
   "outputs": [
    {
     "name": "stdout",
     "output_type": "stream",
     "text": [
      "========================================\n",
      "Python 훌륭한 프로그래밍 언어이다\n",
      "Python은 훌륭한 프로그래밍 언어이다\n",
      "꿈과 도전\n",
      "========================================\n"
     ]
    }
   ],
   "source": [
    "print(\"=\" * 40)\n",
    "print(\"Python\" + \" 훌륭한 프로그래밍 언어이다\")\n",
    "\n",
    "head = \"Python은\"\n",
    "tail = \" 훌륭한 프로그래밍 언어이다\"\n",
    "string = head + tail\n",
    "print(string)\n",
    "\n",
    "str1 = \"꿈\"\n",
    "str2 = \"과\"\n",
    "str3 = \"도\"\n",
    "str4 = \"전\"\n",
    "\n",
    "print(str1 + str2 + \" \" + str3 + str4)\n",
    "print(\"=\" * 40)"
   ]
  },
  {
   "cell_type": "markdown",
   "id": "77cfd293",
   "metadata": {
    "pycharm": {
     "name": "#%% md\n"
    }
   },
   "source": [
    "# **22. 문자열 인덱싱**"
   ]
  },
  {
   "cell_type": "code",
   "execution_count": 1416,
   "id": "3f353d8e",
   "metadata": {},
   "outputs": [
    {
     "name": "stdout",
     "output_type": "stream",
     "text": [
      "N\n",
      "A\n",
      "E\n",
      "E\n",
      "R\n",
      "N\n"
     ]
    }
   ],
   "source": [
    "string = \"NATURE\"\n",
    "\n",
    "print(string[0])\n",
    "print(string[1])\n",
    "print(string[5])\n",
    "\n",
    "print(string[-1])\n",
    "print(string[-2])\n",
    "print(string[-6])"
   ]
  },
  {
   "cell_type": "markdown",
   "id": "358d0335",
   "metadata": {
    "pycharm": {
     "name": "#%% md\n"
    }
   },
   "source": [
    "# **23. 문자열 슬라이싱**"
   ]
  },
  {
   "cell_type": "code",
   "execution_count": 1417,
   "id": "a6ed1232",
   "metadata": {},
   "outputs": [
    {
     "name": "stdout",
     "output_type": "stream",
     "text": [
      "수비 수밥 비니 리떡\n"
     ]
    }
   ],
   "source": [
    "string = \"수제비, 옥수수밥, 너비아니, 수리취떡\"\n",
    "print(string[::2])"
   ]
  },
  {
   "cell_type": "markdown",
   "id": "c20a857c",
   "metadata": {
    "pycharm": {
     "name": "#%% md\n"
    }
   },
   "source": [
    "# **25. 문자열 관련 메서드**"
   ]
  },
  {
   "cell_type": "code",
   "id": "b3f6e4d1",
   "metadata": {
    "pycharm": {
     "name": "#%%\n"
    }
   },
   "source": [
    "myStr = \"Hello, My little baby\"\n",
    "print(myStr.upper())\n",
    "print(myStr.lower())\n",
    "print(myStr.title())\n",
    "print()\n",
    "\n",
    "print(myStr.count('b'))\n",
    "print(myStr.endswith('y'))\n",
    "print(myStr.startswith('h'))\n",
    "print(myStr.lower().endswith('h'))\n",
    "print()\n",
    "\n",
    "print(myStr.split())\n",
    "print(myStr.split(','))\n",
    "print()\n",
    "\n",
    "myStrfill = myStr.zfill(30)\n",
    "print(myStrfill)"
   ],
   "execution_count": 1418,
   "outputs": [
    {
     "name": "stdout",
     "output_type": "stream",
     "text": [
      "HELLO, MY LITTLE BABY\n",
      "hello, my little baby\n",
      "Hello, My Little Baby\n",
      "\n",
      "2\n",
      "True\n",
      "False\n",
      "False\n",
      "\n",
      "['Hello,', 'My', 'little', 'baby']\n",
      "['Hello', ' My little baby']\n",
      "\n",
      "000000000Hello, My little baby\n"
     ]
    }
   ]
  },
  {
   "cell_type": "code",
   "id": "8b0070b4",
   "metadata": {
    "scrolled": true,
    "pycharm": {
     "name": "#%%\n"
    }
   },
   "source": [
    "count = [1,2,3,4,5,'string']\n",
    "print(count[-1][::-1])\n",
    "print(count[::-1])"
   ],
   "execution_count": 1419,
   "outputs": [
    {
     "name": "stdout",
     "output_type": "stream",
     "text": [
      "gnirts\n",
      "['string', 5, 4, 3, 2, 1]\n"
     ]
    }
   ]
  },
  {
   "cell_type": "code",
   "id": "a8e6d412",
   "metadata": {
    "pycharm": {
     "name": "#%%\n"
    }
   },
   "source": [
    "kor = \"가나다라마바사아자차카타파하\"\n",
    "print(kor[::3])\n",
    "print(kor[-2::-3])"
   ],
   "execution_count": 1420,
   "outputs": [
    {
     "name": "stdout",
     "output_type": "stream",
     "text": [
      "가라사차파\n",
      "파차사라가\n"
     ]
    }
   ]
  },
  {
   "cell_type": "code",
   "id": "482dd951",
   "metadata": {
    "pycharm": {
     "name": "#%%\n"
    }
   },
   "source": [
    "cheeses = ['체다', '모짜렐라', '까망베르', '리코타']\n",
    "print(cheeses)\n",
    "\n",
    "cheeses[0] = '크림'\n",
    "print(cheeses)\n",
    "\n",
    "all = cheeses + ['블루']\n",
    "print(all)\n",
    "print(cheeses)"
   ],
   "execution_count": 1421,
   "outputs": [
    {
     "name": "stdout",
     "output_type": "stream",
     "text": [
      "['체다', '모짜렐라', '까망베르', '리코타']\n",
      "['크림', '모짜렐라', '까망베르', '리코타']\n",
      "['크림', '모짜렐라', '까망베르', '리코타', '블루']\n",
      "['크림', '모짜렐라', '까망베르', '리코타']\n"
     ]
    }
   ]
  },
  {
   "cell_type": "code",
   "id": "77e10607",
   "metadata": {
    "pycharm": {
     "name": "#%%\n"
    }
   },
   "source": [
    "colors = ['red', 'orange', 'yellow', 'green', 'yellow']\n",
    "print(colors)\n",
    "\n",
    "colors.sort()\n",
    "print(colors)\n",
    "\n",
    "colors.reverse()\n",
    "print(colors)\n",
    "print()\n",
    "\n",
    "print(colors.pop())\n",
    "print(colors)\n",
    "print()\n",
    "\n",
    "colors.remove('red')\n",
    "print(colors)\n",
    "\n",
    "print(colors.count('yellow'))"
   ],
   "execution_count": 1422,
   "outputs": [
    {
     "name": "stdout",
     "output_type": "stream",
     "text": [
      "['red', 'orange', 'yellow', 'green', 'yellow']\n",
      "['green', 'orange', 'red', 'yellow', 'yellow']\n",
      "['yellow', 'yellow', 'red', 'orange', 'green']\n",
      "\n",
      "green\n",
      "['yellow', 'yellow', 'red', 'orange']\n",
      "\n",
      "['yellow', 'yellow', 'orange']\n",
      "2\n"
     ]
    }
   ]
  },
  {
   "cell_type": "markdown",
   "id": "b4c9bcd6",
   "metadata": {},
   "source": [
    "# **if 문**"
   ]
  },
  {
   "cell_type": "code",
   "id": "113770e0",
   "metadata": {
    "pycharm": {
     "name": "#%%\n"
    }
   },
   "source": [
    "if True:\n",
    "    print('h1')\n",
    "    print('h2')\n",
    "    print('h3')\n",
    "    ...\n",
    "\n",
    "if False:\n",
    "    print('This is False') #출력안됨"
   ],
   "execution_count": 1423,
   "outputs": [
    {
     "name": "stdout",
     "output_type": "stream",
     "text": [
      "h1\n",
      "h2\n",
      "h3\n"
     ]
    }
   ]
  },
  {
   "cell_type": "code",
   "id": "f2ba0507",
   "metadata": {
    "pycharm": {
     "name": "#%%\n"
    }
   },
   "source": [
    "isTrue = 0\n",
    "print('isTrue : ', isTrue)\n",
    "\n",
    "if isTrue:\n",
    "    print('it is true')\n",
    "else:\n",
    "    print('it is false')"
   ],
   "execution_count": 1424,
   "outputs": [
    {
     "name": "stdout",
     "output_type": "stream",
     "text": [
      "isTrue :  0\n",
      "it is false\n"
     ]
    }
   ]
  },
  {
   "cell_type": "code",
   "source": [
    "var = ''\n",
    "\n",
    "if var:\n",
    "    print('it is not blank')\n",
    "else:\n",
    "    print('it is black')"
   ],
   "metadata": {
    "collapsed": false,
    "pycharm": {
     "name": "#%%\n"
    }
   },
   "execution_count": 1425,
   "outputs": [
    {
     "name": "stdout",
     "output_type": "stream",
     "text": [
      "it is black\n"
     ]
    }
   ]
  },
  {
   "cell_type": "markdown",
   "source": [
    "# **if in**"
   ],
   "metadata": {
    "collapsed": false,
    "pycharm": {
     "name": "#%% md\n"
    }
   }
  },
  {
   "cell_type": "code",
   "source": [
    "br31 = ['사빠딸', '오버더레인보우', '쿠앤크', '슈팅스타', '민트초코',\n",
    "         '뉴욕치즈케이크','엄마는외계인','아빠는딸바보', '바람과함께사라지다',\n",
    "         '매쉬업스']\n",
    "\n",
    "want = '사빠딸'\n",
    "\n",
    "print(want in br31)\n",
    "\n",
    "if want in br31:\n",
    "    print(want ,'하나 주세요')\n",
    "else:\n",
    "    print(want, '품절')"
   ],
   "metadata": {
    "collapsed": false,
    "pycharm": {
     "name": "#%%\n"
    }
   },
   "execution_count": 1426,
   "outputs": [
    {
     "name": "stdout",
     "output_type": "stream",
     "text": [
      "True\n",
      "사빠딸 하나 주세요\n"
     ]
    }
   ]
  },
  {
   "cell_type": "markdown",
   "source": [
    "# **if not in**"
   ],
   "metadata": {
    "collapsed": false,
    "pycharm": {
     "name": "#%% md\n"
    }
   }
  },
  {
   "cell_type": "code",
   "source": [
    "print(want not in br31)\n",
    "\n",
    "if want not in br31:\n",
    "    print(want ,'하나 주세요')\n",
    "else:\n",
    "    print(want, '품절')"
   ],
   "metadata": {
    "collapsed": false,
    "pycharm": {
     "name": "#%%\n"
    }
   },
   "execution_count": 1427,
   "outputs": [
    {
     "name": "stdout",
     "output_type": "stream",
     "text": [
      "False\n",
      "사빠딸 품절\n"
     ]
    }
   ]
  },
  {
   "cell_type": "markdown",
   "source": [
    "# **if in and in || in or in**"
   ],
   "metadata": {
    "collapsed": false,
    "pycharm": {
     "name": "#%% md\n"
    }
   }
  },
  {
   "cell_type": "code",
   "source": [],
   "metadata": {
    "collapsed": false,
    "pycharm": {
     "name": "#%%\n"
    }
   },
   "execution_count": 1427,
   "outputs": []
  },
  {
   "cell_type": "markdown",
   "source": [
    "# **if elif (If else if)**"
   ],
   "metadata": {
    "collapsed": false,
    "pycharm": {
     "name": "#%% md\n"
    }
   }
  },
  {
   "cell_type": "code",
   "source": [
    "howmany = 3\n",
    "if howmany == 1:\n",
    "    print(f'사람에 빠진 딸기 {howmany}개 있어요')\n",
    "elif howmany == 2:\n",
    "    print(f'사랑에 빠진 딸기 {howmany}개 있어요')\n",
    "else:\n",
    "    print(f'사랑에 빠진 딸기 {howmany}개 있어요')"
   ],
   "metadata": {
    "collapsed": false,
    "pycharm": {
     "name": "#%%\n"
    }
   },
   "execution_count": 1428,
   "outputs": [
    {
     "name": "stdout",
     "output_type": "stream",
     "text": [
      "사랑에 빠진 딸기 3개 있어요\n"
     ]
    }
   ]
  },
  {
   "cell_type": "markdown",
   "source": [
    "# **while**"
   ],
   "metadata": {
    "collapsed": false,
    "pycharm": {
     "name": "#%% md\n"
    }
   },
   "execution_count": 463
  },
  {
   "cell_type": "code",
   "source": [
    "while br31:\n",
    "    now = br31.pop()\n",
    "    print(now)"
   ],
   "metadata": {
    "collapsed": false,
    "pycharm": {
     "name": "#%%\n"
    }
   },
   "execution_count": 1429,
   "outputs": [
    {
     "name": "stdout",
     "output_type": "stream",
     "text": [
      "매쉬업스\n",
      "바람과함께사라지다\n",
      "아빠는딸바보\n",
      "엄마는외계인\n",
      "뉴욕치즈케이크\n",
      "민트초코\n",
      "슈팅스타\n",
      "쿠앤크\n",
      "오버더레인보우\n",
      "사빠딸\n"
     ]
    }
   ]
  },
  {
   "cell_type": "markdown",
   "source": [
    "# **for**"
   ],
   "metadata": {
    "collapsed": false,
    "pycharm": {
     "name": "#%% md\n"
    }
   }
  },
  {
   "cell_type": "code",
   "source": [
    "br31 = ['사빠딸', '오버더레인보우', '쿠앤크', '슈팅스타', '민트초코',\n",
    "         '뉴욕치즈케이크','엄마는외계인','아빠는딸바보', '바람과함께사라지다',\n",
    "         '매쉬업스']\n",
    "for i in br31:\n",
    "    print(i, end=', ')"
   ],
   "metadata": {
    "collapsed": false,
    "pycharm": {
     "name": "#%%\n"
    }
   },
   "execution_count": 1430,
   "outputs": [
    {
     "name": "stdout",
     "output_type": "stream",
     "text": [
      "사빠딸, 오버더레인보우, 쿠앤크, 슈팅스타, 민트초코, 뉴욕치즈케이크, 엄마는외계인, 아빠는딸바보, 바람과함께사라지다, 매쉬업스, "
     ]
    }
   ]
  },
  {
   "cell_type": "markdown",
   "source": [
    "# **range()**"
   ],
   "metadata": {
    "collapsed": false,
    "pycharm": {
     "name": "#%% md\n"
    }
   }
  },
  {
   "cell_type": "code",
   "source": [
    "for i in range(10):\n",
    "    print(i, end=',')\n",
    "    ...\n",
    "\n",
    "print()\n",
    "print(\"=\"*20)\n",
    "for i in range(1,6):\n",
    "    print(i, end=',')\n",
    "    ...\n",
    "print()\n",
    "print(\"=\"*20)\n",
    "\n",
    "for i in range(10,21,2):\n",
    "    print(i, end=',')"
   ],
   "metadata": {
    "collapsed": false,
    "pycharm": {
     "name": "#%%\n"
    }
   },
   "execution_count": 1431,
   "outputs": [
    {
     "name": "stdout",
     "output_type": "stream",
     "text": [
      "0,1,2,3,4,5,6,7,8,9,\n",
      "====================\n",
      "1,2,3,4,5,\n",
      "====================\n",
      "10,12,14,16,18,20,"
     ]
    }
   ]
  },
  {
   "cell_type": "markdown",
   "source": [
    "# **break**"
   ],
   "metadata": {
    "collapsed": false,
    "pycharm": {
     "name": "#%% md\n"
    }
   }
  },
  {
   "cell_type": "code",
   "source": [
    "for item in range(30):\n",
    "    if item%2: print(item)\n",
    "    else: pass\n",
    "\n",
    "    if item == 10: break"
   ],
   "metadata": {
    "collapsed": false,
    "pycharm": {
     "name": "#%%\n"
    }
   },
   "execution_count": 1432,
   "outputs": [
    {
     "name": "stdout",
     "output_type": "stream",
     "text": [
      "1\n",
      "3\n",
      "5\n",
      "7\n",
      "9\n"
     ]
    }
   ]
  },
  {
   "cell_type": "markdown",
   "source": [
    "# **continue**"
   ],
   "metadata": {
    "collapsed": false,
    "pycharm": {
     "name": "#%% md\n"
    }
   }
  },
  {
   "cell_type": "code",
   "execution_count": 1433,
   "outputs": [
    {
     "name": "stdout",
     "output_type": "stream",
     "text": [
      "0, 프린트가 될까\n",
      "1\n",
      "2, 프린트가 될까\n",
      "3\n",
      "4, 프린트가 될까\n",
      "5\n",
      "6, 프린트가 될까\n",
      "7\n",
      "8, 프린트가 될까\n",
      "9\n",
      "10, 프린트가 될까\n",
      "11\n",
      "12, 프린트가 될까\n",
      "13\n",
      "14, 프린트가 될까\n",
      "15\n",
      "16, 프린트가 될까\n",
      "17\n",
      "18, 프린트가 될까\n",
      "19\n",
      "20, 프린트가 될까\n",
      "21\n",
      "22, 프린트가 될까\n",
      "23\n",
      "24, 프린트가 될까\n",
      "25\n",
      "26, 프린트가 될까\n",
      "27\n",
      "28, 프린트가 될까\n",
      "29\n"
     ]
    }
   ],
   "source": [
    "for item in range(30):\n",
    "    if item%2:\n",
    "        print(item)\n",
    "        continue\n",
    "    print(f'{item}, 프린트가 될까')"
   ],
   "metadata": {
    "collapsed": false,
    "pycharm": {
     "name": "#%%\n"
    }
   }
  },
  {
   "cell_type": "markdown",
   "source": [
    "# **dict**"
   ],
   "metadata": {
    "collapsed": false,
    "pycharm": {
     "name": "#%% md\n"
    }
   }
  },
  {
   "cell_type": "code",
   "execution_count": 1434,
   "outputs": [
    {
     "name": "stdout",
     "output_type": "stream",
     "text": [
      "{1: '수소', 2: '헬륨', 3: '리튬', 4: '베릴륨'}\n",
      "{1: '서울', 2: '부산'}\n",
      "{'name': '찬열', 'age': 25, 'manager': 'SM', 'jop': 'singer'}\n",
      "찬열\n"
     ]
    },
    {
     "ename": "TypeError",
     "evalue": "get expected at least 1 argument, got 0",
     "output_type": "error",
     "traceback": [
      "\u001B[1;31m---------------------------------------------------------------------------\u001B[0m",
      "\u001B[1;31mTypeError\u001B[0m                                 Traceback (most recent call last)",
      "\u001B[1;32m<ipython-input-1434-2698f1b85451>\u001B[0m in \u001B[0;36m<module>\u001B[1;34m\u001B[0m\n\u001B[0;32m     21\u001B[0m \u001B[0mprint\u001B[0m\u001B[1;33m(\u001B[0m\u001B[0mmy_exo\u001B[0m\u001B[1;33m)\u001B[0m\u001B[1;33m\u001B[0m\u001B[1;33m\u001B[0m\u001B[0m\n\u001B[0;32m     22\u001B[0m \u001B[0mprint\u001B[0m\u001B[1;33m(\u001B[0m\u001B[0mmy_exo\u001B[0m\u001B[1;33m.\u001B[0m\u001B[0mget\u001B[0m\u001B[1;33m(\u001B[0m\u001B[1;34m'name'\u001B[0m\u001B[1;33m)\u001B[0m\u001B[1;33m)\u001B[0m\u001B[1;33m\u001B[0m\u001B[1;33m\u001B[0m\u001B[0m\n\u001B[1;32m---> 23\u001B[1;33m \u001B[0mprint\u001B[0m\u001B[1;33m(\u001B[0m\u001B[0mmy_exo\u001B[0m\u001B[1;33m.\u001B[0m\u001B[0mget\u001B[0m\u001B[1;33m(\u001B[0m\u001B[1;33m)\u001B[0m\u001B[1;33m)\u001B[0m\u001B[1;33m\u001B[0m\u001B[1;33m\u001B[0m\u001B[0m\n\u001B[0m\u001B[0;32m     24\u001B[0m \u001B[0mprint\u001B[0m\u001B[1;33m(\u001B[0m\u001B[0mtype\u001B[0m\u001B[1;33m(\u001B[0m\u001B[0mmy_exo\u001B[0m\u001B[1;33m)\u001B[0m\u001B[1;33m)\u001B[0m\u001B[1;33m\u001B[0m\u001B[1;33m\u001B[0m\u001B[0m\n",
      "\u001B[1;31mTypeError\u001B[0m: get expected at least 1 argument, got 0"
     ]
    }
   ],
   "source": [
    "my_dict = {}\n",
    "my_dict = {'fishing' : '낚시질',\n",
    "           'fishing banks' : '어초',\n",
    "           'fishing boat' : '낚싯배'}\n",
    "my_dict = {1 : \"수소\",\n",
    "           2 : \"헬륨\",\n",
    "           3 : \"리튬\",\n",
    "           4 : \"베릴륨\"}\n",
    "\n",
    "print(my_dict)\n",
    "my_dict = {'name' : 'mr. Kang',\n",
    "           14003 : [3,2,0,1]}\n",
    "my_dict = dict([(1, '서울'), (2, '부산')])\n",
    "print(my_dict)\n",
    "\n",
    "my_exo = {'name' : '찬열',\n",
    "          'age' : 25,\n",
    "          'manager' : 'SM',\n",
    "          'jop' : 'singer'}\n",
    "\n",
    "print(my_exo)\n",
    "print(my_exo.get('name'))\n",
    "print(type(my_exo))"
   ],
   "metadata": {
    "collapsed": false,
    "pycharm": {
     "name": "#%%\n"
    }
   }
  }
 ],
 "metadata": {
  "kernelspec": {
   "display_name": "Python 3",
   "language": "python",
   "name": "python3"
  },
  "language_info": {
   "codemirror_mode": {
    "name": "ipython",
    "version": 3
   },
   "file_extension": ".py",
   "mimetype": "text/x-python",
   "name": "python",
   "nbconvert_exporter": "python",
   "pygments_lexer": "ipython3",
   "version": "3.9.2"
  }
 },
 "nbformat": 4,
 "nbformat_minor": 5
}