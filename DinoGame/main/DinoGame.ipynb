{
 "cells": [
  {
   "cell_type": "markdown",
   "source": [
    "# **공룡게임**"
   ],
   "metadata": {
    "collapsed": false,
    "pycharm": {
     "name": "#%% md\n"
    }
   }
  },
  {
   "cell_type": "code",
   "execution_count": 6,
   "metadata": {
    "collapsed": true
   },
   "outputs": [
    {
     "ename": "SystemExit",
     "evalue": "",
     "output_type": "error",
     "traceback": [
      "An exception has occurred, use %tb to see the full traceback.\n",
      "\u001B[1;31mSystemExit\u001B[0m\n"
     ]
    }
   ],
   "source": [
    "import pygame\n",
    "import sys\n",
    "\n",
    "pygame.init()\n",
    "\n",
    "WHITE = (255, 255, 255) # RGB\n",
    "TITLE = 'Dino Game'\n",
    "\n",
    "# 게임 화면 크기\n",
    "MAX_WIDTH, MAX_HEIGHT = 800, 400\n",
    "screen = pygame.display.set_mode((MAX_WIDTH, MAX_HEIGHT))\n",
    "\n",
    "# FPS - 설정\n",
    "fps = pygame.time.Clock()\n",
    "\n",
    "# 이미지 불러오기\n",
    "dino_img1 = pygame.image.load('../res/img/dino1.png')\n",
    "dino_img2 = pygame.image.load('../res/img/dino2.png')\n",
    "\n",
    "# pygame.display.set_caption(TITLE)\n",
    "# pygame.display.set_icon(dino_img1)\n",
    "\n",
    "# 공룡 위치\n",
    "\n",
    "dino_height = dino_img1.get_size()[1]\n",
    "dino_x = 50\n",
    "dino_y = MAX_HEIGHT - dino_height\n",
    "JUMP_UPTO = 200\n",
    "dino_at_bottom = MAX_HEIGHT - dino_height   # dino가 맨 아래에 [있을\n",
    "\n",
    "is_bottom = True\n",
    "is_go_up = False\n",
    "\n",
    "# 게임 루프\n",
    "while True:\n",
    "    screen.fill((255, 255, 255))\n",
    "    screen.blit(dino_img1, (dino_x, dino_y))\n",
    "\n",
    "    for event in pygame.event.get():\n",
    "        if event.type == pygame.QUIT:\n",
    "            pygame.quit()\n",
    "            sys.exit()\n",
    "        elif event.type == pygame.KEYDOWN:\n",
    "            if is_bottom:\n",
    "                is_go_up = True # 올라가는 모드 True\n",
    "                is_bottom = False   # 바닥에 붙어있는지를 판단\n",
    "\n",
    "    #공룡 움직이기\n",
    "    if is_go_up: dino_y -= 10.0\n",
    "    elif not is_go_up and not is_bottom: dino_y += 10.0\n",
    "\n",
    "    if is_go_up and dino_y <= JUMP_UPTO: is_go_up = False\n",
    "\n",
    "    if not is_bottom and dino_y >= dino_at_bottom:\n",
    "        is_bottom = True\n",
    "        dino_y = dino_at_bottom\n",
    "\n",
    "    pygame.display.update()\n",
    "    fps.tick(60)\n",
    "####################################################################################################"
   ]
  }
 ],
 "metadata": {
  "kernelspec": {
   "display_name": "Python 3",
   "language": "python",
   "name": "python3"
  },
  "language_info": {
   "codemirror_mode": {
    "name": "ipython",
    "version": 2
   },
   "file_extension": ".py",
   "mimetype": "text/x-python",
   "name": "python",
   "nbconvert_exporter": "python",
   "pygments_lexer": "ipython2",
   "version": "2.7.6"
  }
 },
 "nbformat": 4,
 "nbformat_minor": 0
}